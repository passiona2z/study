{
 "cells": [
  {
   "cell_type": "markdown",
   "metadata": {},
   "source": [
    "## 활성화함수"
   ]
  },
  {
   "cell_type": "code",
   "execution_count": 2,
   "metadata": {
    "id": "Tw7Ghh7_yzNw"
   },
   "outputs": [],
   "source": [
    "import numpy as np\n",
    "import matplotlib.pyplot as plt"
   ]
  },
  {
   "cell_type": "markdown",
   "metadata": {},
   "source": [
    "### 계단함수"
   ]
  },
  {
   "cell_type": "code",
   "execution_count": 5,
   "metadata": {
    "id": "gdfxh_I9zI0Y"
   },
   "outputs": [],
   "source": [
    "def step_func(x) :\n",
    "\n",
    "    y = x > 0\n",
    "    return np.array(y, dtype = int)"
   ]
  },
  {
   "cell_type": "code",
   "execution_count": 6,
   "metadata": {
    "colab": {
     "base_uri": "https://localhost:8080/",
     "height": 265
    },
    "id": "ECl_43YIzTWR",
    "outputId": "31d614ce-a1c4-42de-eac9-1a8b2f786aa8"
   },
   "outputs": [
    {
     "data": {
      "image/png": "[encoded data removed]",
      "text/plain": [
       "<Figure size 432x288 with 1 Axes>"
      ]
     },
     "metadata": {
      "needs_background": "light"
     },
     "output_type": "display_data"
    }
   ],
   "source": [
    "x = np.arange(-5., 5., 0.1)\n",
    "y = step_func(x)\n",
    "\n",
    "plt.plot(x, y)\n",
    "plt.ylim(-0.1, 1.1)\n",
    "plt.show()"
   ]
  },
  {
   "cell_type": "markdown",
   "metadata": {},
   "source": [
    "### 시그모이드 함수"
   ]
  },
  {
   "cell_type": "code",
   "execution_count": 26,
   "metadata": {
    "id": "Lw46ziRl0dgG"
   },
   "outputs": [],
   "source": [
    "def sigmoid(x):\n",
    "\n",
    "    return 1 / (1+np.exp(-x))"
   ]
  },
  {
   "cell_type": "code",
   "execution_count": 10,
   "metadata": {
    "colab": {
     "base_uri": "https://localhost:8080/"
    },
    "id": "yd8OLpGp0xIp",
    "outputId": "5c2e870a-f522-4ed1-8b13-92aaaf624ae2"
   },
   "outputs": [
    {
     "data": {
      "text/plain": [
       "array([0.26894142, 0.73105858, 0.99330715])"
      ]
     },
     "execution_count": 10,
     "metadata": {},
     "output_type": "execute_result"
    }
   ],
   "source": [
    "li = [-1., 1., 5.]\n",
    "x = np.array(li)\n",
    "\n",
    "sigmoid(x)"
   ]
  },
  {
   "cell_type": "code",
   "execution_count": 23,
   "metadata": {
    "colab": {
     "base_uri": "https://localhost:8080/",
     "height": 265
    },
    "id": "STzTm03r1Es5",
    "outputId": "720465a3-c08a-4b6c-e99c-362c5080101b"
   },
   "outputs": [
    {
     "data": {
      "image/png": "[encoded data removed]",
      "text/plain": [
       "<Figure size 432x288 with 1 Axes>"
      ]
     },
     "metadata": {
      "needs_background": "light"
     },
     "output_type": "display_data"
    }
   ],
   "source": [
    "x = np.arange(-5., 5., .1)\n",
    "y = sigmoid(x)\n",
    "\n",
    "plt.plot(x, y)\n",
    "plt.ylim(-0.1, 1.1)\n",
    "plt.plot([0,0],[-0.1,1.1], ':') # 가운데 점선 추가 \n",
    "plt.show()"
   ]
  },
  {
   "cell_type": "markdown",
   "metadata": {},
   "source": [
    "### 렐루함수"
   ]
  },
  {
   "cell_type": "code",
   "execution_count": 26,
   "metadata": {
    "id": "uPwLtv0u1zLB"
   },
   "outputs": [],
   "source": [
    "def relu(x):\n",
    "\n",
    "    return np.maximum(0, x)"
   ]
  },
  {
   "cell_type": "code",
   "execution_count": 30,
   "metadata": {},
   "outputs": [
    {
     "data": {
      "image/png": "[encoded data removed]",
      "text/plain": [
       "<Figure size 432x288 with 1 Axes>"
      ]
     },
     "metadata": {
      "needs_background": "light"
     },
     "output_type": "display_data"
    }
   ],
   "source": [
    "x = np.arange(-5., 5., .1)\n",
    "y = relu(x)\n",
    "\n",
    "plt.plot(x, y)\n",
    "plt.ylim(-0.1, 5)\n",
    "plt.plot([0,0],[-0.1,5], ':') # 가운데 점선 추가 \n",
    "plt.show()"
   ]
  },
  {
   "cell_type": "markdown",
   "metadata": {
    "id": "8VFvG11z0e_Q"
   },
   "source": [
    "## 3층 신경망 구현"
   ]
  },
  {
   "cell_type": "markdown",
   "metadata": {},
   "source": [
    "![](../image/1.png)"
   ]
  },
  {
   "cell_type": "code",
   "execution_count": 31,
   "metadata": {},
   "outputs": [],
   "source": [
    "import numpy as np\n",
    "\n",
    "def sigmoid(x):\n",
    "\n",
    "    return 1 / (1+np.exp(-x))\n",
    "\n",
    "def identity_func(x):\n",
    "    \n",
    "    return x\n",
    "\n",
    "\n",
    "def init_parameters() :\n",
    "    \n",
    "    parameters = {}  # dic\n",
    "    \n",
    "    parameters['W1'] = np.array([[0.1, 0.3, 0.5], [0.2, 0.4, 0.6]])    # 2 * 3\n",
    "    parameters['W2'] = np.array([[0.1, 0.4], [0.2, 0.5], [0.3, 0.6]])  # 3 * 2\n",
    "    parameters['W3'] = np.array([[0.1, 0.3], [0.2, 0.4]])              # 2 * 2    \n",
    "    \n",
    "    parameters['b1'] = np.array([0.1, 0.2, 0.3])       # 3    \n",
    "    parameters['b2'] = np.array([0.1, 0.2])            # 2    \n",
    "    parameters['b3'] = np.array([0.1, 0.2])            # 2    \n",
    "    \n",
    "    return parameters\n",
    "\n",
    "\n",
    "def forward(parameters, x) :\n",
    "    \n",
    "    W1, W2, W3 = parameters['W1'], parameters['W2'], parameters['W3']\n",
    "    b1, b2, b3 = parameters['b1'], parameters['b2'], parameters['b3']\n",
    "    \n",
    "    # 신경망\n",
    "    \n",
    "    # layer 1\n",
    "    a1 = np.dot(x, W1) + b1\n",
    "    z1 = sigmoid(a1)        # 시그모이드 함수\n",
    "    \n",
    "    # layer 2\n",
    "    a2 = np.dot(z1, W2) + b2\n",
    "    z2 = sigmoid(a2)\n",
    "    \n",
    "    # output layer\n",
    "    a3 = np.dot(z2, W3) + b3\n",
    "    y  = identity_func(a3)  # 항등함수\n",
    "    \n",
    "    return y"
   ]
  },
  {
   "cell_type": "code",
   "execution_count": 32,
   "metadata": {},
   "outputs": [
    {
     "name": "stdout",
     "output_type": "stream",
     "text": [
      "[0.31682708 0.69627909]\n"
     ]
    }
   ],
   "source": [
    "# 실행\n",
    "parameter = init_parameters()  \n",
    "x = np.array([1.0, 0.5])\n",
    "\n",
    "y= forward(parameter, x)\n",
    "print(y)"
   ]
  },
  {
   "cell_type": "markdown",
   "metadata": {},
   "source": [
    "## 소프트맥스 함수"
   ]
  },
  {
   "cell_type": "code",
   "execution_count": 34,
   "metadata": {},
   "outputs": [
    {
     "data": {
      "text/plain": [
       "array([ 1.34985881, 18.17414537, 54.59815003])"
      ]
     },
     "execution_count": 34,
     "metadata": {},
     "output_type": "execute_result"
    }
   ],
   "source": [
    "a = np.array([0.3, 2.9, 4.0])\n",
    "\n",
    "exp_a = np.exp(a)\n",
    "exp_a"
   ]
  },
  {
   "cell_type": "code",
   "execution_count": 35,
   "metadata": {},
   "outputs": [
    {
     "data": {
      "text/plain": [
       "74.1221542101633"
      ]
     },
     "execution_count": 35,
     "metadata": {},
     "output_type": "execute_result"
    }
   ],
   "source": [
    "sum_exp_a = np.sum(exp_a)  # 지수함수 합\n",
    "sum_exp_a"
   ]
  },
  {
   "cell_type": "code",
   "execution_count": 36,
   "metadata": {},
   "outputs": [
    {
     "name": "stdout",
     "output_type": "stream",
     "text": [
      "[0.01821127 0.24519181 0.73659691]\n"
     ]
    }
   ],
   "source": [
    "y = exp_a / sum_exp_a\n",
    "print(y)"
   ]
  },
  {
   "cell_type": "code",
   "execution_count": 25,
   "metadata": {},
   "outputs": [],
   "source": [
    "def softmax(a) :\n",
    "\n",
    "    exp_a = np.exp(a)\n",
    "    sum_exp_a = np.sum(exp_a)\n",
    "    y = exp_a / sum_exp_a\n",
    "    \n",
    "    return y"
   ]
  },
  {
   "cell_type": "code",
   "execution_count": 39,
   "metadata": {},
   "outputs": [
    {
     "data": {
      "text/plain": [
       "array([0.01821127, 0.24519181, 0.73659691])"
      ]
     },
     "execution_count": 39,
     "metadata": {},
     "output_type": "execute_result"
    }
   ],
   "source": [
    "softmax(a)"
   ]
  },
  {
   "cell_type": "markdown",
   "metadata": {},
   "source": [
    "### 오버플로 해결"
   ]
  },
  {
   "cell_type": "code",
   "execution_count": 41,
   "metadata": {},
   "outputs": [
    {
     "data": {
      "text/plain": [
       "2.0"
      ]
     },
     "execution_count": 41,
     "metadata": {},
     "output_type": "execute_result"
    }
   ],
   "source": [
    "# test\n",
    "np.exp(np.log(2))"
   ]
  },
  {
   "cell_type": "code",
   "execution_count": 42,
   "metadata": {},
   "outputs": [
    {
     "name": "stderr",
     "output_type": "stream",
     "text": [
      "/var/folders/54/1kvtx3bn6v3c82sc7wg7yvdw0000gn/T/ipykernel_28021/3651283009.py:3: RuntimeWarning: overflow encountered in exp\n",
      "  exp_a = np.exp(a)\n",
      "/var/folders/54/1kvtx3bn6v3c82sc7wg7yvdw0000gn/T/ipykernel_28021/3651283009.py:5: RuntimeWarning: invalid value encountered in true_divide\n",
      "  y = exp_a / sum_exp_a\n"
     ]
    },
    {
     "data": {
      "text/plain": [
       "array([nan, nan, nan])"
      ]
     },
     "execution_count": 42,
     "metadata": {},
     "output_type": "execute_result"
    }
   ],
   "source": [
    "# 오버플로 문제\n",
    "a = np.array([1010, 1000, 990])\n",
    "\n",
    "softmax(a)"
   ]
  },
  {
   "cell_type": "code",
   "execution_count": 44,
   "metadata": {},
   "outputs": [
    {
     "data": {
      "text/plain": [
       "array([  0, -10, -20])"
      ]
     },
     "execution_count": 44,
     "metadata": {},
     "output_type": "execute_result"
    }
   ],
   "source": [
    "# 오버플로 해결\n",
    "c = np.max(a)  # 최대값\n",
    "a - c"
   ]
  },
  {
   "cell_type": "code",
   "execution_count": 48,
   "metadata": {},
   "outputs": [
    {
     "data": {
      "text/plain": [
       "array([1., 0., 0.])"
      ]
     },
     "execution_count": 48,
     "metadata": {},
     "output_type": "execute_result"
    }
   ],
   "source": [
    "np.round(softmax(a-c), 4)"
   ]
  },
  {
   "cell_type": "code",
   "execution_count": 49,
   "metadata": {},
   "outputs": [],
   "source": [
    "# 'x - 최대값'으로 다시 구현\n",
    "\n",
    "def softmax(a) :\n",
    "\n",
    "    c = np.max(a)\n",
    "    exp_a = np.exp(a-c)\n",
    "    sum_exp_a = np.sum(exp_a)\n",
    "    y = exp_a / sum_exp_a\n",
    "    \n",
    "    return y"
   ]
  },
  {
   "cell_type": "code",
   "execution_count": 50,
   "metadata": {},
   "outputs": [
    {
     "data": {
      "text/plain": [
       "array([9.99954600e-01, 4.53978686e-05, 2.06106005e-09])"
      ]
     },
     "execution_count": 50,
     "metadata": {},
     "output_type": "execute_result"
    }
   ],
   "source": [
    "a = np.array([1010, 1000, 990])\n",
    "\n",
    "softmax(a)"
   ]
  },
  {
   "cell_type": "markdown",
   "metadata": {},
   "source": [
    "## 손글씨 숫자 인식"
   ]
  },
  {
   "cell_type": "code",
   "execution_count": 1,
   "metadata": {},
   "outputs": [],
   "source": [
    "import sys\n",
    "import os\n",
    "\n",
    "import numpy as np\n",
    "\n",
    "sys.path.append(os.pardir)  # 부모 디렉터리의 파일을 가져올 수 있도록 설정"
   ]
  },
  {
   "cell_type": "code",
   "execution_count": 2,
   "metadata": {},
   "outputs": [],
   "source": [
    "from dataset.mnist import load_mnist\n",
    "\n",
    "(x_train, y_train), (x_test, y_test) = load_mnist(flatten=True, normalize=False)"
   ]
  },
  {
   "cell_type": "code",
   "execution_count": 4,
   "metadata": {},
   "outputs": [
    {
     "data": {
      "text/plain": [
       "5"
      ]
     },
     "execution_count": 4,
     "metadata": {},
     "output_type": "execute_result"
    }
   ],
   "source": [
    "from PIL import Image\n",
    "\n",
    "def img_show(img):\n",
    "    \n",
    "    pil_image = Image.fromarray(np.uint8(img))\n",
    "    pil_image.show()\n",
    "    \n",
    "    \n",
    "img   = x_train[0]\n",
    "label = y_train[0]\n",
    "label"
   ]
  },
  {
   "cell_type": "code",
   "execution_count": 5,
   "metadata": {},
   "outputs": [
    {
     "data": {
      "text/plain": [
       "(784,)"
      ]
     },
     "execution_count": 5,
     "metadata": {},
     "output_type": "execute_result"
    }
   ],
   "source": [
    "img.shape"
   ]
  },
  {
   "cell_type": "code",
   "execution_count": 6,
   "metadata": {},
   "outputs": [
    {
     "data": {
      "text/plain": [
       "(28, 28)"
      ]
     },
     "execution_count": 6,
     "metadata": {},
     "output_type": "execute_result"
    }
   ],
   "source": [
    "img = img.reshape(28, 28)\n",
    "img.shape"
   ]
  },
  {
   "cell_type": "code",
   "execution_count": 7,
   "metadata": {},
   "outputs": [
    {
     "data": {
      "image/png": "[encoded data removed]",
      "text/plain": [
       "<Figure size 432x288 with 1 Axes>"
      ]
     },
     "metadata": {
      "needs_background": "light"
     },
     "output_type": "display_data"
    }
   ],
   "source": [
    "import matplotlib.pyplot as plt\n",
    "\n",
    "plt.imshow(img, cmap='gray')\n",
    "plt.axis('off')\n",
    "plt.show()"
   ]
  },
  {
   "cell_type": "code",
   "execution_count": 8,
   "metadata": {},
   "outputs": [],
   "source": [
    "import pickle\n",
    "\n",
    "def get_data():\n",
    "    (x_train, t_train), (x_test, t_test) = load_mnist(normalize=True, flatten=True, one_hot_label=False)\n",
    "    return x_test, t_test  # test만 반환\n",
    "\n",
    "\n",
    "def init_network():\n",
    "    with open(\"ch03/sample_weight.pkl\", 'rb') as f:\n",
    "        network = pickle.load(f)\n",
    "    return network\n",
    "\n",
    "\n",
    "def predict(network, x):\n",
    "    W1, W2, W3 = network['W1'], network['W2'], network['W3']\n",
    "    b1, b2, b3 = network['b1'], network['b2'], network['b3']\n",
    "\n",
    "    a1 = np.dot(x, W1) + b1\n",
    "    z1 = sigmoid(a1)\n",
    "    a2 = np.dot(z1, W2) + b2\n",
    "    z2 = sigmoid(a2)\n",
    "    a3 = np.dot(z2, W3) + b3\n",
    "    y = softmax(a3)\n",
    "\n",
    "    return y"
   ]
  },
  {
   "cell_type": "code",
   "execution_count": 70,
   "metadata": {},
   "outputs": [],
   "source": [
    "x, y = get_data()"
   ]
  },
  {
   "cell_type": "code",
   "execution_count": 71,
   "metadata": {},
   "outputs": [
    {
     "data": {
      "text/plain": [
       "(10000, 784)"
      ]
     },
     "execution_count": 71,
     "metadata": {},
     "output_type": "execute_result"
    }
   ],
   "source": [
    "x.shape"
   ]
  },
  {
   "cell_type": "code",
   "execution_count": 72,
   "metadata": {},
   "outputs": [
    {
     "data": {
      "text/plain": [
       "(10000,)"
      ]
     },
     "execution_count": 72,
     "metadata": {},
     "output_type": "execute_result"
    }
   ],
   "source": [
    "y.shape"
   ]
  },
  {
   "cell_type": "code",
   "execution_count": 74,
   "metadata": {},
   "outputs": [
    {
     "name": "stdout",
     "output_type": "stream",
     "text": [
      "0.9352\n"
     ]
    }
   ],
   "source": [
    "x, y = get_data()\n",
    "network = init_network()          # 가중치 가져오기\n",
    "\n",
    "\n",
    "accuracy_cnt = 0\n",
    "\n",
    "for i in range(len(x)) :\n",
    "    pred = predict(network, x[i]) # test셋 : 하나씩\n",
    "    p = np.argmax(pred)           # like softmax\n",
    "    \n",
    "    if p == y[i] :\n",
    "        accuracy_cnt += 1\n",
    "        \n",
    "\n",
    "print(accuracy_cnt/len(x))\n",
    "    "
   ]
  },
  {
   "cell_type": "markdown",
   "metadata": {},
   "source": [
    "### 배치처리"
   ]
  },
  {
   "cell_type": "code",
   "execution_count": 9,
   "metadata": {},
   "outputs": [],
   "source": [
    "x, _ = get_data()\n",
    "network = init_network()\n",
    "W1, W2, W3 = network['W1'], network['W2'], network['W3']"
   ]
  },
  {
   "cell_type": "code",
   "execution_count": 10,
   "metadata": {},
   "outputs": [
    {
     "data": {
      "text/plain": [
       "(10000, 784)"
      ]
     },
     "execution_count": 10,
     "metadata": {},
     "output_type": "execute_result"
    }
   ],
   "source": [
    "x.shape"
   ]
  },
  {
   "cell_type": "code",
   "execution_count": 11,
   "metadata": {},
   "outputs": [
    {
     "data": {
      "text/plain": [
       "(784,)"
      ]
     },
     "execution_count": 11,
     "metadata": {},
     "output_type": "execute_result"
    }
   ],
   "source": [
    "x[0].shape"
   ]
  },
  {
   "cell_type": "code",
   "execution_count": 12,
   "metadata": {},
   "outputs": [
    {
     "data": {
      "text/plain": [
       "(784, 50)"
      ]
     },
     "execution_count": 12,
     "metadata": {},
     "output_type": "execute_result"
    }
   ],
   "source": [
    "W1.shape"
   ]
  },
  {
   "cell_type": "code",
   "execution_count": 13,
   "metadata": {},
   "outputs": [
    {
     "data": {
      "text/plain": [
       "(50, 100)"
      ]
     },
     "execution_count": 13,
     "metadata": {},
     "output_type": "execute_result"
    }
   ],
   "source": [
    "W2.shape"
   ]
  },
  {
   "cell_type": "code",
   "execution_count": 14,
   "metadata": {},
   "outputs": [
    {
     "data": {
      "text/plain": [
       "(100, 10)"
      ]
     },
     "execution_count": 14,
     "metadata": {},
     "output_type": "execute_result"
    }
   ],
   "source": [
    "W3.shape"
   ]
  },
  {
   "cell_type": "code",
   "execution_count": 15,
   "metadata": {},
   "outputs": [
    {
     "name": "stdout",
     "output_type": "stream",
     "text": [
      "0\n",
      "2\n",
      "4\n",
      "6\n",
      "8\n"
     ]
    }
   ],
   "source": [
    "# test\n",
    "for i in range(0, 10, 2) :  # 세번째 : 계단\n",
    "    print(i)"
   ]
  },
  {
   "cell_type": "code",
   "execution_count": 17,
   "metadata": {},
   "outputs": [
    {
     "name": "stdout",
     "output_type": "stream",
     "text": [
      "[0, 100, 200, 300, 400, 500, 600, 700, 800, 900, 1000, 1100, 1200, 1300, 1400, 1500, 1600, 1700, 1800, 1900, 2000, 2100, 2200, 2300, 2400, 2500, 2600, 2700, 2800, 2900, 3000, 3100, 3200, 3300, 3400, 3500, 3600, 3700, 3800, 3900, 4000, 4100, 4200, 4300, 4400, 4500, 4600, 4700, 4800, 4900, 5000, 5100, 5200, 5300, 5400, 5500, 5600, 5700, 5800, 5900, 6000, 6100, 6200, 6300, 6400, 6500, 6600, 6700, 6800, 6900, 7000, 7100, 7200, 7300, 7400, 7500, 7600, 7700, 7800, 7900, 8000, 8100, 8200, 8300, 8400, 8500, 8600, 8700, 8800, 8900, 9000, 9100, 9200, 9300, 9400, 9500, 9600, 9700, 9800, 9900]\n"
     ]
    }
   ],
   "source": [
    "print([i for i in range(0, len(x), 100)])"
   ]
  },
  {
   "cell_type": "code",
   "execution_count": 19,
   "metadata": {},
   "outputs": [
    {
     "data": {
      "text/plain": [
       "array([7, 2, 1, ..., 4, 5, 6], dtype=uint8)"
      ]
     },
     "execution_count": 19,
     "metadata": {},
     "output_type": "execute_result"
    }
   ],
   "source": [
    "x, y = get_data()\n",
    "y"
   ]
  },
  {
   "cell_type": "code",
   "execution_count": 23,
   "metadata": {},
   "outputs": [
    {
     "data": {
      "text/plain": [
       "(array([4, 0]), (2,))"
      ]
     },
     "execution_count": 23,
     "metadata": {},
     "output_type": "execute_result"
    }
   ],
   "source": [
    "np.argmax(np.array([[1,2,3,4,5], [5,4,3,2,1]]), axis=1), np.argmax(np.array([[1,2,3,4,5], [5,4,3,2,1]]), axis=1).shape"
   ]
  },
  {
   "cell_type": "code",
   "execution_count": 29,
   "metadata": {},
   "outputs": [
    {
     "name": "stdout",
     "output_type": "stream",
     "text": [
      "0.9352\n"
     ]
    }
   ],
   "source": [
    "x, y = get_data()\n",
    "network = init_network()          # 가중치 가져오기\n",
    "\n",
    "\n",
    "batch_size   = 100               # 배치사이즈\n",
    "accuracy_cnt = 0\n",
    "\n",
    "for i in range(0, len(x), 100) :\n",
    "\n",
    "    \n",
    "    x_batch = x[i:i+batch_size]\n",
    "    pred_batch = predict(network, x_batch)  # test셋 : 배치만큼\n",
    "    \n",
    "    p = np.argmax(pred_batch, axis=1)             # like softmax : (중요) axis = 1 > 열기준 \n",
    "    \n",
    "    accuracy_cnt += np.sum(p == y[i:i+batch_size])\n",
    "        \n",
    "\n",
    "print(accuracy_cnt/len(x))"
   ]
  },
  {
   "cell_type": "markdown",
   "metadata": {},
   "source": [
    "## 손실함수"
   ]
  },
  {
   "cell_type": "markdown",
   "metadata": {},
   "source": [
    "### SSE : 오차제곱합"
   ]
  },
  {
   "cell_type": "code",
   "execution_count": 36,
   "metadata": {},
   "outputs": [
    {
     "name": "stdout",
     "output_type": "stream",
     "text": [
      "2\n"
     ]
    }
   ],
   "source": [
    "m = 2\n",
    "print(f'{m}')"
   ]
  },
  {
   "cell_type": "code",
   "execution_count": 37,
   "metadata": {},
   "outputs": [],
   "source": [
    "def sse(pred, y) :\n",
    "    \n",
    "    return 0.5 * np.sum((pred-y)**2)"
   ]
  },
  {
   "cell_type": "code",
   "execution_count": 44,
   "metadata": {},
   "outputs": [
    {
     "name": "stdout",
     "output_type": "stream",
     "text": [
      "ex1: 0.09750000000000003\n",
      "ex2: 0.5975\n"
     ]
    }
   ],
   "source": [
    "# 정답은 '2'\n",
    "y = [0, 0, 1, 0, 0, 0, 0, 0, 0, 0]\n",
    "\n",
    "# ex1 '2'일 확률이 가장 높다고 추정함(0.6)\n",
    "pred = [0.1, 0.05, 0.6, 0.0, 0.05, 0.1, 0.0, 0.1, 0.0, 0.0]\n",
    "\n",
    "mse = sse(np.array(pred), np.array(y))\n",
    "print(f'ex1: {mse}')  \n",
    "\n",
    "\n",
    "# ex2 '7'일 확률이 가장 높다고 추정함(0.6)\n",
    "pred = [0.1, 0.05, 0.1, 0.0, 0.05, 0.1, 0.0, 0.6, 0.0, 0.0]\n",
    "mse = sse(np.array(pred), np.array(y))\n",
    "print(f'ex2: {mse}') "
   ]
  },
  {
   "cell_type": "markdown",
   "metadata": {},
   "source": [
    "### CEE: 크로스 엔트로피"
   ]
  },
  {
   "cell_type": "code",
   "execution_count": 65,
   "metadata": {},
   "outputs": [],
   "source": [
    "def cee(pred, target) :\n",
    "    \n",
    "    delta = 1e-7\n",
    "    return -np.sum(target * np.log(pred+delta))"
   ]
  },
  {
   "cell_type": "code",
   "execution_count": 55,
   "metadata": {},
   "outputs": [
    {
     "data": {
      "text/plain": [
       "-0.0"
      ]
     },
     "execution_count": 55,
     "metadata": {},
     "output_type": "execute_result"
    }
   ],
   "source": [
    "np.round(cee(np.array([0., 1.]), np.array([0., 1.])), 3)"
   ]
  },
  {
   "cell_type": "code",
   "execution_count": 67,
   "metadata": {},
   "outputs": [
    {
     "name": "stdout",
     "output_type": "stream",
     "text": [
      "0.510825457099338\n",
      "2.302584092994546\n"
     ]
    }
   ],
   "source": [
    "target = [0, 0, 1, 0, 0, 0, 0, 0, 0, 0]\n",
    "pred = [0.1, 0.05, 0.6, 0.0, 0.05, 0.1, 0.0, 0.1, 0.0, 0.0]\n",
    "\n",
    "e = cee(np.array(pred), np.array(target))\n",
    "print(e)  # 0.510825457099\n",
    "\n",
    "pred = [0.1, 0.05, 0.1, 0.0, 0.05, 0.1, 0.0, 0.6, 0.0, 0.0]\n",
    "cee = cee(np.array(pred), np.array(target))\n",
    "\n",
    "print(cee)  # 2.30258409299"
   ]
  },
  {
   "cell_type": "markdown",
   "metadata": {},
   "source": [
    "## 미니배치학습"
   ]
  },
  {
   "cell_type": "code",
   "execution_count": 72,
   "metadata": {},
   "outputs": [
    {
     "name": "stdout",
     "output_type": "stream",
     "text": [
      "(60000, 784)\n",
      "(60000,)\n"
     ]
    }
   ],
   "source": [
    "import numpy as np\n",
    "import sys\n",
    "import os\n",
    "sys.path.append(os.pardir)\n",
    "from dataset.mnist import load_mnist\n",
    "\n",
    "\n",
    "(x_train, y_train), (x_test, y_test) = load_mnist(normalize=True, one_hot_label=False)\n",
    "\n",
    "print(x_train.shape)  # (60000, 784)\n",
    "print(y_train.shape)  # 원-핫 인코딩 된 정답 레이블 (60000, 10)"
   ]
  },
  {
   "cell_type": "code",
   "execution_count": 71,
   "metadata": {},
   "outputs": [
    {
     "data": {
      "text/plain": [
       "array([48062, 21154, 38147, 54032,  2549,  8073, 18358, 56719, 25755,\n",
       "       24996])"
      ]
     },
     "execution_count": 71,
     "metadata": {},
     "output_type": "execute_result"
    }
   ],
   "source": [
    "# test\n",
    "np.random.choice(60000, 10)"
   ]
  },
  {
   "cell_type": "code",
   "execution_count": 74,
   "metadata": {},
   "outputs": [
    {
     "data": {
      "text/plain": [
       "60000"
      ]
     },
     "execution_count": 74,
     "metadata": {},
     "output_type": "execute_result"
    }
   ],
   "source": [
    "x_train.shape[0]"
   ]
  },
  {
   "cell_type": "code",
   "execution_count": 77,
   "metadata": {},
   "outputs": [],
   "source": [
    "train_size = x_train.shape[0]\n",
    "batch_size = 10\n",
    "\n",
    "batch_index = np.random.choice(train_size, batch_size)\n",
    "\n",
    "# x_train[batch_index].shape\n",
    "x_train_batch = x_train[batch_index]\n",
    "y_train_batch = y_train[batch_index]"
   ]
  },
  {
   "cell_type": "code",
   "execution_count": 78,
   "metadata": {},
   "outputs": [
    {
     "data": {
      "text/plain": [
       "((10, 784), (10,))"
      ]
     },
     "execution_count": 78,
     "metadata": {},
     "output_type": "execute_result"
    }
   ],
   "source": [
    "x_train_batch.shape, y_train_batch.shape"
   ]
  },
  {
   "cell_type": "code",
   "execution_count": 79,
   "metadata": {},
   "outputs": [
    {
     "data": {
      "text/plain": [
       "2"
      ]
     },
     "execution_count": 79,
     "metadata": {},
     "output_type": "execute_result"
    }
   ],
   "source": [
    "x_train_batch.ndim"
   ]
  },
  {
   "cell_type": "code",
   "execution_count": 84,
   "metadata": {},
   "outputs": [
    {
     "data": {
      "text/plain": [
       "1"
      ]
     },
     "execution_count": 84,
     "metadata": {},
     "output_type": "execute_result"
    }
   ],
   "source": [
    "y_train_batch.ndim"
   ]
  },
  {
   "cell_type": "markdown",
   "metadata": {},
   "source": [
    "### 교차 엔트로피"
   ]
  },
  {
   "cell_type": "markdown",
   "metadata": {},
   "source": [
    "- target : 원핫인코딩"
   ]
  },
  {
   "cell_type": "code",
   "execution_count": 102,
   "metadata": {},
   "outputs": [],
   "source": [
    "def cee(pred, target) :\n",
    "    \n",
    "    delta = 1e-7\n",
    "    \n",
    "    # train set : 1차원일 경우 > 아래 batch_size 변수와 연동\n",
    "    \n",
    "    if pred.ndim == 1 :\n",
    "        \n",
    "        # target = target.reshape(1, target.size)        \n",
    "        pred   = pred.reshape(1, pred.size)\n",
    "\n",
    "        print(target, pred)\n",
    "            \n",
    "    batch_size = pred.shape[0]  \n",
    "    \n",
    "    \n",
    "    return -np.sum(target * np.log(pred+delta)) / batch_size"
   ]
  },
  {
   "cell_type": "code",
   "execution_count": 156,
   "metadata": {},
   "outputs": [
    {
     "name": "stdout",
     "output_type": "stream",
     "text": [
      "[0 1] [[0. 1.]]\n"
     ]
    },
    {
     "data": {
      "text/plain": [
       "-9.999999505838704e-08"
      ]
     },
     "execution_count": 156,
     "metadata": {},
     "output_type": "execute_result"
    }
   ],
   "source": [
    "cee(np.array([0., 1.]), np.array([0, 1]))"
   ]
  },
  {
   "cell_type": "markdown",
   "metadata": {},
   "source": [
    "- target : 숫자레이블 > np.arange 활용 > 인덱싱"
   ]
  },
  {
   "cell_type": "code",
   "execution_count": 112,
   "metadata": {},
   "outputs": [
    {
     "name": "stdout",
     "output_type": "stream",
     "text": [
      "[array([0, 1]), array([0, 1])]\n",
      "[100 100]\n"
     ]
    }
   ],
   "source": [
    "# ex\n",
    "print([np.arange(2), np.array([0,1])])\n",
    "print(np.array([[100,1],[1,100]])[np.arange(2), np.array([0,1])])"
   ]
  },
  {
   "cell_type": "code",
   "execution_count": 160,
   "metadata": {},
   "outputs": [],
   "source": [
    "def cee_label(pred, target) :\n",
    "    \n",
    "    delta = 1e-7\n",
    "    \n",
    "    # train set : 1차원일 경우 > 아래 batch_size 변수와 연동\n",
    "    \n",
    "    if pred.ndim == 1 :\n",
    "        \n",
    "        # target = target.reshape(1, target.size)        \n",
    "        pred   = pred.reshape(1, pred.size)\n",
    "\n",
    "        print(target, pred)\n",
    "            \n",
    "    batch_size = pred.shape[0]  \n",
    "    \n",
    "    index = np.arange(batch_size), target # target : label\n",
    "    \n",
    "    \n",
    "    return - np.sum(np.log(pred[index]) + delta) / batch_size"
   ]
  },
  {
   "cell_type": "code",
   "execution_count": 162,
   "metadata": {},
   "outputs": [
    {
     "data": {
      "text/plain": [
       "-1e-07"
      ]
     },
     "execution_count": 162,
     "metadata": {},
     "output_type": "execute_result"
    }
   ],
   "source": [
    "cee_label(np.array([[0., 1.], [1., 0.]]), np.array([1, 0]))"
   ]
  },
  {
   "cell_type": "markdown",
   "metadata": {},
   "source": [
    "## 수치미분"
   ]
  },
  {
   "cell_type": "code",
   "execution_count": 16,
   "metadata": {},
   "outputs": [],
   "source": [
    "def num_diff(f, x) : # f : 함수\n",
    "    \n",
    "    h = 1e-4  # 10^-4\n",
    "    \n",
    "    return (f(x+h) - f(x-h)) / (2*h)"
   ]
  },
  {
   "cell_type": "markdown",
   "metadata": {},
   "source": [
    "y = 0.01 * x^2 + 0.1 * x"
   ]
  },
  {
   "cell_type": "code",
   "execution_count": 1,
   "metadata": {},
   "outputs": [],
   "source": [
    "def func_1(x) :\n",
    "    \n",
    "    return 0.01*x**2 + 0.1*x"
   ]
  },
  {
   "cell_type": "code",
   "execution_count": 2,
   "metadata": {},
   "outputs": [
    {
     "data": {
      "text/plain": [
       "0.24000000000000002"
      ]
     },
     "execution_count": 2,
     "metadata": {},
     "output_type": "execute_result"
    }
   ],
   "source": [
    "func_1(2)"
   ]
  },
  {
   "cell_type": "code",
   "execution_count": 7,
   "metadata": {},
   "outputs": [
    {
     "data": {
      "image/png": "[encoded data removed]",
      "text/plain": [
       "<Figure size 432x288 with 1 Axes>"
      ]
     },
     "metadata": {
      "needs_background": "light"
     },
     "output_type": "display_data"
    }
   ],
   "source": [
    "import numpy as np\n",
    "import matplotlib.pyplot as plt\n",
    "\n",
    "x = np.arange(0., 20., 0.1)\n",
    "y = func_1(x)\n",
    "\n",
    "plt.xlabel(\"x\")\n",
    "plt.ylabel(\"f(x)\")\n",
    "\n",
    "plt.plot(x, y)\n",
    "plt.show()"
   ]
  },
  {
   "cell_type": "code",
   "execution_count": 8,
   "metadata": {},
   "outputs": [
    {
     "name": "stdout",
     "output_type": "stream",
     "text": [
      "[ 0.   0.1  0.2  0.3  0.4  0.5  0.6  0.7  0.8  0.9  1.   1.1  1.2  1.3\n",
      "  1.4  1.5  1.6  1.7  1.8  1.9  2.   2.1  2.2  2.3  2.4  2.5  2.6  2.7\n",
      "  2.8  2.9  3.   3.1  3.2  3.3  3.4  3.5  3.6  3.7  3.8  3.9  4.   4.1\n",
      "  4.2  4.3  4.4  4.5  4.6  4.7  4.8  4.9  5.   5.1  5.2  5.3  5.4  5.5\n",
      "  5.6  5.7  5.8  5.9  6.   6.1  6.2  6.3  6.4  6.5  6.6  6.7  6.8  6.9\n",
      "  7.   7.1  7.2  7.3  7.4  7.5  7.6  7.7  7.8  7.9  8.   8.1  8.2  8.3\n",
      "  8.4  8.5  8.6  8.7  8.8  8.9  9.   9.1  9.2  9.3  9.4  9.5  9.6  9.7\n",
      "  9.8  9.9 10.  10.1 10.2 10.3 10.4 10.5 10.6 10.7 10.8 10.9 11.  11.1\n",
      " 11.2 11.3 11.4 11.5 11.6 11.7 11.8 11.9 12.  12.1 12.2 12.3 12.4 12.5\n",
      " 12.6 12.7 12.8 12.9 13.  13.1 13.2 13.3 13.4 13.5 13.6 13.7 13.8 13.9\n",
      " 14.  14.1 14.2 14.3 14.4 14.5 14.6 14.7 14.8 14.9 15.  15.1 15.2 15.3\n",
      " 15.4 15.5 15.6 15.7 15.8 15.9 16.  16.1 16.2 16.3 16.4 16.5 16.6 16.7\n",
      " 16.8 16.9 17.  17.1 17.2 17.3 17.4 17.5 17.6 17.7 17.8 17.9 18.  18.1\n",
      " 18.2 18.3 18.4 18.5 18.6 18.7 18.8 18.9 19.  19.1 19.2 19.3 19.4 19.5\n",
      " 19.6 19.7 19.8 19.9]\n"
     ]
    }
   ],
   "source": [
    "# np.arange(0., 20., 0.1)  : np.arange\n",
    "print(x)"
   ]
  },
  {
   "cell_type": "code",
   "execution_count": 17,
   "metadata": {},
   "outputs": [
    {
     "data": {
      "text/plain": [
       "0.1999999999990898"
      ]
     },
     "execution_count": 17,
     "metadata": {},
     "output_type": "execute_result"
    }
   ],
   "source": [
    "num_diff(func_1, 5)"
   ]
  },
  {
   "cell_type": "code",
   "execution_count": 18,
   "metadata": {},
   "outputs": [
    {
     "data": {
      "text/plain": [
       "<function __main__.func_1(x)>"
      ]
     },
     "execution_count": 18,
     "metadata": {},
     "output_type": "execute_result"
    }
   ],
   "source": [
    "# test\n",
    "func_1"
   ]
  },
  {
   "cell_type": "code",
   "execution_count": 19,
   "metadata": {},
   "outputs": [
    {
     "data": {
      "text/plain": [
       "0.2999999999986347"
      ]
     },
     "execution_count": 19,
     "metadata": {},
     "output_type": "execute_result"
    }
   ],
   "source": [
    "num_diff(func_1, 10)"
   ]
  },
  {
   "cell_type": "code",
   "execution_count": 20,
   "metadata": {},
   "outputs": [],
   "source": [
    "def func_2(x) :\n",
    "    \n",
    "    return np.sum(x ** 2)"
   ]
  },
  {
   "cell_type": "code",
   "execution_count": 21,
   "metadata": {},
   "outputs": [
    {
     "data": {
      "text/plain": [
       "5.0"
      ]
     },
     "execution_count": 21,
     "metadata": {},
     "output_type": "execute_result"
    }
   ],
   "source": [
    "# ex\n",
    "x = np.array([1., 2.])\n",
    "\n",
    "func_2(x)"
   ]
  },
  {
   "cell_type": "markdown",
   "metadata": {},
   "source": [
    "## 편미분"
   ]
  },
  {
   "cell_type": "code",
   "execution_count": 23,
   "metadata": {},
   "outputs": [
    {
     "data": {
      "text/plain": [
       "6.00000000000378"
      ]
     },
     "execution_count": 23,
     "metadata": {},
     "output_type": "execute_result"
    }
   ],
   "source": [
    "def func_tmp_1(x0) :\n",
    "\n",
    "    return x0*x0 + 4.0**2.0 \n",
    "    \n",
    "\n",
    "num_diff(func_tmp_1, 3.0)  # (해석적 미분) 2 * x0, 상수 > 0 "
   ]
  },
  {
   "cell_type": "code",
   "execution_count": 24,
   "metadata": {},
   "outputs": [
    {
     "data": {
      "text/plain": [
       "7.999999999999119"
      ]
     },
     "execution_count": 24,
     "metadata": {},
     "output_type": "execute_result"
    }
   ],
   "source": [
    "def func_tmp_2(x1) :\n",
    "\n",
    "    return 3.0 ** 2.0 + x1*x1 \n",
    "    \n",
    "\n",
    "num_diff(func_tmp_2, 4.0) # (해석적 미분) 2 * x0, 상수 > 0 "
   ]
  },
  {
   "cell_type": "markdown",
   "metadata": {},
   "source": [
    "### 편미분 벡터 : gradient"
   ]
  },
  {
   "cell_type": "code",
   "execution_count": 37,
   "metadata": {},
   "outputs": [],
   "source": [
    "def num_grad(f, x) :\n",
    "    \n",
    "    h = 1e-4\n",
    "    grad = np.zeros_like(x)  # 초기화\n",
    "    \n",
    "    for index in range(x.shape[0]) :\n",
    "        \n",
    "        tmp_val = x[index]\n",
    "        \n",
    "        # f(x+h)\n",
    "        x[index] = tmp_val + h\n",
    "        fxh1 = f(x)\n",
    "        \n",
    "        # print(x)\n",
    "        \n",
    "        x[index] = tmp_val - h\n",
    "        fxh2 = f(x)\n",
    "        \n",
    "        # print(x)\n",
    "        \n",
    "        grad[index] = (fxh1 - fxh2) / (2*h)\n",
    "        \n",
    "        x[index] = tmp_val  # 원복\n",
    "        \n",
    "        # print(x)\n",
    "        \n",
    "    return grad\n",
    "    "
   ]
  },
  {
   "cell_type": "code",
   "execution_count": 29,
   "metadata": {},
   "outputs": [
    {
     "name": "stdout",
     "output_type": "stream",
     "text": [
      "[3.0001 4.    ]\n",
      "[2.9999 4.    ]\n",
      "[3. 4.]\n",
      "[3.     4.0001]\n",
      "[3.     3.9999]\n",
      "[3. 4.]\n"
     ]
    },
    {
     "data": {
      "text/plain": [
       "array([6., 8.])"
      ]
     },
     "execution_count": 29,
     "metadata": {},
     "output_type": "execute_result"
    }
   ],
   "source": [
    "num_grad(func_2, np.array([3., 4.]))"
   ]
  },
  {
   "cell_type": "markdown",
   "metadata": {},
   "source": [
    "## 경사하강법"
   ]
  },
  {
   "cell_type": "code",
   "execution_count": 38,
   "metadata": {},
   "outputs": [],
   "source": [
    "def grad_descent(f, init_x, lr=0.01, step_num=100) :\n",
    "    \n",
    "    x = init_x\n",
    "    \n",
    "    for i in range(step_num) :\n",
    "        \n",
    "        grad = num_grad(f, x)\n",
    "        print(f'grad : {grad}')\n",
    "        \n",
    "        x -= lr * grad  # update\n",
    "        print(f'x : {x}')\n",
    "        \n",
    "    return x  # 최소값일때 x 리턴"
   ]
  },
  {
   "cell_type": "code",
   "execution_count": 39,
   "metadata": {},
   "outputs": [
    {
     "name": "stdout",
     "output_type": "stream",
     "text": [
      "grad : [-6.  8.]\n",
      "x : [-2.4  3.2]\n",
      "grad : [-4.8  6.4]\n",
      "x : [-1.92  2.56]\n",
      "grad : [-3.84  5.12]\n",
      "x : [-1.536  2.048]\n",
      "grad : [-3.072  4.096]\n",
      "x : [-1.2288  1.6384]\n",
      "grad : [-2.4576  3.2768]\n",
      "x : [-0.98304  1.31072]\n",
      "grad : [-1.96608  2.62144]\n",
      "x : [-0.786432  1.048576]\n",
      "grad : [-1.572864  2.097152]\n",
      "x : [-0.6291456  0.8388608]\n",
      "grad : [-1.2582912  1.6777216]\n",
      "x : [-0.50331648  0.67108864]\n",
      "grad : [-1.00663296  1.34217728]\n",
      "x : [-0.40265318  0.53687091]\n",
      "grad : [-0.80530637  1.07374182]\n",
      "x : [-0.32212255  0.42949673]\n",
      "grad : [-0.64424509  0.85899346]\n",
      "x : [-0.25769804  0.34359738]\n",
      "grad : [-0.51539608  0.68719477]\n",
      "x : [-0.20615843  0.27487791]\n",
      "grad : [-0.41231686  0.54975581]\n",
      "x : [-0.16492674  0.21990233]\n",
      "grad : [-0.32985349  0.43980465]\n",
      "x : [-0.1319414   0.17592186]\n",
      "grad : [-0.26388279  0.35184372]\n",
      "x : [-0.10555312  0.14073749]\n",
      "grad : [-0.21110623  0.28147498]\n",
      "x : [-0.08444249  0.11258999]\n",
      "grad : [-0.16888499  0.22517998]\n",
      "x : [-0.06755399  0.09007199]\n",
      "grad : [-0.13510799  0.18014399]\n",
      "x : [-0.0540432   0.07205759]\n",
      "grad : [-0.10808639  0.14411519]\n",
      "x : [-0.04323456  0.05764608]\n",
      "grad : [-0.08646911  0.11529215]\n",
      "x : [-0.03458765  0.04611686]\n",
      "grad : [-0.06917529  0.09223372]\n",
      "x : [-0.02767012  0.03689349]\n",
      "grad : [-0.05534023  0.07378698]\n",
      "x : [-0.02213609  0.02951479]\n",
      "grad : [-0.04427219  0.05902958]\n",
      "x : [-0.01770887  0.02361183]\n",
      "grad : [-0.03541775  0.04722366]\n",
      "x : [-0.0141671   0.01888947]\n",
      "grad : [-0.0283342   0.03777893]\n",
      "x : [-0.01133368  0.01511157]\n",
      "grad : [-0.02266736  0.03022315]\n",
      "x : [-0.00906694  0.01208926]\n",
      "grad : [-0.01813389  0.02417852]\n",
      "x : [-0.00725355  0.00967141]\n",
      "grad : [-0.01450711  0.01934281]\n",
      "x : [-0.00580284  0.00773713]\n",
      "grad : [-0.01160569  0.01547425]\n",
      "x : [-0.00464228  0.0061897 ]\n",
      "grad : [-0.00928455  0.0123794 ]\n",
      "x : [-0.00371382  0.00495176]\n",
      "grad : [-0.00742764  0.00990352]\n",
      "x : [-0.00297106  0.00396141]\n",
      "grad : [-0.00594211  0.00792282]\n",
      "x : [-0.00237684  0.00316913]\n",
      "grad : [-0.00475369  0.00633825]\n",
      "x : [-0.00190148  0.0025353 ]\n",
      "grad : [-0.00380295  0.0050706 ]\n",
      "x : [-0.00152118  0.00202824]\n",
      "grad : [-0.00304236  0.00405648]\n",
      "x : [-0.00121694  0.00162259]\n",
      "grad : [-0.00243389  0.00324519]\n",
      "x : [-0.00097356  0.00129807]\n",
      "grad : [-0.00194711  0.00259615]\n",
      "x : [-0.00077884  0.00103846]\n",
      "grad : [-0.00155769  0.00207692]\n",
      "x : [-0.00062308  0.00083077]\n",
      "grad : [-0.00124615  0.00166153]\n",
      "x : [-0.00049846  0.00066461]\n",
      "grad : [-0.00099692  0.00132923]\n",
      "x : [-0.00039877  0.00053169]\n",
      "grad : [-0.00079754  0.00106338]\n",
      "x : [-0.00031901  0.00042535]\n",
      "grad : [-0.00063803  0.00085071]\n",
      "x : [-0.00025521  0.00034028]\n",
      "grad : [-0.00051042  0.00068056]\n",
      "x : [-0.00020417  0.00027223]\n",
      "grad : [-0.00040834  0.00054445]\n",
      "x : [-0.00016334  0.00021778]\n",
      "grad : [-0.00032667  0.00043556]\n",
      "x : [-0.00013067  0.00017422]\n",
      "grad : [-0.00026134  0.00034845]\n",
      "x : [-0.00010453  0.00013938]\n",
      "grad : [-0.00020907  0.00027876]\n",
      "x : [-8.36277945e-05  1.11503726e-04]\n",
      "grad : [-0.00016726  0.00022301]\n",
      "x : [-6.69022356e-05  8.92029808e-05]\n",
      "grad : [-0.0001338   0.00017841]\n",
      "x : [-5.35217885e-05  7.13623846e-05]\n",
      "grad : [-0.00010704  0.00014272]\n",
      "x : [-4.28174308e-05  5.70899077e-05]\n",
      "grad : [-8.56348616e-05  1.14179815e-04]\n",
      "x : [-3.42539446e-05  4.56719262e-05]\n",
      "grad : [-6.85078892e-05  9.13438523e-05]\n",
      "x : [-2.74031557e-05  3.65375409e-05]\n",
      "grad : [-5.48063114e-05  7.30750819e-05]\n",
      "x : [-2.19225246e-05  2.92300327e-05]\n",
      "grad : [-4.38450491e-05  5.84600655e-05]\n",
      "x : [-1.75380196e-05  2.33840262e-05]\n",
      "grad : [-3.50760393e-05  4.67680524e-05]\n",
      "x : [-1.40304157e-05  1.87072210e-05]\n",
      "grad : [-2.80608314e-05  3.74144419e-05]\n",
      "x : [-1.12243326e-05  1.49657768e-05]\n",
      "grad : [-2.24486651e-05  2.99315535e-05]\n",
      "x : [-8.97946606e-06  1.19726214e-05]\n",
      "grad : [-1.79589321e-05  2.39452428e-05]\n",
      "x : [-7.18357285e-06  9.57809713e-06]\n",
      "grad : [-1.43671457e-05  1.91561943e-05]\n",
      "x : [-5.74685828e-06  7.66247770e-06]\n",
      "grad : [-1.14937166e-05  1.53249554e-05]\n",
      "x : [-4.59748662e-06  6.12998216e-06]\n",
      "grad : [-9.19497325e-06  1.22599643e-05]\n",
      "x : [-3.67798930e-06  4.90398573e-06]\n",
      "grad : [-7.35597860e-06  9.80797146e-06]\n",
      "x : [-2.94239144e-06  3.92318858e-06]\n",
      "grad : [-5.88478288e-06  7.84637717e-06]\n",
      "x : [-2.35391315e-06  3.13855087e-06]\n",
      "grad : [-4.70782630e-06  6.27710174e-06]\n",
      "x : [-1.88313052e-06  2.51084069e-06]\n",
      "grad : [-3.76626104e-06  5.02168139e-06]\n",
      "x : [-1.50650442e-06  2.00867256e-06]\n",
      "grad : [-3.01300883e-06  4.01734511e-06]\n",
      "x : [-1.20520353e-06  1.60693804e-06]\n",
      "grad : [-2.41040707e-06  3.21387609e-06]\n",
      "x : [-9.64162827e-07  1.28555044e-06]\n",
      "grad : [-1.92832565e-06  2.57110087e-06]\n",
      "x : [-7.71330261e-07  1.02844035e-06]\n",
      "grad : [-1.54266052e-06  2.05688070e-06]\n",
      "x : [-6.17064209e-07  8.22752279e-07]\n",
      "grad : [-1.23412842e-06  1.64550456e-06]\n",
      "x : [-4.93651367e-07  6.58201823e-07]\n",
      "grad : [-9.87302734e-07  1.31640365e-06]\n",
      "x : [-3.94921094e-07  5.26561458e-07]\n",
      "grad : [-7.89842188e-07  1.05312292e-06]\n",
      "x : [-3.15936875e-07  4.21249167e-07]\n",
      "grad : [-6.31873750e-07  8.42498333e-07]\n",
      "x : [-2.52749500e-07  3.36999333e-07]\n",
      "grad : [-5.05499000e-07  6.73998667e-07]\n",
      "x : [-2.02199600e-07  2.69599467e-07]\n",
      "grad : [-4.04399200e-07  5.39198933e-07]\n",
      "x : [-1.61759680e-07  2.15679573e-07]\n",
      "grad : [-3.23519360e-07  4.31359147e-07]\n",
      "x : [-1.29407744e-07  1.72543659e-07]\n",
      "grad : [-2.58815488e-07  3.45087317e-07]\n",
      "x : [-1.03526195e-07  1.38034927e-07]\n",
      "grad : [-2.07052390e-07  2.76069854e-07]\n",
      "x : [-8.28209562e-08  1.10427942e-07]\n",
      "grad : [-1.65641912e-07  2.20855883e-07]\n",
      "x : [-6.62567649e-08  8.83423532e-08]\n",
      "grad : [-1.32513530e-07  1.76684706e-07]\n",
      "x : [-5.30054119e-08  7.06738826e-08]\n",
      "grad : [-1.06010824e-07  1.41347765e-07]\n",
      "x : [-4.24043296e-08  5.65391061e-08]\n",
      "grad : [-8.48086591e-08  1.13078212e-07]\n",
      "x : [-3.39234636e-08  4.52312849e-08]\n",
      "grad : [-6.78469273e-08  9.04625697e-08]\n",
      "x : [-2.71387709e-08  3.61850279e-08]\n",
      "grad : [-5.42775418e-08  7.23700558e-08]\n",
      "x : [-2.17110167e-08  2.89480223e-08]\n",
      "grad : [-4.34220335e-08  5.78960446e-08]\n",
      "x : [-1.73688134e-08  2.31584178e-08]\n",
      "grad : [-3.47376268e-08  4.63168357e-08]\n",
      "x : [-1.38950507e-08  1.85267343e-08]\n",
      "grad : [-2.77901014e-08  3.70534686e-08]\n",
      "x : [-1.11160406e-08  1.48213874e-08]\n",
      "grad : [-2.22320811e-08  2.96427748e-08]\n",
      "x : [-8.89283245e-09  1.18571099e-08]\n",
      "grad : [-1.77856649e-08  2.37142199e-08]\n",
      "x : [-7.11426596e-09  9.48568795e-09]\n",
      "grad : [-1.42285319e-08  1.89713759e-08]\n",
      "x : [-5.69141277e-09  7.58855036e-09]\n",
      "grad : [-1.13828255e-08  1.51771007e-08]\n",
      "x : [-4.55313022e-09  6.07084029e-09]\n",
      "grad : [-9.10626043e-09  1.21416806e-08]\n",
      "x : [-3.64250417e-09  4.85667223e-09]\n",
      "grad : [-7.28500835e-09  9.71334446e-09]\n",
      "x : [-2.91400334e-09  3.88533778e-09]\n",
      "grad : [-5.82800668e-09  7.77067557e-09]\n",
      "x : [-2.33120267e-09  3.10827023e-09]\n",
      "grad : [-4.66240534e-09  6.21654046e-09]\n",
      "x : [-1.86496214e-09  2.48661618e-09]\n",
      "grad : [-3.72992427e-09  4.97323236e-09]\n",
      "x : [-1.49196971e-09  1.98929295e-09]\n",
      "grad : [-2.98393942e-09  3.97858589e-09]\n",
      "x : [-1.19357577e-09  1.59143436e-09]\n",
      "grad : [-2.38715153e-09  3.18286871e-09]\n",
      "x : [-9.54860614e-10  1.27314749e-09]\n",
      "grad : [-1.90972123e-09  2.54629497e-09]\n",
      "x : [-7.63888491e-10  1.01851799e-09]\n",
      "grad : [-1.52777698e-09  2.03703598e-09]\n",
      "x : [-6.11110793e-10  8.14814391e-10]\n"
     ]
    },
    {
     "data": {
      "text/plain": [
       "array([-6.11110793e-10,  8.14814391e-10])"
      ]
     },
     "execution_count": 39,
     "metadata": {},
     "output_type": "execute_result"
    }
   ],
   "source": [
    "init_x = np.array([-3., 4.])\n",
    "grad_descent(func_2, init_x, lr=0.1)"
   ]
  },
  {
   "cell_type": "code",
   "execution_count": 43,
   "metadata": {},
   "outputs": [
    {
     "data": {
      "text/plain": [
       "array([-0.,  0.])"
      ]
     },
     "execution_count": 43,
     "metadata": {},
     "output_type": "execute_result"
    }
   ],
   "source": [
    "np.round([-6.11110793e-10, 8.14814391e-10], 3)"
   ]
  },
  {
   "cell_type": "code",
   "execution_count": null,
   "metadata": {},
   "outputs": [],
   "source": []
  }
 ],
 "metadata": {
  "colab": {
   "collapsed_sections": [],
   "name": "Deeplearning_from_scratch.ipynb",
   "provenance": []
  },
  "kernelspec": {
   "display_name": "Python 3 (ipykernel)",
   "language": "python",
   "name": "python3"
  },
  "language_info": {
   "codemirror_mode": {
    "name": "ipython",
    "version": 3
   },
   "file_extension": ".py",
   "mimetype": "text/x-python",
   "name": "python",
   "nbconvert_exporter": "python",
   "pygments_lexer": "ipython3",
   "version": "3.9.12"
  }
 },
 "nbformat": 4,
 "nbformat_minor": 4
}
