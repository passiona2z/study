{
 "cells": [
  {
   "cell_type": "markdown",
   "metadata": {
    "id": "LiAYcSDVpeOs",
    "tags": []
   },
   "source": [
    "### 파이토치 기본구성"
   ]
  },
  {
   "cell_type": "markdown",
   "metadata": {},
   "source": [
    "1. torch\n",
    "      - 메인 네임스페이스\n",
    "2. torch.autograd\n",
    "      - 미분을 위한 함수 포함\n",
    "3. torch.nn\n",
    "      - 신경망 구축\n",
    "4. torch.optim\n",
    "      - 파라미터 최적화\n",
    "5. torch.utils.data\n",
    "6. torch.onnx"
   ]
  },
  {
   "cell_type": "markdown",
   "metadata": {
    "id": "8CJLlTtoqT94"
   },
   "source": [
    "- (스칼라) - 벡터 - 행렬 - 텐서\n",
    "  - 텐서의 크기를 고려하는 것은 항상 중요\n",
    "  - 컴퓨터는 훈련 데이터를 하나씩 처리하기보다 덩어리로 처리 : batch size"
   ]
  },
  {
   "cell_type": "markdown",
   "metadata": {},
   "source": [
    "![1](https://wikidocs.net/images/page/52460/tensor3.PNG)"
   ]
  },
  {
   "cell_type": "markdown",
   "metadata": {},
   "source": [
    "- 3차원 텐서\n",
    "    - 자연어처리 (batch size, 문장 길이, 단어 벡터의 차원)\n",
    "        - 단어를 벡터화 ex) '나는' = [0.1, 0.2, 0.9]"
   ]
  },
  {
   "cell_type": "markdown",
   "metadata": {},
   "source": [
    "![](https://wikidocs.net/images/page/52460/tensor6.PNG)"
   ]
  },
  {
   "cell_type": "markdown",
   "metadata": {
    "id": "Lu5jzmPJqNqz"
   },
   "source": [
    "### 넘파이로 텐서 만들기"
   ]
  },
  {
   "cell_type": "markdown",
   "metadata": {},
   "source": [
    "- np.array([숫자, 숫자, 숫자])"
   ]
  },
  {
   "cell_type": "code",
   "execution_count": 7,
   "metadata": {
    "executionInfo": {
     "elapsed": 7,
     "status": "ok",
     "timestamp": 1657199083559,
     "user": {
      "displayName": "황선진",
      "userId": "15846811416268944612"
     },
     "user_tz": -540
    },
    "id": "6DKt6WkwFk_1"
   },
   "outputs": [],
   "source": [
    "import numpy as np"
   ]
  },
  {
   "cell_type": "code",
   "execution_count": 8,
   "metadata": {
    "colab": {
     "base_uri": "https://localhost:8080/"
    },
    "executionInfo": {
     "elapsed": 11,
     "status": "ok",
     "timestamp": 1657199087065,
     "user": {
      "displayName": "황선진",
      "userId": "15846811416268944612"
     },
     "user_tz": -540
    },
    "id": "wpRUIgSvGmfs",
    "outputId": "c8bcad6d-b7f7-4bc5-9420-b094c5731422"
   },
   "outputs": [
    {
     "name": "stdout",
     "output_type": "stream",
     "text": [
      "[0. 1. 2. 3. 4. 5. 6.]\n"
     ]
    }
   ],
   "source": [
    "# 1차원 텐서(벡터)\n",
    "\n",
    "t = np.array([0., 1., 2., 3., 4., 5., 6.]) \n",
    "# 파이썬으로 설명하면 List를 생성해서 np.array로 1차원 array로 변환함.\n",
    "print(t)"
   ]
  },
  {
   "cell_type": "code",
   "execution_count": 9,
   "metadata": {
    "colab": {
     "base_uri": "https://localhost:8080/"
    },
    "executionInfo": {
     "elapsed": 9,
     "status": "ok",
     "timestamp": 1657199087729,
     "user": {
      "displayName": "황선진",
      "userId": "15846811416268944612"
     },
     "user_tz": -540
    },
    "id": "-k-7MQglHDhk",
    "outputId": "28b43807-f572-40ac-fdb3-36bfd5a6d7c7"
   },
   "outputs": [
    {
     "name": "stdout",
     "output_type": "stream",
     "text": [
      "Rank of t:  1\n",
      "Shape of t:  (7,)\n"
     ]
    }
   ],
   "source": [
    "print('Rank of t: ', t.ndim)   # ndim\n",
    "print('Shape of t: ', t.shape) # shape : (1 x 7)"
   ]
  },
  {
   "cell_type": "code",
   "execution_count": 10,
   "metadata": {
    "colab": {
     "base_uri": "https://localhost:8080/"
    },
    "executionInfo": {
     "elapsed": 8,
     "status": "ok",
     "timestamp": 1657199092745,
     "user": {
      "displayName": "황선진",
      "userId": "15846811416268944612"
     },
     "user_tz": -540
    },
    "id": "ZIuBwPjSHK4n",
    "outputId": "fc0d0279-0e27-4584-d49b-19e749d4d535"
   },
   "outputs": [
    {
     "name": "stdout",
     "output_type": "stream",
     "text": [
      "t[0] / t[1] / t[-1] / =  0.0 / 1.0 / 6.0\n"
     ]
    }
   ],
   "source": [
    "print('t[0] / t[1] / t[-1] / = ', t[0],'/', t[1],'/', t[-1])"
   ]
  },
  {
   "cell_type": "code",
   "execution_count": 11,
   "metadata": {
    "colab": {
     "base_uri": "https://localhost:8080/"
    },
    "executionInfo": {
     "elapsed": 3,
     "status": "ok",
     "timestamp": 1657199093879,
     "user": {
      "displayName": "황선진",
      "userId": "15846811416268944612"
     },
     "user_tz": -540
    },
    "id": "lfG_pR_bsWn2",
    "outputId": "38241994-5567-4594-e826-f5e9ee4a3788"
   },
   "outputs": [
    {
     "name": "stdout",
     "output_type": "stream",
     "text": [
      "t[2:5] / t[4:-1]  =  [2. 3. 4.] / [4. 5.]\n"
     ]
    }
   ],
   "source": [
    "# 슬라이싱 : [시작 번호 : 끝 번호]로 범위 지정을 통해 가져온다.\n",
    "print('t[2:5] / t[4:-1]  = ', t[2:5],'/',t[4:-1]) "
   ]
  },
  {
   "cell_type": "code",
   "execution_count": 12,
   "metadata": {
    "colab": {
     "base_uri": "https://localhost:8080/"
    },
    "executionInfo": {
     "elapsed": 9,
     "status": "ok",
     "timestamp": 1657199094702,
     "user": {
      "displayName": "황선진",
      "userId": "15846811416268944612"
     },
     "user_tz": -540
    },
    "id": "E4u3Ja5ysmRb",
    "outputId": "1e3d377a-68c2-49d2-a8c6-3c3baacef7ae"
   },
   "outputs": [
    {
     "name": "stdout",
     "output_type": "stream",
     "text": [
      "t[:2] / t[3:]     =  [0. 1.] / [3. 4. 5. 6.]\n"
     ]
    }
   ],
   "source": [
    "# 슬라이싱 : 시작 번호를 생략한 경우와 끝 번호를 생략한 경우\n",
    "print('t[:2] / t[3:]     = ', t[:2], '/' , t[3:]) "
   ]
  },
  {
   "cell_type": "markdown",
   "metadata": {
    "id": "MEw9nDNms0ot"
   },
   "source": [
    "- 2D"
   ]
  },
  {
   "cell_type": "code",
   "execution_count": 13,
   "metadata": {
    "colab": {
     "base_uri": "https://localhost:8080/"
    },
    "executionInfo": {
     "elapsed": 3,
     "status": "ok",
     "timestamp": 1657199096368,
     "user": {
      "displayName": "황선진",
      "userId": "15846811416268944612"
     },
     "user_tz": -540
    },
    "id": "0PsopsvUHUbq",
    "outputId": "e24fb656-a852-4835-acbd-b54b8b815e44"
   },
   "outputs": [
    {
     "name": "stdout",
     "output_type": "stream",
     "text": [
      "[[ 1.  2.  3.]\n",
      " [ 4.  5.  6.]\n",
      " [ 7.  8.  9.]\n",
      " [10. 11. 12.]]\n"
     ]
    }
   ],
   "source": [
    "t = np.array([[1., 2., 3.], [4., 5., 6.], [7., 8., 9.], [10., 11., 12.]])\n",
    "print(t)"
   ]
  },
  {
   "cell_type": "code",
   "execution_count": 14,
   "metadata": {
    "colab": {
     "base_uri": "https://localhost:8080/"
    },
    "executionInfo": {
     "elapsed": 8,
     "status": "ok",
     "timestamp": 1657199097275,
     "user": {
      "displayName": "황선진",
      "userId": "15846811416268944612"
     },
     "user_tz": -540
    },
    "id": "XYKU77R2tAlo",
    "outputId": "7315aa00-61a8-458b-cb8a-e3165ccf9457"
   },
   "outputs": [
    {
     "name": "stdout",
     "output_type": "stream",
     "text": [
      "Rank  of t:  2\n",
      "Shape of t:  (4, 3)\n"
     ]
    }
   ],
   "source": [
    "print('Rank  of t: ', t.ndim)\n",
    "print('Shape of t: ', t.shape)"
   ]
  },
  {
   "cell_type": "markdown",
   "metadata": {
    "id": "t5JaSR5UtHqD"
   },
   "source": [
    "### Pythoch 텐서"
   ]
  },
  {
   "cell_type": "code",
   "execution_count": 15,
   "metadata": {
    "executionInfo": {
     "elapsed": 3522,
     "status": "ok",
     "timestamp": 1657199102798,
     "user": {
      "displayName": "황선진",
      "userId": "15846811416268944612"
     },
     "user_tz": -540
    },
    "id": "j94IfJVGtScf"
   },
   "outputs": [],
   "source": [
    "import torch"
   ]
  },
  {
   "cell_type": "code",
   "execution_count": 17,
   "metadata": {
    "colab": {
     "base_uri": "https://localhost:8080/"
    },
    "executionInfo": {
     "elapsed": 22,
     "status": "ok",
     "timestamp": 1657199102798,
     "user": {
      "displayName": "황선진",
      "userId": "15846811416268944612"
     },
     "user_tz": -540
    },
    "id": "FucoRK5sHgJn",
    "outputId": "9f6b459b-cff8-4d4a-d728-ef3c83940ee4"
   },
   "outputs": [
    {
     "name": "stdout",
     "output_type": "stream",
     "text": [
      "tensor([0., 1., 2., 3., 4., 5., 6.])\n"
     ]
    }
   ],
   "source": [
    "# torch.FloatTensor\n",
    "\n",
    "t = torch.FloatTensor([0., 1., 2., 3., 4., 5., 6.])\n",
    "print(t)"
   ]
  },
  {
   "cell_type": "markdown",
   "metadata": {
    "id": "CNyzaqpOs8dP"
   },
   "source": [
    "- 1D"
   ]
  },
  {
   "cell_type": "code",
   "execution_count": 18,
   "metadata": {
    "colab": {
     "base_uri": "https://localhost:8080/"
    },
    "executionInfo": {
     "elapsed": 19,
     "status": "ok",
     "timestamp": 1657199102799,
     "user": {
      "displayName": "황선진",
      "userId": "15846811416268944612"
     },
     "user_tz": -540
    },
    "id": "cByhCh9fHkOm",
    "outputId": "4428302b-baa7-4f83-a2bd-4a8ed2fdc85a"
   },
   "outputs": [
    {
     "name": "stdout",
     "output_type": "stream",
     "text": [
      "1\n",
      "torch.Size([7])\n",
      "torch.Size([7])\n"
     ]
    }
   ],
   "source": [
    "print(t.dim())  # 차원\n",
    "print(t.shape)  # shape\n",
    "print(t.size()) # shape"
   ]
  },
  {
   "cell_type": "code",
   "execution_count": 19,
   "metadata": {
    "colab": {
     "base_uri": "https://localhost:8080/"
    },
    "executionInfo": {
     "elapsed": 15,
     "status": "ok",
     "timestamp": 1657199102799,
     "user": {
      "displayName": "황선진",
      "userId": "15846811416268944612"
     },
     "user_tz": -540
    },
    "id": "wcIduauwHnbD",
    "outputId": "f856bb0d-ed78-4db5-dae0-09b2cf8cf21b"
   },
   "outputs": [
    {
     "name": "stdout",
     "output_type": "stream",
     "text": [
      "tensor(0.) tensor(1.) tensor(6.)\n"
     ]
    }
   ],
   "source": [
    "print(t[0], t[1], t[-1])  # 인덱스로 접근"
   ]
  },
  {
   "cell_type": "code",
   "execution_count": 20,
   "metadata": {
    "colab": {
     "base_uri": "https://localhost:8080/"
    },
    "executionInfo": {
     "elapsed": 9,
     "status": "ok",
     "timestamp": 1657199102800,
     "user": {
      "displayName": "황선진",
      "userId": "15846811416268944612"
     },
     "user_tz": -540
    },
    "id": "TqAzCGTOvPGi",
    "outputId": "52f98731-3425-42d3-e19f-8bd22328b885"
   },
   "outputs": [
    {
     "name": "stdout",
     "output_type": "stream",
     "text": [
      "tensor([2., 3., 4.]) tensor([4., 5.])\n"
     ]
    }
   ],
   "source": [
    "print(t[2:5], t[4:-1])    # 슬라이싱"
   ]
  },
  {
   "cell_type": "code",
   "execution_count": 21,
   "metadata": {
    "colab": {
     "base_uri": "https://localhost:8080/"
    },
    "executionInfo": {
     "elapsed": 7,
     "status": "ok",
     "timestamp": 1657199103423,
     "user": {
      "displayName": "황선진",
      "userId": "15846811416268944612"
     },
     "user_tz": -540
    },
    "id": "F1R8TmWQHo2Q",
    "outputId": "fcd07572-d785-4956-fd5d-86cf70525893"
   },
   "outputs": [
    {
     "name": "stdout",
     "output_type": "stream",
     "text": [
      "tensor([0., 1.]) tensor([3., 4., 5., 6.])\n"
     ]
    }
   ],
   "source": [
    "print(t[:2], t[3:])       # 슬라이싱"
   ]
  },
  {
   "cell_type": "markdown",
   "metadata": {
    "id": "lq7yegpOwfcW"
   },
   "source": [
    "- 2D"
   ]
  },
  {
   "cell_type": "code",
   "execution_count": 22,
   "metadata": {
    "colab": {
     "base_uri": "https://localhost:8080/"
    },
    "executionInfo": {
     "elapsed": 7,
     "status": "ok",
     "timestamp": 1657199104608,
     "user": {
      "displayName": "황선진",
      "userId": "15846811416268944612"
     },
     "user_tz": -540
    },
    "id": "WrLXzqG8HpmI",
    "outputId": "b80a0515-fe22-4755-da3a-3a2780fe3bd3"
   },
   "outputs": [
    {
     "name": "stdout",
     "output_type": "stream",
     "text": [
      "tensor([[ 1.,  2.,  3.],\n",
      "        [ 4.,  5.,  6.],\n",
      "        [ 7.,  8.,  9.],\n",
      "        [10., 11., 12.]])\n"
     ]
    }
   ],
   "source": [
    "t = torch.FloatTensor([[1., 2., 3.],\n",
    "                       [4., 5., 6.],\n",
    "                       [7., 8., 9.],\n",
    "                       [10., 11., 12.]])\n",
    "print(t)"
   ]
  },
  {
   "cell_type": "code",
   "execution_count": 23,
   "metadata": {
    "colab": {
     "base_uri": "https://localhost:8080/"
    },
    "executionInfo": {
     "elapsed": 6,
     "status": "ok",
     "timestamp": 1657199105112,
     "user": {
      "displayName": "황선진",
      "userId": "15846811416268944612"
     },
     "user_tz": -540
    },
    "id": "Pwlbzl53HuCm",
    "outputId": "a4eba4bd-a007-4938-ed1a-8b7d1b46bf4e"
   },
   "outputs": [
    {
     "data": {
      "text/plain": [
       "2"
      ]
     },
     "execution_count": 23,
     "metadata": {},
     "output_type": "execute_result"
    }
   ],
   "source": [
    "t.dim()"
   ]
  },
  {
   "cell_type": "code",
   "execution_count": 24,
   "metadata": {
    "colab": {
     "base_uri": "https://localhost:8080/"
    },
    "executionInfo": {
     "elapsed": 15,
     "status": "ok",
     "timestamp": 1657199105663,
     "user": {
      "displayName": "황선진",
      "userId": "15846811416268944612"
     },
     "user_tz": -540
    },
    "id": "jfhRKv2uHxOD",
    "outputId": "0a77c5a1-f2ac-4988-9606-959b49ed465a"
   },
   "outputs": [
    {
     "data": {
      "text/plain": [
       "torch.Size([4, 3])"
      ]
     },
     "execution_count": 24,
     "metadata": {},
     "output_type": "execute_result"
    }
   ],
   "source": [
    "t.size()"
   ]
  },
  {
   "cell_type": "code",
   "execution_count": 25,
   "metadata": {
    "colab": {
     "base_uri": "https://localhost:8080/"
    },
    "executionInfo": {
     "elapsed": 12,
     "status": "ok",
     "timestamp": 1657199105664,
     "user": {
      "displayName": "황선진",
      "userId": "15846811416268944612"
     },
     "user_tz": -540
    },
    "id": "FKVCE4djw-TS",
    "outputId": "96ff310b-ca91-47c3-e54c-0c2065f2e637"
   },
   "outputs": [
    {
     "data": {
      "text/plain": [
       "torch.Size([4, 3])"
      ]
     },
     "execution_count": 25,
     "metadata": {},
     "output_type": "execute_result"
    }
   ],
   "source": [
    "t.shape"
   ]
  },
  {
   "cell_type": "markdown",
   "metadata": {
    "id": "1QIIUsoQxLYm"
   },
   "source": [
    "- 슬라이싱"
   ]
  },
  {
   "cell_type": "code",
   "execution_count": 27,
   "metadata": {
    "colab": {
     "base_uri": "https://localhost:8080/"
    },
    "executionInfo": {
     "elapsed": 7,
     "status": "ok",
     "timestamp": 1657199107845,
     "user": {
      "displayName": "황선진",
      "userId": "15846811416268944612"
     },
     "user_tz": -540
    },
    "id": "DXGaqrpbHyUW",
    "outputId": "3b1e0e03-c7b6-4536-cbe6-1dee5d912782"
   },
   "outputs": [
    {
     "name": "stdout",
     "output_type": "stream",
     "text": [
      "tensor([ 2.,  5.,  8., 11.])\n"
     ]
    }
   ],
   "source": [
    "print(t[:, 1])\n",
    "# 첫번째 차원을 전체 선택한 상황에서 두번째 차원의 첫번째 것만 가져온다.\n",
    "    # 두번째 열벡터"
   ]
  },
  {
   "cell_type": "code",
   "execution_count": 28,
   "metadata": {
    "colab": {
     "base_uri": "https://localhost:8080/"
    },
    "executionInfo": {
     "elapsed": 5,
     "status": "ok",
     "timestamp": 1657199108410,
     "user": {
      "displayName": "황선진",
      "userId": "15846811416268944612"
     },
     "user_tz": -540
    },
    "id": "tx-SKKdnH1sU",
    "outputId": "55c92565-7fcd-414b-a2d6-bc4c1d5af51a"
   },
   "outputs": [
    {
     "name": "stdout",
     "output_type": "stream",
     "text": [
      "torch.Size([4])\n"
     ]
    }
   ],
   "source": [
    "print(t[:, 1].size())"
   ]
  },
  {
   "cell_type": "code",
   "execution_count": 29,
   "metadata": {
    "colab": {
     "base_uri": "https://localhost:8080/"
    },
    "executionInfo": {
     "elapsed": 9,
     "status": "ok",
     "timestamp": 1657199108898,
     "user": {
      "displayName": "황선진",
      "userId": "15846811416268944612"
     },
     "user_tz": -540
    },
    "id": "d0bbJ4coH6az",
    "outputId": "a1b2c355-a681-4424-fcb8-21e9bfcfd5eb"
   },
   "outputs": [
    {
     "name": "stdout",
     "output_type": "stream",
     "text": [
      "tensor([[ 1.,  2.],\n",
      "        [ 4.,  5.],\n",
      "        [ 7.,  8.],\n",
      "        [10., 11.]])\n"
     ]
    }
   ],
   "source": [
    "print(t[:, :-1])\n",
    "# 첫번째 차원을 전체 선택한 상황에서 두번째 차원에서는 맨 마지막에서 첫번째를 제외하고 다 가져온다."
   ]
  },
  {
   "cell_type": "code",
   "execution_count": 30,
   "metadata": {
    "colab": {
     "base_uri": "https://localhost:8080/"
    },
    "executionInfo": {
     "elapsed": 12,
     "status": "ok",
     "timestamp": 1657199110478,
     "user": {
      "displayName": "황선진",
      "userId": "15846811416268944612"
     },
     "user_tz": -540
    },
    "id": "aHx6s_llxr1F",
    "outputId": "b3dbcf58-35d9-4838-dfd0-7e6a9d085cb1"
   },
   "outputs": [
    {
     "name": "stdout",
     "output_type": "stream",
     "text": [
      "torch.Size([4, 2])\n"
     ]
    }
   ],
   "source": [
    "print(t[:, :-1].shape) # 4x2"
   ]
  },
  {
   "cell_type": "markdown",
   "metadata": {
    "id": "9pXk-AnhxxwE"
   },
   "source": [
    "- 브로드캐스팅\n",
    "  - 불가피하게 크기가 다른 행렬 또는 텐서에 대해서 사칙 연산을 수행\n",
    "      - 자동으로 크기를 맞춰서 연산을 수행"
   ]
  },
  {
   "cell_type": "code",
   "execution_count": 31,
   "metadata": {
    "executionInfo": {
     "elapsed": 476,
     "status": "ok",
     "timestamp": 1657199113038,
     "user": {
      "displayName": "황선진",
      "userId": "15846811416268944612"
     },
     "user_tz": -540
    },
    "id": "2AhNIMeGIAM1"
   },
   "outputs": [],
   "source": [
    "m1 = torch.FloatTensor([[3, 3]])\n",
    "m2 = torch.FloatTensor([[2, 2]])"
   ]
  },
  {
   "cell_type": "code",
   "execution_count": 32,
   "metadata": {
    "colab": {
     "base_uri": "https://localhost:8080/"
    },
    "executionInfo": {
     "elapsed": 7,
     "status": "ok",
     "timestamp": 1657199113039,
     "user": {
      "displayName": "황선진",
      "userId": "15846811416268944612"
     },
     "user_tz": -540
    },
    "id": "Yt5t4HDdyEhn",
    "outputId": "7f0fb378-f2d7-4b3e-f843-a194a1d23bb5"
   },
   "outputs": [
    {
     "data": {
      "text/plain": [
       "(torch.Size([1, 2]), torch.Size([1, 2]))"
      ]
     },
     "execution_count": 32,
     "metadata": {},
     "output_type": "execute_result"
    }
   ],
   "source": [
    "m1.shape , m2.shape"
   ]
  },
  {
   "cell_type": "code",
   "execution_count": 33,
   "metadata": {
    "colab": {
     "base_uri": "https://localhost:8080/"
    },
    "executionInfo": {
     "elapsed": 8,
     "status": "ok",
     "timestamp": 1657199113587,
     "user": {
      "displayName": "황선진",
      "userId": "15846811416268944612"
     },
     "user_tz": -540
    },
    "id": "qFeNnGR8IHFf",
    "outputId": "57295f08-27cb-4997-d0a3-d41bbd203b97"
   },
   "outputs": [
    {
     "name": "stdout",
     "output_type": "stream",
     "text": [
      "tensor([[5., 5.]])\n"
     ]
    }
   ],
   "source": [
    "print(m1 + m2)"
   ]
  },
  {
   "cell_type": "code",
   "execution_count": 34,
   "metadata": {
    "colab": {
     "base_uri": "https://localhost:8080/"
    },
    "executionInfo": {
     "elapsed": 4,
     "status": "ok",
     "timestamp": 1657199114043,
     "user": {
      "displayName": "황선진",
      "userId": "15846811416268944612"
     },
     "user_tz": -540
    },
    "id": "2XC76_viIIFm",
    "outputId": "7b5a2123-633c-4fde-fc1d-1da7ffa4cf7c"
   },
   "outputs": [
    {
     "data": {
      "text/plain": [
       "torch.Size([1, 2])"
      ]
     },
     "execution_count": 34,
     "metadata": {},
     "output_type": "execute_result"
    }
   ],
   "source": [
    "(m1 + m2).shape"
   ]
  },
  {
   "cell_type": "markdown",
   "metadata": {
    "id": "DRxGE8mWyeCN"
   },
   "source": [
    "- 크기가 다른 텐서간의 연산"
   ]
  },
  {
   "cell_type": "code",
   "execution_count": 35,
   "metadata": {
    "colab": {
     "base_uri": "https://localhost:8080/"
    },
    "executionInfo": {
     "elapsed": 8,
     "status": "ok",
     "timestamp": 1657199116132,
     "user": {
      "displayName": "황선진",
      "userId": "15846811416268944612"
     },
     "user_tz": -540
    },
    "id": "Mn7XC5_BIStU",
    "outputId": "9ef35db9-6065-42bf-b7da-c33a3a24949d"
   },
   "outputs": [
    {
     "name": "stdout",
     "output_type": "stream",
     "text": [
      "tensor([[4., 5.]])\n"
     ]
    }
   ],
   "source": [
    "# Vector + Scalar\n",
    "m1 = torch.FloatTensor([[1, 2]])\n",
    "m2 = torch.FloatTensor([3])      # [3] -> [3, 3] : 브로드캐스팅\n",
    "print(m1 + m2)"
   ]
  },
  {
   "cell_type": "code",
   "execution_count": 28,
   "metadata": {
    "colab": {
     "base_uri": "https://localhost:8080/"
    },
    "executionInfo": {
     "elapsed": 4,
     "status": "ok",
     "timestamp": 1657199116638,
     "user": {
      "displayName": "황선진",
      "userId": "15846811416268944612"
     },
     "user_tz": -540
    },
    "id": "V8cdqe2gIWl4",
    "outputId": "d01d740e-7c48-4ef3-a64c-926f3528d501"
   },
   "outputs": [
    {
     "name": "stdout",
     "output_type": "stream",
     "text": [
      "torch.Size([1, 2])\n",
      "torch.Size([2, 1])\n",
      "tensor([[4., 5.],\n",
      "        [5., 6.]])\n"
     ]
    }
   ],
   "source": [
    "# 2 x 1 Vector + 1 x 2 Vector\n",
    "    # 수학적으로는 덧셈을 수행할수 없다.\n",
    "m1 = torch.FloatTensor([[1, 2]])     # [[1, 2], [1, 2]] : 2x2\n",
    "m2 = torch.FloatTensor([[3], [4]])   # [[3, 3], [4, 4]] : 2x2\n",
    "\n",
    "print(m1.size())\n",
    "print(m2.size())\n",
    "print(m1 + m2)"
   ]
  },
  {
   "cell_type": "markdown",
   "metadata": {
    "id": "HeSh3rtq0MTI"
   },
   "source": [
    "- 브로드캐스팅은 편리하지만, 자동으로 실행되는 기능 \n",
    "    - \"사용자 입장에서 굉장히 주의할 것\""
   ]
  },
  {
   "cell_type": "markdown",
   "metadata": {
    "id": "VvMER6RT0bDl"
   },
   "source": [
    "- 자주 사용되는 기능"
   ]
  },
  {
   "cell_type": "markdown",
   "metadata": {
    "id": "7ghNeLUM0hk5"
   },
   "source": [
    "- 행렬 곱셈 vs 원소별 곱셈(Matrix Multiplication vs Element-wise Multiplication)"
   ]
  },
  {
   "cell_type": "code",
   "execution_count": 39,
   "metadata": {},
   "outputs": [
    {
     "name": "stdout",
     "output_type": "stream",
     "text": [
      "torch.Size([1, 2])\n",
      "torch.Size([2])\n"
     ]
    }
   ],
   "source": [
    "# test\n",
    "print(torch.FloatTensor([[1, 2]]).shape)\n",
    "print(torch.FloatTensor([1,2]).shape)"
   ]
  },
  {
   "cell_type": "code",
   "execution_count": 40,
   "metadata": {
    "colab": {
     "base_uri": "https://localhost:8080/"
    },
    "executionInfo": {
     "elapsed": 10,
     "status": "ok",
     "timestamp": 1657199119295,
     "user": {
      "displayName": "황선진",
      "userId": "15846811416268944612"
     },
     "user_tz": -540
    },
    "id": "xRgZI8wk2BI-",
    "outputId": "74ba5f72-858b-4b69-b621-a7c9039fedf5"
   },
   "outputs": [
    {
     "name": "stdout",
     "output_type": "stream",
     "text": [
      "Shape of Matrix 1:  torch.Size([2, 2])\n",
      "Shape of Matrix 2:  torch.Size([2, 1])\n",
      "tensor([[ 5.],\n",
      "        [11.]])\n"
     ]
    }
   ],
   "source": [
    "# matmul : 행렬 곱셈\n",
    "m1 = torch.FloatTensor([[1, 2], [3, 4]])\n",
    "m2 = torch.FloatTensor([[1], [2]])\n",
    "print('Shape of Matrix 1: ', m1.shape) # 2 x 2\n",
    "print('Shape of Matrix 2: ', m2.shape) # 2 x 1 : 열벡터\n",
    "print(m1.matmul(m2)) # 2 x 1"
   ]
  },
  {
   "cell_type": "code",
   "execution_count": 30,
   "metadata": {
    "colab": {
     "base_uri": "https://localhost:8080/"
    },
    "executionInfo": {
     "elapsed": 14,
     "status": "ok",
     "timestamp": 1657199120566,
     "user": {
      "displayName": "황선진",
      "userId": "15846811416268944612"
     },
     "user_tz": -540
    },
    "id": "lxqdRKPE2BN0",
    "outputId": "1d0b9ada-1b91-42f4-c78f-f86c7b2ecf3c"
   },
   "outputs": [
    {
     "name": "stdout",
     "output_type": "stream",
     "text": [
      "Shape of Matrix 1:  torch.Size([2, 2])\n",
      "Shape of Matrix 2:  torch.Size([2, 1])\n",
      "tensor([[1., 2.],\n",
      "        [6., 8.]])\n",
      "tensor([[1., 2.],\n",
      "        [6., 8.]])\n"
     ]
    }
   ],
   "source": [
    "# mul 또는 * : 동일한 위치 원소별 곱셈\n",
    "m1 = torch.FloatTensor([[1, 2], [3, 4]])\n",
    "m2 = torch.FloatTensor([[1], [2]])     # > 브로드캐스팅 [[1,1], [2,2]]\n",
    "print('Shape of Matrix 1: ', m1.shape) # 2 x 2\n",
    "print('Shape of Matrix 2: ', m2.shape) # 2 x 1 \n",
    "\n",
    "print(m1 * m2) # 2 x 2\n",
    "print(m1.mul(m2))"
   ]
  },
  {
   "cell_type": "markdown",
   "metadata": {
    "id": "ltlEID5G3OLk"
   },
   "source": [
    "- 평균"
   ]
  },
  {
   "cell_type": "code",
   "execution_count": 31,
   "metadata": {
    "colab": {
     "base_uri": "https://localhost:8080/"
    },
    "executionInfo": {
     "elapsed": 8,
     "status": "ok",
     "timestamp": 1657199122792,
     "user": {
      "displayName": "황선진",
      "userId": "15846811416268944612"
     },
     "user_tz": -540
    },
    "id": "xJajUIQ92BQX",
    "outputId": "8e9bfc76-c66b-41e6-d576-72b530cd28aa"
   },
   "outputs": [
    {
     "name": "stdout",
     "output_type": "stream",
     "text": [
      "tensor(1.5000)\n"
     ]
    }
   ],
   "source": [
    "t = torch.FloatTensor([1, 2])\n",
    "print(t.mean())"
   ]
  },
  {
   "cell_type": "code",
   "execution_count": 42,
   "metadata": {
    "colab": {
     "base_uri": "https://localhost:8080/"
    },
    "executionInfo": {
     "elapsed": 9,
     "status": "ok",
     "timestamp": 1657199124342,
     "user": {
      "displayName": "황선진",
      "userId": "15846811416268944612"
     },
     "user_tz": -540
    },
    "id": "rM9lNrtM3TKm",
    "outputId": "d241f2bb-0218-4139-f664-1a5c4b4f83d9"
   },
   "outputs": [
    {
     "name": "stdout",
     "output_type": "stream",
     "text": [
      "tensor([[1., 2.],\n",
      "        [3., 4.]])\n",
      "tensor(2.5000)\n"
     ]
    }
   ],
   "source": [
    "t = torch.FloatTensor([[1, 2], [3, 4]])\n",
    "print(t)\n",
    "print(t.mean()) # 4개 원소의 평균"
   ]
  },
  {
   "cell_type": "code",
   "execution_count": 43,
   "metadata": {
    "colab": {
     "base_uri": "https://localhost:8080/"
    },
    "executionInfo": {
     "elapsed": 434,
     "status": "ok",
     "timestamp": 1657199134055,
     "user": {
      "displayName": "황선진",
      "userId": "15846811416268944612"
     },
     "user_tz": -540
    },
    "id": "HkxmtNn93TMq",
    "outputId": "67970e62-7f71-476b-d929-2b936114cd8c"
   },
   "outputs": [
    {
     "name": "stdout",
     "output_type": "stream",
     "text": [
      "tensor([2., 3.])\n",
      "torch.Size([2])\n"
     ]
    }
   ],
   "source": [
    "# dim = 0 : 첫번째 차원(행) - 제거 : 열만 남김\n",
    "print(t.mean(dim = 0))\n",
    "print(t.mean(dim = 0).size())"
   ]
  },
  {
   "cell_type": "code",
   "execution_count": 44,
   "metadata": {
    "colab": {
     "base_uri": "https://localhost:8080/"
    },
    "executionInfo": {
     "elapsed": 7,
     "status": "ok",
     "timestamp": 1657199138677,
     "user": {
      "displayName": "황선진",
      "userId": "15846811416268944612"
     },
     "user_tz": -540
    },
    "id": "Vz6XyVwk3TPA",
    "outputId": "ef34572d-b6ba-4746-9e71-a87b311aa7a9"
   },
   "outputs": [
    {
     "name": "stdout",
     "output_type": "stream",
     "text": [
      "tensor([1.5000, 3.5000])\n",
      "torch.Size([2])\n"
     ]
    }
   ],
   "source": [
    "# dim = 0 : 두번째 차원(열) - 제거\n",
    "print(t.mean(dim = 1))\n",
    "print(t.mean(dim = 1).size())"
   ]
  },
  {
   "cell_type": "code",
   "execution_count": 45,
   "metadata": {
    "colab": {
     "base_uri": "https://localhost:8080/"
    },
    "executionInfo": {
     "elapsed": 7,
     "status": "ok",
     "timestamp": 1657199168223,
     "user": {
      "displayName": "황선진",
      "userId": "15846811416268944612"
     },
     "user_tz": -540
    },
    "id": "qP3rVqdX3TRh",
    "outputId": "2e729499-4e8e-4750-cc69-c25933cdacbc"
   },
   "outputs": [
    {
     "name": "stdout",
     "output_type": "stream",
     "text": [
      "tensor([1.5000, 3.5000])\n"
     ]
    }
   ],
   "source": [
    "# dim = 0 : 마지막 차원 - 제거\n",
    "print(t.mean(dim=-1))"
   ]
  },
  {
   "cell_type": "markdown",
   "metadata": {
    "id": "cluiDXi03TT1"
   },
   "source": [
    "- 덧셈"
   ]
  },
  {
   "cell_type": "code",
   "execution_count": 47,
   "metadata": {
    "colab": {
     "base_uri": "https://localhost:8080/"
    },
    "executionInfo": {
     "elapsed": 13,
     "status": "ok",
     "timestamp": 1657199266302,
     "user": {
      "displayName": "황선진",
      "userId": "15846811416268944612"
     },
     "user_tz": -540
    },
    "id": "rRRz0pR73TV-",
    "outputId": "1782bf47-2991-4b22-ae9c-25881e1f9015"
   },
   "outputs": [
    {
     "name": "stdout",
     "output_type": "stream",
     "text": [
      "tensor([[1., 2.],\n",
      "        [3., 4.]])\n",
      "torch.Size([2, 2])\n"
     ]
    }
   ],
   "source": [
    "t = torch.FloatTensor([[1, 2], [3, 4]])\n",
    "print(t)\n",
    "print(t.size())"
   ]
  },
  {
   "cell_type": "code",
   "execution_count": 46,
   "metadata": {
    "colab": {
     "base_uri": "https://localhost:8080/"
    },
    "executionInfo": {
     "elapsed": 519,
     "status": "ok",
     "timestamp": 1619674673803,
     "user": {
      "displayName": "박재우",
      "photoUrl": "https://lh3.googleusercontent.com/a-/AOh14GjXI3etzUNsHKseHtKKPAfY_N2c7kAIWyXOMk2v=s64",
      "userId": "10125744057017928750"
     },
     "user_tz": -540
    },
    "id": "W-tIqNeNIhh-",
    "outputId": "36b7df02-47bf-463f-fc09-14d6f5b8d688"
   },
   "outputs": [
    {
     "data": {
      "text/plain": [
       "torch.Size([2, 2])"
      ]
     },
     "execution_count": 46,
     "metadata": {},
     "output_type": "execute_result"
    }
   ],
   "source": [
    "t.shape"
   ]
  },
  {
   "cell_type": "code",
   "execution_count": 48,
   "metadata": {
    "colab": {
     "base_uri": "https://localhost:8080/"
    },
    "executionInfo": {
     "elapsed": 12,
     "status": "ok",
     "timestamp": 1657199326689,
     "user": {
      "displayName": "황선진",
      "userId": "15846811416268944612"
     },
     "user_tz": -540
    },
    "id": "DtUlI4wTxh8g",
    "outputId": "17793af8-fa30-4201-a569-0bfdc59e25a1"
   },
   "outputs": [
    {
     "name": "stdout",
     "output_type": "stream",
     "text": [
      "tensor(10.)\n",
      "tensor([4., 6.])\n",
      "tensor([3., 7.])\n",
      "tensor([3., 7.])\n"
     ]
    }
   ],
   "source": [
    "print(t.sum()) # 단순히 원소 전체의 덧셈을 수행\n",
    "print(t.sum(dim=0))  # 행을 제거 : 열로 합\n",
    "print(t.sum(dim=1))  # 열을 제거 : 행으로 합\n",
    "print(t.sum(dim=-1)) # 열을 제거 : 행으로 합"
   ]
  },
  {
   "cell_type": "markdown",
   "metadata": {
    "id": "t5cOFIz8xh-f"
   },
   "source": [
    "- 최대(Max)와 아그맥스(ArgMax)\n",
    "  - 최대(Max)는 최대값을 리턴하고, 아그맥스(ArgMax)는 최대값 인덱스를 리턴"
   ]
  },
  {
   "cell_type": "code",
   "execution_count": 39,
   "metadata": {
    "colab": {
     "base_uri": "https://localhost:8080/"
    },
    "executionInfo": {
     "elapsed": 10,
     "status": "ok",
     "timestamp": 1657199408113,
     "user": {
      "displayName": "황선진",
      "userId": "15846811416268944612"
     },
     "user_tz": -540
    },
    "id": "8r69wn94xiAn",
    "outputId": "1a21f12c-c977-4205-d8bc-76eeccfcfbf2"
   },
   "outputs": [
    {
     "name": "stdout",
     "output_type": "stream",
     "text": [
      "tensor([[1., 2.],\n",
      "        [3., 4.]])\n"
     ]
    }
   ],
   "source": [
    "t = torch.FloatTensor([[1, 2], [3, 4]])\n",
    "print(t)"
   ]
  },
  {
   "cell_type": "code",
   "execution_count": 49,
   "metadata": {
    "colab": {
     "base_uri": "https://localhost:8080/"
    },
    "executionInfo": {
     "elapsed": 16,
     "status": "ok",
     "timestamp": 1657199418221,
     "user": {
      "displayName": "황선진",
      "userId": "15846811416268944612"
     },
     "user_tz": -540
    },
    "id": "AvJbcXQexiC6",
    "outputId": "de58b281-650e-47bd-8b6b-8e0e16753475"
   },
   "outputs": [
    {
     "name": "stdout",
     "output_type": "stream",
     "text": [
      "tensor(4.)\n"
     ]
    }
   ],
   "source": [
    "print(t.max()) # Returns one value: max (4)"
   ]
  },
  {
   "cell_type": "code",
   "execution_count": 50,
   "metadata": {
    "colab": {
     "base_uri": "https://localhost:8080/"
    },
    "executionInfo": {
     "elapsed": 8,
     "status": "ok",
     "timestamp": 1657199484968,
     "user": {
      "displayName": "황선진",
      "userId": "15846811416268944612"
     },
     "user_tz": -540
    },
    "id": "RiNfWuvoxiFB",
    "outputId": "0683c6e0-72f3-4e78-faa5-19ae913a50b0"
   },
   "outputs": [
    {
     "name": "stdout",
     "output_type": "stream",
     "text": [
      "torch.return_types.max(\n",
      "values=tensor([3., 4.]),\n",
      "indices=tensor([1, 1]))\n"
     ]
    }
   ],
   "source": [
    "print(t.max(dim=0)) # Returns two values: max and argmax- 열로 확인"
   ]
  },
  {
   "cell_type": "code",
   "execution_count": 51,
   "metadata": {
    "colab": {
     "base_uri": "https://localhost:8080/"
    },
    "executionInfo": {
     "elapsed": 7,
     "status": "ok",
     "timestamp": 1657199711882,
     "user": {
      "displayName": "황선진",
      "userId": "15846811416268944612"
     },
     "user_tz": -540
    },
    "id": "j1vvKCluzKjw",
    "outputId": "93d77aa5-4bcf-4771-a40a-1ea7d5fb0fa0"
   },
   "outputs": [
    {
     "name": "stdout",
     "output_type": "stream",
     "text": [
      "Max:  tensor([3., 4.])\n",
      "Argmax:  tensor([1, 1])\n"
     ]
    }
   ],
   "source": [
    "print('Max: ',    t.max(dim=0)[0])  # Max\n",
    "print('Argmax: ', t.max(dim=0)[1])  # Argmax"
   ]
  },
  {
   "cell_type": "code",
   "execution_count": 52,
   "metadata": {
    "colab": {
     "base_uri": "https://localhost:8080/"
    },
    "executionInfo": {
     "elapsed": 590,
     "status": "ok",
     "timestamp": 1657199729594,
     "user": {
      "displayName": "황선진",
      "userId": "15846811416268944612"
     },
     "user_tz": -540
    },
    "id": "1QEUxYbJzKl5",
    "outputId": "e0359890-2c69-4531-d094-3088ef2071b3"
   },
   "outputs": [
    {
     "name": "stdout",
     "output_type": "stream",
     "text": [
      "torch.return_types.max(\n",
      "values=tensor([2., 4.]),\n",
      "indices=tensor([1, 1]))\n",
      "torch.return_types.max(\n",
      "values=tensor([2., 4.]),\n",
      "indices=tensor([1, 1]))\n"
     ]
    }
   ],
   "source": [
    "print(t.max(dim=1))  # 열 삭제 - 행으로\n",
    "print(t.max(dim=-1)) # 열 삭제 - 행으로"
   ]
  },
  {
   "cell_type": "markdown",
   "metadata": {
    "id": "VItxuYjlz2QI"
   },
   "source": [
    "### [중요] View 등\n",
    "  - 텐서의 모양을 변경(np.Reshape)"
   ]
  },
  {
   "cell_type": "code",
   "execution_count": 53,
   "metadata": {
    "executionInfo": {
     "elapsed": 2,
     "status": "ok",
     "timestamp": 1657200043510,
     "user": {
      "displayName": "황선진",
      "userId": "15846811416268944612"
     },
     "user_tz": -540
    },
    "id": "0UfT5Rxdz3sr"
   },
   "outputs": [],
   "source": [
    "t = np.array([[[0, 1, 2],\n",
    "               [3, 4, 5]],\n",
    "              [[6, 7, 8],\n",
    "               [9, 10, 11]]])\n",
    "ft = torch.FloatTensor(t)"
   ]
  },
  {
   "cell_type": "code",
   "execution_count": 55,
   "metadata": {
    "colab": {
     "base_uri": "https://localhost:8080/"
    },
    "executionInfo": {
     "elapsed": 816,
     "status": "ok",
     "timestamp": 1657200056677,
     "user": {
      "displayName": "황선진",
      "userId": "15846811416268944612"
     },
     "user_tz": -540
    },
    "id": "xDyv8Dbr0d_h",
    "outputId": "7c086cd7-382c-4230-b080-ecb7a6af944b"
   },
   "outputs": [
    {
     "name": "stdout",
     "output_type": "stream",
     "text": [
      "torch.Size([2, 2, 3])\n"
     ]
    }
   ],
   "source": [
    "print(ft.shape)  # 가운데 2 : batch_size"
   ]
  },
  {
   "cell_type": "markdown",
   "metadata": {
    "id": "FKa8Vwq10guA"
   },
   "source": [
    "![image.png](data:image/png;base64,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)"
   ]
  },
  {
   "cell_type": "markdown",
   "metadata": {
    "id": "nzfDc5k20s1f"
   },
   "source": [
    "- 3d → 2d\n",
    "  - -1은 첫번째 차원은 사용자가 잘 모르겠으니 파이토치에 맡기겠다는 의미\n",
    "      - 해당값을 유추\n",
    "  -  3은 두번째 차원의 길이는 3을 가지도록 하라는 의미\n",
    "  - 3차원 텐서를 2차원 텐서로 변경하되 (?, 3)의 크기로 변경\n",
    "    * 텐서 안의 원소의 개수가 유지\n",
    "- [참고] (Batch size, dim) : 왼쪽 끝이 Batch size"
   ]
  },
  {
   "cell_type": "code",
   "execution_count": 57,
   "metadata": {
    "colab": {
     "base_uri": "https://localhost:8080/"
    },
    "executionInfo": {
     "elapsed": 12,
     "status": "ok",
     "timestamp": 1657200174333,
     "user": {
      "displayName": "황선진",
      "userId": "15846811416268944612"
     },
     "user_tz": -540
    },
    "id": "1of9F37J05in",
    "outputId": "47b2da8d-7f69-4bae-f4ae-854a6e69c350"
   },
   "outputs": [
    {
     "name": "stdout",
     "output_type": "stream",
     "text": [
      "tensor([[ 0.,  1.,  2.],\n",
      "        [ 3.,  4.,  5.],\n",
      "        [ 6.,  7.,  8.],\n",
      "        [ 9., 10., 11.]])\n",
      "torch.Size([4, 3])\n"
     ]
    }
   ],
   "source": [
    "print(ft.view([-1, 3])) # ft라는 텐서를 (?, 3)의 크기로 변경\n",
    "print(ft.view([-1, 3]).shape)"
   ]
  },
  {
   "cell_type": "markdown",
   "metadata": {
    "id": "nxsQp_6J0-DR"
   },
   "source": [
    "![image.png](data:image/png;base64,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)"
   ]
  },
  {
   "cell_type": "markdown",
   "metadata": {
    "id": "MvunkwmS1aX9"
   },
   "source": [
    "- 2 x 2 x 3 > 2 x 2 , 3"
   ]
  },
  {
   "cell_type": "markdown",
   "metadata": {},
   "source": [
    "- (2 × 2 × 3) = (? × 1 × 3) = 12\n",
    "    - [참고] (batch size, 문장 길이, 단어 벡터의 차원)\n",
    "        - 왼쪽끝이 batch size"
   ]
  },
  {
   "cell_type": "code",
   "execution_count": 53,
   "metadata": {
    "colab": {
     "base_uri": "https://localhost:8080/"
    },
    "executionInfo": {
     "elapsed": 10,
     "status": "ok",
     "timestamp": 1657200511948,
     "user": {
      "displayName": "황선진",
      "userId": "15846811416268944612"
     },
     "user_tz": -540
    },
    "id": "3MdUGO0k103k",
    "outputId": "9dd6a99b-7b38-49a4-b294-e3defbd6a933"
   },
   "outputs": [
    {
     "name": "stdout",
     "output_type": "stream",
     "text": [
      "tensor([[[ 0.,  1.,  2.]],\n",
      "\n",
      "        [[ 3.,  4.,  5.]],\n",
      "\n",
      "        [[ 6.,  7.,  8.]],\n",
      "\n",
      "        [[ 9., 10., 11.]]])\n",
      "\n",
      "torch.Size([4, 1, 3])\n"
     ]
    }
   ],
   "source": [
    "print(ft.view([-1, 1, 3]))\n",
    "print(\"\")\n",
    "print(ft.view([-1, 1, 3]).shape)"
   ]
  },
  {
   "cell_type": "markdown",
   "metadata": {
    "id": "XgbhWMhY15KD"
   },
   "source": [
    "- Squeeze : '1'인 차원을 제거"
   ]
  },
  {
   "cell_type": "code",
   "execution_count": 59,
   "metadata": {
    "colab": {
     "base_uri": "https://localhost:8080/"
    },
    "executionInfo": {
     "elapsed": 15,
     "status": "ok",
     "timestamp": 1657200578115,
     "user": {
      "displayName": "황선진",
      "userId": "15846811416268944612"
     },
     "user_tz": -540
    },
    "id": "Nu1nPds92UBe",
    "outputId": "c0ce1b45-701d-438f-b2dd-72b83c90ac99"
   },
   "outputs": [
    {
     "name": "stdout",
     "output_type": "stream",
     "text": [
      "tensor([[0.],\n",
      "        [1.],\n",
      "        [2.]])\n",
      "torch.Size([3, 1])\n"
     ]
    }
   ],
   "source": [
    "ft = torch.FloatTensor([[0], [1], [2]])\n",
    "print(ft)\n",
    "print(ft.shape)"
   ]
  },
  {
   "cell_type": "code",
   "execution_count": 60,
   "metadata": {
    "colab": {
     "base_uri": "https://localhost:8080/"
    },
    "executionInfo": {
     "elapsed": 14,
     "status": "ok",
     "timestamp": 1657200598480,
     "user": {
      "displayName": "황선진",
      "userId": "15846811416268944612"
     },
     "user_tz": -540
    },
    "id": "2da-qQm-2gnD",
    "outputId": "eb0e5f07-0c26-4459-cd0c-4dc360bc56b7"
   },
   "outputs": [
    {
     "name": "stdout",
     "output_type": "stream",
     "text": [
      "tensor([0., 1., 2.])\n",
      "torch.Size([3])\n"
     ]
    }
   ],
   "source": [
    "print(ft.squeeze())\n",
    "print(ft.squeeze().shape)"
   ]
  },
  {
   "cell_type": "markdown",
   "metadata": {
    "id": "HgbjxeLr2lkB"
   },
   "source": [
    "- Unsqueeze : 특정 위치에 '1'인 차원을 추가\n",
    "  - 'Squeeze'와 반대"
   ]
  },
  {
   "cell_type": "code",
   "execution_count": 63,
   "metadata": {
    "colab": {
     "base_uri": "https://localhost:8080/"
    },
    "executionInfo": {
     "elapsed": 490,
     "status": "ok",
     "timestamp": 1657204568317,
     "user": {
      "displayName": "황선진",
      "userId": "15846811416268944612"
     },
     "user_tz": -540
    },
    "id": "GftU-S5e275z",
    "outputId": "268b7a84-d30d-4857-e940-c3b0a4c71e19"
   },
   "outputs": [
    {
     "name": "stdout",
     "output_type": "stream",
     "text": [
      "tensor([0., 1., 2.])\n",
      "torch.Size([3])\n"
     ]
    }
   ],
   "source": [
    "ft = torch.Tensor([0, 1, 2])\n",
    "print(ft)\n",
    "print(ft.shape)"
   ]
  },
  {
   "cell_type": "code",
   "execution_count": 64,
   "metadata": {
    "colab": {
     "base_uri": "https://localhost:8080/"
    },
    "executionInfo": {
     "elapsed": 754,
     "status": "ok",
     "timestamp": 1657204793389,
     "user": {
      "displayName": "황선진",
      "userId": "15846811416268944612"
     },
     "user_tz": -540
    },
    "id": "xqPhlk7GFuzJ",
    "outputId": "26cab310-54c7-4ce9-e0c6-d17fb84aac4c"
   },
   "outputs": [
    {
     "name": "stdout",
     "output_type": "stream",
     "text": [
      "tensor([[0., 1., 2.]])\n",
      "torch.Size([1, 3])\n"
     ]
    }
   ],
   "source": [
    "print(ft.unsqueeze(0))      # '0' : 첫번째 차원에 '1'인 차원 추가\n",
    "print(ft.unsqueeze(0).shape)"
   ]
  },
  {
   "cell_type": "code",
   "execution_count": 65,
   "metadata": {
    "colab": {
     "base_uri": "https://localhost:8080/"
    },
    "executionInfo": {
     "elapsed": 445,
     "status": "ok",
     "timestamp": 1657204929893,
     "user": {
      "displayName": "황선진",
      "userId": "15846811416268944612"
     },
     "user_tz": -540
    },
    "id": "ZkT3fGSCF6J0",
    "outputId": "2d8fd64c-a7b3-4ac9-d008-105fade1939d"
   },
   "outputs": [
    {
     "name": "stdout",
     "output_type": "stream",
     "text": [
      "tensor([[0., 1., 2.]])\n",
      "torch.Size([1, 3])\n"
     ]
    }
   ],
   "source": [
    "# 'view'로도 가능 : 첫번째 차원을 '1'로 설정\n",
    "print(ft.view(1, -1))\n",
    "print(ft.view(1, -1).shape)"
   ]
  },
  {
   "cell_type": "code",
   "execution_count": 66,
   "metadata": {
    "colab": {
     "base_uri": "https://localhost:8080/"
    },
    "executionInfo": {
     "elapsed": 423,
     "status": "ok",
     "timestamp": 1657205001341,
     "user": {
      "displayName": "황선진",
      "userId": "15846811416268944612"
     },
     "user_tz": -540
    },
    "id": "RD5keXjCHHE0",
    "outputId": "67b49c77-42a0-4797-8bc6-84ad83a28162"
   },
   "outputs": [
    {
     "name": "stdout",
     "output_type": "stream",
     "text": [
      "tensor([[0.],\n",
      "        [1.],\n",
      "        [2.]])\n",
      "torch.Size([3, 1])\n"
     ]
    }
   ],
   "source": [
    "print(ft.unsqueeze(1))      # '1' : 두번째 차원에 '1'인 차원 추가\n",
    "print(ft.unsqueeze(1).shape)"
   ]
  },
  {
   "cell_type": "code",
   "execution_count": 67,
   "metadata": {
    "colab": {
     "base_uri": "https://localhost:8080/"
    },
    "executionInfo": {
     "elapsed": 444,
     "status": "ok",
     "timestamp": 1657205024204,
     "user": {
      "displayName": "황선진",
      "userId": "15846811416268944612"
     },
     "user_tz": -540
    },
    "id": "pT03ZtXRHYhc",
    "outputId": "3927e1ad-52c7-4ae5-da8a-8ac5c7d40c61"
   },
   "outputs": [
    {
     "name": "stdout",
     "output_type": "stream",
     "text": [
      "tensor([[0.],\n",
      "        [1.],\n",
      "        [2.]])\n",
      "torch.Size([3, 1])\n"
     ]
    }
   ],
   "source": [
    "print(ft.unsqueeze(-1))      # '1' : 마지막 차원에 '1'인 차원 추가\n",
    "print(ft.unsqueeze(-1).shape)"
   ]
  },
  {
   "cell_type": "code",
   "execution_count": 68,
   "metadata": {
    "colab": {
     "base_uri": "https://localhost:8080/"
    },
    "executionInfo": {
     "elapsed": 580,
     "status": "ok",
     "timestamp": 1657205057843,
     "user": {
      "displayName": "황선진",
      "userId": "15846811416268944612"
     },
     "user_tz": -540
    },
    "id": "k4CJqsVTHeHP",
    "outputId": "9da529a2-c33f-46b0-c7eb-afeff503d14c"
   },
   "outputs": [
    {
     "name": "stdout",
     "output_type": "stream",
     "text": [
      "tensor([[0.],\n",
      "        [1.],\n",
      "        [2.]])\n",
      "torch.Size([3, 1])\n"
     ]
    }
   ],
   "source": [
    "# 'view'로도 가능 : 마지막 차원을 '1'로 설정\n",
    "print(ft.view(-1, 1))\n",
    "print(ft.view(-1, 1).shape)"
   ]
  },
  {
   "cell_type": "markdown",
   "metadata": {
    "id": "WaK2fUOYHmTB"
   },
   "source": [
    "- view(), squeeze(), unsqueeze() : 텐서의 원소 수를 유지하면서 모양과 차원을 조절"
   ]
  },
  {
   "cell_type": "markdown",
   "metadata": {
    "id": "VrgAuElAIYsq"
   },
   "source": [
    "### 자료형 변환 : 타입 캐스팅"
   ]
  },
  {
   "cell_type": "markdown",
   "metadata": {},
   "source": [
    "- 텐서에는 자료형도 있으며, GPU 연산을 위한 자료형 존재"
   ]
  },
  {
   "cell_type": "markdown",
   "metadata": {},
   "source": [
    "![1](https://wikidocs.net/images/page/52846/newimage.png)"
   ]
  },
  {
   "cell_type": "code",
   "execution_count": 72,
   "metadata": {
    "colab": {
     "base_uri": "https://localhost:8080/"
    },
    "executionInfo": {
     "elapsed": 565,
     "status": "ok",
     "timestamp": 1657205288654,
     "user": {
      "displayName": "황선진",
      "userId": "15846811416268944612"
     },
     "user_tz": -540
    },
    "id": "sqARK30cHvjK",
    "outputId": "8db52a7b-8e96-4c1b-e84c-c7be6616e929"
   },
   "outputs": [
    {
     "name": "stdout",
     "output_type": "stream",
     "text": [
      "tensor([1, 2, 3, 4])\n"
     ]
    }
   ],
   "source": [
    "lt = torch.LongTensor([1, 2, 3, 4])\n",
    "print(lt)"
   ]
  },
  {
   "cell_type": "code",
   "execution_count": 74,
   "metadata": {
    "colab": {
     "base_uri": "https://localhost:8080/"
    },
    "executionInfo": {
     "elapsed": 590,
     "status": "ok",
     "timestamp": 1657205297733,
     "user": {
      "displayName": "황선진",
      "userId": "15846811416268944612"
     },
     "user_tz": -540
    },
    "id": "t3ju5T9tIKpI",
    "outputId": "eb4a5915-b95e-4b5e-997d-55b05284451e"
   },
   "outputs": [
    {
     "name": "stdout",
     "output_type": "stream",
     "text": [
      "tensor([1., 2., 3., 4.])\n"
     ]
    }
   ],
   "source": [
    "print(lt.float())"
   ]
  },
  {
   "cell_type": "code",
   "execution_count": 75,
   "metadata": {
    "colab": {
     "base_uri": "https://localhost:8080/"
    },
    "executionInfo": {
     "elapsed": 455,
     "status": "ok",
     "timestamp": 1657205309388,
     "user": {
      "displayName": "황선진",
      "userId": "15846811416268944612"
     },
     "user_tz": -540
    },
    "id": "SrY1AxD0Ig29",
    "outputId": "820ea8f3-e1c2-4029-fe83-ae42e8e5165b"
   },
   "outputs": [
    {
     "name": "stdout",
     "output_type": "stream",
     "text": [
      "tensor([1, 0, 0, 1], dtype=torch.uint8)\n"
     ]
    }
   ],
   "source": [
    "bt = torch.ByteTensor([True, False, False, True])\n",
    "print(bt)"
   ]
  },
  {
   "cell_type": "code",
   "execution_count": 76,
   "metadata": {
    "colab": {
     "base_uri": "https://localhost:8080/"
    },
    "executionInfo": {
     "elapsed": 621,
     "status": "ok",
     "timestamp": 1657205322313,
     "user": {
      "displayName": "황선진",
      "userId": "15846811416268944612"
     },
     "user_tz": -540
    },
    "id": "lfrUWIsuIju7",
    "outputId": "d6ce3437-e5e2-4a3f-ddd4-eb7cd1124e31"
   },
   "outputs": [
    {
     "name": "stdout",
     "output_type": "stream",
     "text": [
      "tensor([1, 0, 0, 1])\n",
      "tensor([1., 0., 0., 1.])\n"
     ]
    }
   ],
   "source": [
    "print(bt.long())\n",
    "print(bt.float())"
   ]
  },
  {
   "cell_type": "markdown",
   "metadata": {
    "id": "IEZ5zjZQImlm"
   },
   "source": [
    "### 텐서 연결 : cat & stacking"
   ]
  },
  {
   "cell_type": "markdown",
   "metadata": {},
   "source": [
    "- 딥러닝 모델에서 텐서를 연결하는 경우가 많음"
   ]
  },
  {
   "cell_type": "code",
   "execution_count": 87,
   "metadata": {
    "id": "wrP7eKLHIqe0"
   },
   "outputs": [],
   "source": [
    "x = torch.FloatTensor([[1, 2], [3, 4]])\n",
    "y = torch.FloatTensor([[5, 6], [7, 8]])"
   ]
  },
  {
   "cell_type": "code",
   "execution_count": 88,
   "metadata": {},
   "outputs": [
    {
     "data": {
      "text/plain": [
       "(torch.Size([2, 2]), torch.Size([2, 2]))"
      ]
     },
     "execution_count": 88,
     "metadata": {},
     "output_type": "execute_result"
    }
   ],
   "source": [
    "x.shape, y.shape"
   ]
  },
  {
   "cell_type": "code",
   "execution_count": 79,
   "metadata": {},
   "outputs": [
    {
     "name": "stdout",
     "output_type": "stream",
     "text": [
      "tensor([[1., 2.],\n",
      "        [3., 4.],\n",
      "        [5., 6.],\n",
      "        [7., 8.]])\n"
     ]
    }
   ],
   "source": [
    "print(torch.cat([x, y], dim=0)) # 첫번째 차원 늘림"
   ]
  },
  {
   "cell_type": "code",
   "execution_count": 80,
   "metadata": {},
   "outputs": [
    {
     "name": "stdout",
     "output_type": "stream",
     "text": [
      "tensor([[1., 2., 5., 6.],\n",
      "        [3., 4., 7., 8.]])\n"
     ]
    }
   ],
   "source": [
    "print(torch.cat([x, y], dim=1)) # 두번째 차원 늘림"
   ]
  },
  {
   "cell_type": "markdown",
   "metadata": {},
   "source": [
    "- 때로는 연결을 하는 것보다 스택킹이 더 편리 : 스택킹은 많은 연산 포함"
   ]
  },
  {
   "cell_type": "code",
   "execution_count": 90,
   "metadata": {},
   "outputs": [],
   "source": [
    "x = torch.FloatTensor([1, 4])\n",
    "y = torch.FloatTensor([2, 5])\n",
    "z = torch.FloatTensor([3, 6])"
   ]
  },
  {
   "cell_type": "code",
   "execution_count": 91,
   "metadata": {},
   "outputs": [
    {
     "data": {
      "text/plain": [
       "torch.Size([2])"
      ]
     },
     "execution_count": 91,
     "metadata": {},
     "output_type": "execute_result"
    }
   ],
   "source": [
    "x.shape # 스태킹에서는 (1,2) 로 변경"
   ]
  },
  {
   "cell_type": "code",
   "execution_count": 92,
   "metadata": {},
   "outputs": [
    {
     "name": "stdout",
     "output_type": "stream",
     "text": [
      "tensor([[1., 4.],\n",
      "        [2., 5.],\n",
      "        [3., 6.]])\n"
     ]
    }
   ],
   "source": [
    "print(torch.stack([x, y, z]))\n",
    "# 연결(concatenate)로 이를 구현하려고 했더니 꽤 복잡\n",
    "    # torch.cat([x.unsqueeze(0), y.unsqueeze(0), z.unsqueeze(0)], dim=0)"
   ]
  },
  {
   "cell_type": "markdown",
   "metadata": {},
   "source": [
    "![1](https://wikidocs.net/images/page/52846/tensor1_0xdY8pX.PNG)"
   ]
  },
  {
   "cell_type": "code",
   "execution_count": 93,
   "metadata": {},
   "outputs": [
    {
     "name": "stdout",
     "output_type": "stream",
     "text": [
      "tensor([[1., 2., 3.],\n",
      "        [4., 5., 6.]])\n"
     ]
    }
   ],
   "source": [
    "print(torch.stack([x, y, z], dim=1))"
   ]
  },
  {
   "cell_type": "markdown",
   "metadata": {},
   "source": [
    "![](https://wikidocs.net/images/page/52846/tensor2_POePbuM.PNG)"
   ]
  },
  {
   "cell_type": "markdown",
   "metadata": {},
   "source": [
    "### ones_like &  zeros_like"
   ]
  },
  {
   "cell_type": "code",
   "execution_count": 94,
   "metadata": {},
   "outputs": [
    {
     "name": "stdout",
     "output_type": "stream",
     "text": [
      "tensor([[0., 1., 2.],\n",
      "        [2., 1., 0.]])\n"
     ]
    }
   ],
   "source": [
    "x = torch.FloatTensor([[0, 1, 2], [2, 1, 0]])\n",
    "print(x)"
   ]
  },
  {
   "cell_type": "code",
   "execution_count": 95,
   "metadata": {},
   "outputs": [
    {
     "name": "stdout",
     "output_type": "stream",
     "text": [
      "tensor([[1., 1., 1.],\n",
      "        [1., 1., 1.]])\n"
     ]
    }
   ],
   "source": [
    "print(torch.ones_like(x)) # 입력 텐서와 크기를 동일하게 하면서 값을 1로 채우기"
   ]
  },
  {
   "cell_type": "code",
   "execution_count": 96,
   "metadata": {},
   "outputs": [
    {
     "name": "stdout",
     "output_type": "stream",
     "text": [
      "tensor([[0., 0., 0.],\n",
      "        [0., 0., 0.]])\n"
     ]
    }
   ],
   "source": [
    "print(torch.zeros_like(x)) # 입력 텐서와 크기를 동일하게 하면서 값을 0으로 채우기"
   ]
  },
  {
   "cell_type": "markdown",
   "metadata": {},
   "source": [
    "### 덮어쓰기 연산"
   ]
  },
  {
   "cell_type": "code",
   "execution_count": 97,
   "metadata": {},
   "outputs": [],
   "source": [
    "x = torch.FloatTensor([[1, 2], [3, 4]])"
   ]
  },
  {
   "cell_type": "code",
   "execution_count": 100,
   "metadata": {},
   "outputs": [
    {
     "name": "stdout",
     "output_type": "stream",
     "text": [
      "tensor([[2., 4.],\n",
      "        [6., 8.]])\n",
      "tensor([[1., 2.],\n",
      "        [3., 4.]])\n"
     ]
    }
   ],
   "source": [
    "print(x.mul(2.)) # 곱하기 2를 수행한 결과를 출력 \n",
    "# mul 또는 * : 동일한 위치 원소별 곱셈\n",
    "print(x) # 기존의 값 출력"
   ]
  },
  {
   "cell_type": "code",
   "execution_count": 101,
   "metadata": {},
   "outputs": [
    {
     "name": "stdout",
     "output_type": "stream",
     "text": [
      "tensor([[2., 4.],\n",
      "        [6., 8.]])\n",
      "tensor([[2., 4.],\n",
      "        [6., 8.]])\n"
     ]
    }
   ],
   "source": [
    "print(x.mul_(2.))  # 곱하기 2를 수행한 결과를 변수 x에 값을 저장하면서 결과를 출력\n",
    "print(x) # 기존의 값 출력"
   ]
  },
  {
   "cell_type": "markdown",
   "metadata": {},
   "source": [
    "### 파이썬 클래스"
   ]
  },
  {
   "cell_type": "markdown",
   "metadata": {},
   "source": [
    "- 대부분 파이토치 구현체는 클래스 개념을 애용"
   ]
  },
  {
   "cell_type": "markdown",
   "metadata": {},
   "source": [
    "- 함수로 덧셈기 구현하기"
   ]
  },
  {
   "cell_type": "code",
   "execution_count": 107,
   "metadata": {},
   "outputs": [],
   "source": [
    "# 함수로 덧셈기 구현하기\n",
    "result = 0 # 전역변수 (global)"
   ]
  },
  {
   "cell_type": "code",
   "execution_count": 110,
   "metadata": {},
   "outputs": [],
   "source": [
    "def add(num):\n",
    "    global result   # global\n",
    "    result += num\n",
    "    return result"
   ]
  },
  {
   "cell_type": "code",
   "execution_count": 111,
   "metadata": {},
   "outputs": [
    {
     "name": "stdout",
     "output_type": "stream",
     "text": [
      "3\n",
      "7\n"
     ]
    }
   ],
   "source": [
    "print(add(3))\n",
    "print(add(4))"
   ]
  },
  {
   "cell_type": "code",
   "execution_count": 114,
   "metadata": {},
   "outputs": [],
   "source": [
    "# 함수(function)로 두 개의 덧셈기 구현하기\n",
    "    # 첫번째 계산기와 두번째 계산기를 독립적으로 계산\n",
    "    # 하나의 함수는 1개 덧셈기를 의미 : 두개 함수를 만들어야"
   ]
  },
  {
   "cell_type": "code",
   "execution_count": 113,
   "metadata": {},
   "outputs": [
    {
     "name": "stdout",
     "output_type": "stream",
     "text": [
      "3\n",
      "7\n",
      "3\n",
      "10\n"
     ]
    }
   ],
   "source": [
    "result1 = 0\n",
    "result2 = 0\n",
    "\n",
    "def add1(num):\n",
    "    global result1\n",
    "    result1 += num\n",
    "    return result1\n",
    "\n",
    "def add2(num):\n",
    "    global result2\n",
    "    result2 += num\n",
    "    return result2\n",
    "\n",
    "print(add1(3))\n",
    "print(add1(4))\n",
    "print(add2(3))\n",
    "print(add2(7))"
   ]
  },
  {
   "cell_type": "markdown",
   "metadata": {},
   "source": [
    "- 클래스로 덧셈기 구현\n",
    "    - 클래스는 마치 붕어빵 틀과 같아서 > 객체라는 것을 만들 수 있습니다.\n",
    "        - (중요) 독립 두 개의 덧셈기 : 함수로 구현 > 함수를 두 개 만들어야\n",
    "        - 클래스 선언 > 독립된 객체를 생성하자 코드가 훨씬 간결해졌습니다."
   ]
  },
  {
   "cell_type": "code",
   "execution_count": 115,
   "metadata": {},
   "outputs": [],
   "source": [
    "class Calculator:\n",
    "    def __init__(self): # 객체 생성 시 호출될 때 실행되는 초기화 함수. 이를 생성자라고 한다.\n",
    "        self.result = 0 # 초기화\n",
    "\n",
    "    def add(self, num): # 객체 생성 후 사용할 수 있는 함수.\n",
    "        self.result += num\n",
    "        return self.result"
   ]
  },
  {
   "cell_type": "code",
   "execution_count": 116,
   "metadata": {},
   "outputs": [],
   "source": [
    "cal1 = Calculator() # 객체생성"
   ]
  },
  {
   "cell_type": "code",
   "execution_count": 117,
   "metadata": {},
   "outputs": [],
   "source": [
    "cal2 = Calculator() # 또 독립된 객체생성"
   ]
  },
  {
   "cell_type": "code",
   "execution_count": 118,
   "metadata": {},
   "outputs": [
    {
     "name": "stdout",
     "output_type": "stream",
     "text": [
      "3\n",
      "7\n",
      "3\n",
      "10\n"
     ]
    }
   ],
   "source": [
    "print(cal1.add(3))\n",
    "print(cal1.add(4))\n",
    "print(cal2.add(3))\n",
    "print(cal2.add(7))"
   ]
  }
 ],
 "metadata": {
  "colab": {
   "collapsed_sections": [],
   "name": "Ch02. 파이토치 기초.ipynb",
   "provenance": []
  },
  "kernelspec": {
   "display_name": "Python 3 (ipykernel)",
   "language": "python",
   "name": "python3"
  },
  "language_info": {
   "codemirror_mode": {
    "name": "ipython",
    "version": 3
   },
   "file_extension": ".py",
   "mimetype": "text/x-python",
   "name": "python",
   "nbconvert_exporter": "python",
   "pygments_lexer": "ipython3",
   "version": "3.8.13"
  }
 },
 "nbformat": 4,
 "nbformat_minor": 4
}
