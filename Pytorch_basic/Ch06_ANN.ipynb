{
 "cells": [
  {
   "cell_type": "markdown",
   "metadata": {},
   "source": [
    "## 인공신경망"
   ]
  },
  {
   "cell_type": "markdown",
   "metadata": {},
   "source": [
    "### 모델평가\n",
    "![](https://wikidocs.net/images/page/24987/%EB%8D%B0%EC%9D%B4%ED%84%B0.PNG)"
   ]
  },
  {
   "cell_type": "markdown",
   "metadata": {},
   "source": [
    "### 분류와 회귀\n",
    "- 이진 분류 문제(Binary Classification)\n",
    "- 다중 클래스 분류(Multi-class Classification)\n",
    "- 회귀 (Regression)"
   ]
  },
  {
   "cell_type": "markdown",
   "metadata": {},
   "source": [
    "### 지도학습과 비지도학습\n",
    "\n",
    "- 지도 학습\n",
    "- 비지도 학습\n",
    "- 강화 학습"
   ]
  },
  {
   "attachments": {
    "009a95a0-a1b3-4d1b-ad7d-d4330a37ffc6.png": {
     "image/png": "[encoded data removed]"
    }
   },
   "cell_type": "markdown",
   "metadata": {},
   "source": [
    "### 샘플과 특성\n",
    "![image.png](attachment:009a95a0-a1b3-4d1b-ad7d-d4330a37ffc6.png)"
   ]
  },
  {
   "cell_type": "markdown",
   "metadata": {},
   "source": [
    "### 혼동행렬\n",
    "- 정밀도(Precision) : 양성이라고 대답한 전체 케이스 중 실제 양성 비율\n",
    "- 재현율(Recall)    : 실제 양성 중 양성이라 대답(맞춘) 케이스 비율"
   ]
  },
  {
   "cell_type": "markdown",
   "metadata": {},
   "source": [
    "### 과적합과 과소적합\n",
    "- 과적합을 막을 수 있는 드롭아웃(Dropout), 조기 종료(Early Stopping)"
   ]
  },
  {
   "cell_type": "markdown",
   "metadata": {
    "id": "yrJTTd2llUqw"
   },
   "source": [
    "## 퍼셉트론(Perceptron)\n",
    "\n",
    "- 초기 인공신경망 : 퍼셉트론\n",
    "\n",
    "    - 인공 뉴런 : 활성화 함수 활용\n",
    "    - 퍼셉트론(인공 뉴런 종류 중 하나) : 계단 함수 사용\n",
    "\n",
    "![](image/pc.png)"
   ]
  },
  {
   "cell_type": "markdown",
   "metadata": {},
   "source": [
    "### 단층 퍼셉트론\n",
    "![](https://wikidocs.net/images/page/24958/perceptron3_final.PNG)"
   ]
  },
  {
   "cell_type": "markdown",
   "metadata": {},
   "source": [
    "- AND 게이트 구현 : 두 입력이 모두 1인 경우 - 1 출력"
   ]
  },
  {
   "cell_type": "code",
   "execution_count": 1,
   "metadata": {
    "id": "TjKnnNztXagm"
   },
   "outputs": [],
   "source": [
    "def AND_gate(x1, x2):\n",
    "    w1=0.5\n",
    "    w2=0.5\n",
    "    b =-0.7\n",
    "    result = x1*w1 + x2*w2 + b\n",
    "    \n",
    "    if result <= 0:\n",
    "        return 0\n",
    "    else:\n",
    "        return 1"
   ]
  },
  {
   "cell_type": "code",
   "execution_count": 2,
   "metadata": {
    "colab": {
     "base_uri": "https://localhost:8080/"
    },
    "executionInfo": {
     "elapsed": 735,
     "status": "ok",
     "timestamp": 1619799761881,
     "user": {
      "displayName": "박재우",
      "photoUrl": "https://lh3.googleusercontent.com/a-/AOh14GjXI3etzUNsHKseHtKKPAfY_N2c7kAIWyXOMk2v=s64",
      "userId": "10125744057017928750"
     },
     "user_tz": -540
    },
    "id": "yJCm1umklqdw",
    "outputId": "dfbacc8b-ce07-4c9e-b44a-8883ca2d14a6"
   },
   "outputs": [
    {
     "data": {
      "text/plain": [
       "(0, 0, 0, 1)"
      ]
     },
     "execution_count": 2,
     "metadata": {},
     "output_type": "execute_result"
    }
   ],
   "source": [
    "AND_gate(0, 0), AND_gate(0, 1), AND_gate(1, 0), AND_gate(1, 1)"
   ]
  },
  {
   "cell_type": "markdown",
   "metadata": {},
   "source": [
    "- NAND 게이트 구현 : 두 입력이 1인 경우에만 - 0 출력 (AND 반대)"
   ]
  },
  {
   "cell_type": "code",
   "execution_count": 3,
   "metadata": {
    "id": "zujjhUkalsSx"
   },
   "outputs": [],
   "source": [
    "def NAND_gate(x1, x2):\n",
    "    w1=-0.5\n",
    "    w2=-0.5\n",
    "    b =0.7\n",
    "    result = x1*w1 + x2*w2 + b\n",
    "    if result <= 0:\n",
    "        return 0\n",
    "    else:\n",
    "        return 1"
   ]
  },
  {
   "cell_type": "code",
   "execution_count": 4,
   "metadata": {
    "colab": {
     "base_uri": "https://localhost:8080/"
    },
    "executionInfo": {
     "elapsed": 712,
     "status": "ok",
     "timestamp": 1619799904075,
     "user": {
      "displayName": "박재우",
      "photoUrl": "https://lh3.googleusercontent.com/a-/AOh14GjXI3etzUNsHKseHtKKPAfY_N2c7kAIWyXOMk2v=s64",
      "userId": "10125744057017928750"
     },
     "user_tz": -540
    },
    "id": "VRb1R4bamMLS",
    "outputId": "d925f68b-742d-4ce2-e4b8-3ce07a3aa59e"
   },
   "outputs": [
    {
     "data": {
      "text/plain": [
       "(1, 1, 1, 0)"
      ]
     },
     "execution_count": 4,
     "metadata": {},
     "output_type": "execute_result"
    }
   ],
   "source": [
    "NAND_gate(0, 0), NAND_gate(0, 1), NAND_gate(1, 0), NAND_gate(1, 1)"
   ]
  },
  {
   "cell_type": "markdown",
   "metadata": {},
   "source": [
    "- OR 게이트 구현 : 두 입력이 모두 0인 경우에만 - 0 출력"
   ]
  },
  {
   "cell_type": "code",
   "execution_count": 5,
   "metadata": {
    "id": "OuRWpf5pmQw4"
   },
   "outputs": [],
   "source": [
    "def OR_gate(x1, x2):\n",
    "    w1=0.6\n",
    "    w2=0.6\n",
    "    b=-0.5\n",
    "    result = x1*w1 + x2*w2 + b\n",
    "    if result <= 0:\n",
    "        return 0\n",
    "    else:\n",
    "        return 1"
   ]
  },
  {
   "cell_type": "code",
   "execution_count": 6,
   "metadata": {
    "colab": {
     "base_uri": "https://localhost:8080/"
    },
    "executionInfo": {
     "elapsed": 799,
     "status": "ok",
     "timestamp": 1619799936327,
     "user": {
      "displayName": "박재우",
      "photoUrl": "https://lh3.googleusercontent.com/a-/AOh14GjXI3etzUNsHKseHtKKPAfY_N2c7kAIWyXOMk2v=s64",
      "userId": "10125744057017928750"
     },
     "user_tz": -540
    },
    "id": "zv5LFpShmV5W",
    "outputId": "85d12bc3-9221-496d-85e3-3f64c6eb1a71"
   },
   "outputs": [
    {
     "data": {
      "text/plain": [
       "(0, 1, 1, 1)"
      ]
     },
     "execution_count": 6,
     "metadata": {},
     "output_type": "execute_result"
    }
   ],
   "source": [
    "OR_gate(0, 0), OR_gate(0, 1), OR_gate(1, 0), OR_gate(1, 1)"
   ]
  },
  {
   "cell_type": "markdown",
   "metadata": {
    "id": "t-av9QZ_nG9I"
   },
   "source": [
    "- XOR 문제\n",
    "    - 단층 퍼셉트론으로 구현 불가\n",
    "    - 곡선(비선형)으로 분리하면 구현 가능 > 다층퍼셉트론\n",
    "    \n",
    "![](https://wikidocs.net/images/page/24958/xorgraphandxorgate.PNG)\n",
    "\n",
    "![](https://wikidocs.net/images/page/24958/xorgate_nonlinearity.PNG)\n",
    "    "
   ]
  },
  {
   "cell_type": "markdown",
   "metadata": {},
   "source": [
    "### 다층 퍼셉트론\n",
    "\n",
    "![](https://wikidocs.net/images/page/24958/perceptron_4image.jpg)"
   ]
  },
  {
   "cell_type": "code",
   "execution_count": 12,
   "metadata": {},
   "outputs": [],
   "source": [
    "# test\n",
    "def XOR_gate(x1, x2):\n",
    "    \n",
    "    s1 = NAND_gate(x1, x2)\n",
    "    s2 = OR_gate(x1, x2)\n",
    "    y  = AND_gate(s1, s2)\n",
    "    \n",
    "    return y"
   ]
  },
  {
   "cell_type": "code",
   "execution_count": 13,
   "metadata": {},
   "outputs": [
    {
     "data": {
      "text/plain": [
       "(0, 1, 1, 0)"
      ]
     },
     "execution_count": 13,
     "metadata": {},
     "output_type": "execute_result"
    }
   ],
   "source": [
    "XOR_gate(0, 0), XOR_gate(0, 1), XOR_gate(1, 0), XOR_gate(1, 1)"
   ]
  },
  {
   "cell_type": "markdown",
   "metadata": {},
   "source": [
    "### 심층 신경망\n",
    "\n",
    "![](https://wikidocs.net/images/page/24958/%EC%9E%85%EC%9D%80%EC%B8%B5.PNG)"
   ]
  },
  {
   "cell_type": "markdown",
   "metadata": {},
   "source": [
    "## 단층 퍼셉트론 구현"
   ]
  },
  {
   "cell_type": "code",
   "execution_count": 14,
   "metadata": {
    "executionInfo": {
     "elapsed": 907,
     "status": "ok",
     "timestamp": 1619881394595,
     "user": {
      "displayName": "박재우",
      "photoUrl": "https://lh3.googleusercontent.com/a-/AOh14GjXI3etzUNsHKseHtKKPAfY_N2c7kAIWyXOMk2v=s64",
      "userId": "10125744057017928750"
     },
     "user_tz": -540
    },
    "id": "WzdMpSnAmwbX"
   },
   "outputs": [],
   "source": [
    "import torch\n",
    "import torch.nn as nn\n",
    "import torch.optim as optim"
   ]
  },
  {
   "cell_type": "code",
   "execution_count": 17,
   "metadata": {
    "executionInfo": {
     "elapsed": 891,
     "status": "ok",
     "timestamp": 1619881308083,
     "user": {
      "displayName": "박재우",
      "photoUrl": "https://lh3.googleusercontent.com/a-/AOh14GjXI3etzUNsHKseHtKKPAfY_N2c7kAIWyXOMk2v=s64",
      "userId": "10125744057017928750"
     },
     "user_tz": -540
    },
    "id": "WB3_Sd2Hcixf"
   },
   "outputs": [],
   "source": [
    "# gpu 사용 확인\n",
    "device = \"cuda\" if torch.cuda.is_available() else \"cpu\"\n",
    "torch.manual_seed(777)\n",
    "if device == \"cuda\":\n",
    "    torch.cuda.manual_seed(777)"
   ]
  },
  {
   "cell_type": "code",
   "execution_count": 18,
   "metadata": {},
   "outputs": [
    {
     "data": {
      "text/plain": [
       "'cpu'"
      ]
     },
     "execution_count": 18,
     "metadata": {},
     "output_type": "execute_result"
    }
   ],
   "source": [
    "device"
   ]
  },
  {
   "cell_type": "code",
   "execution_count": 27,
   "metadata": {
    "executionInfo": {
     "elapsed": 831,
     "status": "ok",
     "timestamp": 1619881318319,
     "user": {
      "displayName": "박재우",
      "photoUrl": "https://lh3.googleusercontent.com/a-/AOh14GjXI3etzUNsHKseHtKKPAfY_N2c7kAIWyXOMk2v=s64",
      "userId": "10125744057017928750"
     },
     "user_tz": -540
    },
    "id": "WcFSh_5ocyv_"
   },
   "outputs": [],
   "source": [
    "# XOR 데이터셋\n",
    "X = torch.FloatTensor([[0, 0], [0, 1], [1, 0], [1, 1]]).to(device)\n",
    "Y = torch.FloatTensor([[0], [1], [1], [0]]).to(device)"
   ]
  },
  {
   "cell_type": "code",
   "execution_count": 28,
   "metadata": {
    "colab": {
     "base_uri": "https://localhost:8080/"
    },
    "executionInfo": {
     "elapsed": 926,
     "status": "ok",
     "timestamp": 1619881329996,
     "user": {
      "displayName": "박재우",
      "photoUrl": "https://lh3.googleusercontent.com/a-/AOh14GjXI3etzUNsHKseHtKKPAfY_N2c7kAIWyXOMk2v=s64",
      "userId": "10125744057017928750"
     },
     "user_tz": -540
    },
    "id": "tJDmKro_c1Kw",
    "outputId": "f005ceab-2432-4be7-bdb5-efc6399d5f92"
   },
   "outputs": [
    {
     "name": "stdout",
     "output_type": "stream",
     "text": [
      "tensor([[0., 0.],\n",
      "        [0., 1.],\n",
      "        [1., 0.],\n",
      "        [1., 1.]]) torch.Size([4, 2])\n",
      "tensor([[0.],\n",
      "        [1.],\n",
      "        [1.],\n",
      "        [0.]]) torch.Size([4, 1])\n"
     ]
    }
   ],
   "source": [
    "print(X, X.shape)\n",
    "print(Y, Y.shape)"
   ]
  },
  {
   "cell_type": "code",
   "execution_count": 61,
   "metadata": {},
   "outputs": [
    {
     "data": {
      "text/plain": [
       "tensor([[0.6931],\n",
       "        [0.6931],\n",
       "        [0.6931],\n",
       "        [0.6931]], grad_fn=<AddBackward0>)"
      ]
     },
     "execution_count": 61,
     "metadata": {},
     "output_type": "execute_result"
    }
   ],
   "source": [
    "(Y * - torch.log(model(X)) + (1-Y) * - torch.log(1-model(X)))"
   ]
  },
  {
   "cell_type": "code",
   "execution_count": 60,
   "metadata": {},
   "outputs": [
    {
     "data": {
      "text/plain": [
       "tensor([0.6931, 0.6931, 0.6931, 0.6931], grad_fn=<SumBackward1>)"
      ]
     },
     "execution_count": 60,
     "metadata": {},
     "output_type": "execute_result"
    }
   ],
   "source": [
    "(Y * - torch.log(model(X)) + (1-Y) * - torch.log(1-model(X))).sum(dim=1)"
   ]
  },
  {
   "cell_type": "code",
   "execution_count": 62,
   "metadata": {},
   "outputs": [
    {
     "data": {
      "text/plain": [
       "tensor(0.6931, grad_fn=<MeanBackward0>)"
      ]
     },
     "execution_count": 62,
     "metadata": {},
     "output_type": "execute_result"
    }
   ],
   "source": [
    "(Y * - torch.log(model(X)) + (1-Y) * - torch.log(1-model(X))).sum(dim=1).mean()"
   ]
  },
  {
   "cell_type": "markdown",
   "metadata": {},
   "source": [
    "- 단층 퍼셉트론 구현 > 시그모이드 활용"
   ]
  },
  {
   "cell_type": "code",
   "execution_count": 23,
   "metadata": {
    "executionInfo": {
     "elapsed": 853,
     "status": "ok",
     "timestamp": 1619881408302,
     "user": {
      "displayName": "박재우",
      "photoUrl": "https://lh3.googleusercontent.com/a-/AOh14GjXI3etzUNsHKseHtKKPAfY_N2c7kAIWyXOMk2v=s64",
      "userId": "10125744057017928750"
     },
     "user_tz": -540
    },
    "id": "rymOTAkFc37-"
   },
   "outputs": [],
   "source": [
    "# 모델\n",
    "linear = nn.Linear(2, 1, bias=True)  # input : 2차원, output : 1차원\n",
    "sigmoid = nn.Sigmoid()\n",
    "model = nn.Sequential(linear, sigmoid).to(device)"
   ]
  },
  {
   "cell_type": "code",
   "execution_count": 24,
   "metadata": {
    "executionInfo": {
     "elapsed": 548,
     "status": "ok",
     "timestamp": 1619881480446,
     "user": {
      "displayName": "박재우",
      "photoUrl": "https://lh3.googleusercontent.com/a-/AOh14GjXI3etzUNsHKseHtKKPAfY_N2c7kAIWyXOMk2v=s64",
      "userId": "10125744057017928750"
     },
     "user_tz": -540
    },
    "id": "E5wyMp18dCv0"
   },
   "outputs": [],
   "source": [
    "# 비용함수와 옵티마이저\n",
    "    # nn.BCELoss()는 이진 분류 - 크로스엔트로피 함수\n",
    "criterion = torch.nn.BCELoss().to(device)\n",
    "optimizer = torch.optim.SGD(model.parameters(), lr=1)"
   ]
  },
  {
   "cell_type": "code",
   "execution_count": 25,
   "metadata": {
    "colab": {
     "base_uri": "https://localhost:8080/"
    },
    "executionInfo": {
     "elapsed": 3080,
     "status": "ok",
     "timestamp": 1619881580514,
     "user": {
      "displayName": "박재우",
      "photoUrl": "https://lh3.googleusercontent.com/a-/AOh14GjXI3etzUNsHKseHtKKPAfY_N2c7kAIWyXOMk2v=s64",
      "userId": "10125744057017928750"
     },
     "user_tz": -540
    },
    "id": "JCCLH096dbJA",
    "outputId": "09e98871-486a-4fa3-ab95-f456342338e3"
   },
   "outputs": [
    {
     "name": "stdout",
     "output_type": "stream",
     "text": [
      "0 0.7273974418640137\n",
      "100 0.6931476593017578\n",
      "200 0.6931471824645996\n",
      "300 0.6931471824645996\n",
      "400 0.6931471824645996\n",
      "500 0.6931471824645996\n",
      "600 0.6931471824645996\n",
      "700 0.6931471824645996\n",
      "800 0.6931471824645996\n",
      "900 0.6931471824645996\n",
      "1000 0.6931471824645996\n",
      "1100 0.6931471824645996\n",
      "1200 0.6931471824645996\n",
      "1300 0.6931471824645996\n",
      "1400 0.6931471824645996\n",
      "1500 0.6931471824645996\n",
      "1600 0.6931471824645996\n",
      "1700 0.6931471824645996\n",
      "1800 0.6931471824645996\n",
      "1900 0.6931471824645996\n",
      "2000 0.6931471824645996\n",
      "2100 0.6931471824645996\n",
      "2200 0.6931471824645996\n",
      "2300 0.6931471824645996\n",
      "2400 0.6931471824645996\n",
      "2500 0.6931471824645996\n",
      "2600 0.6931471824645996\n",
      "2700 0.6931471824645996\n",
      "2800 0.6931471824645996\n",
      "2900 0.6931471824645996\n",
      "3000 0.6931471824645996\n",
      "3100 0.6931471824645996\n",
      "3200 0.6931471824645996\n",
      "3300 0.6931471824645996\n",
      "3400 0.6931471824645996\n",
      "3500 0.6931471824645996\n",
      "3600 0.6931471824645996\n",
      "3700 0.6931471824645996\n",
      "3800 0.6931471824645996\n",
      "3900 0.6931471824645996\n",
      "4000 0.6931471824645996\n",
      "4100 0.6931471824645996\n",
      "4200 0.6931471824645996\n",
      "4300 0.6931471824645996\n",
      "4400 0.6931471824645996\n",
      "4500 0.6931471824645996\n",
      "4600 0.6931471824645996\n",
      "4700 0.6931471824645996\n",
      "4800 0.6931471824645996\n",
      "4900 0.6931471824645996\n",
      "5000 0.6931471824645996\n",
      "5100 0.6931471824645996\n",
      "5200 0.6931471824645996\n",
      "5300 0.6931471824645996\n",
      "5400 0.6931471824645996\n",
      "5500 0.6931471824645996\n",
      "5600 0.6931471824645996\n",
      "5700 0.6931471824645996\n",
      "5800 0.6931471824645996\n",
      "5900 0.6931471824645996\n",
      "6000 0.6931471824645996\n",
      "6100 0.6931471824645996\n",
      "6200 0.6931471824645996\n",
      "6300 0.6931471824645996\n",
      "6400 0.6931471824645996\n",
      "6500 0.6931471824645996\n",
      "6600 0.6931471824645996\n",
      "6700 0.6931471824645996\n",
      "6800 0.6931471824645996\n",
      "6900 0.6931471824645996\n",
      "7000 0.6931471824645996\n",
      "7100 0.6931471824645996\n",
      "7200 0.6931471824645996\n",
      "7300 0.6931471824645996\n",
      "7400 0.6931471824645996\n",
      "7500 0.6931471824645996\n",
      "7600 0.6931471824645996\n",
      "7700 0.6931471824645996\n",
      "7800 0.6931471824645996\n",
      "7900 0.6931471824645996\n",
      "8000 0.6931471824645996\n",
      "8100 0.6931471824645996\n",
      "8200 0.6931471824645996\n",
      "8300 0.6931471824645996\n",
      "8400 0.6931471824645996\n",
      "8500 0.6931471824645996\n",
      "8600 0.6931471824645996\n",
      "8700 0.6931471824645996\n",
      "8800 0.6931471824645996\n",
      "8900 0.6931471824645996\n",
      "9000 0.6931471824645996\n",
      "9100 0.6931471824645996\n",
      "9200 0.6931471824645996\n",
      "9300 0.6931471824645996\n",
      "9400 0.6931471824645996\n",
      "9500 0.6931471824645996\n",
      "9600 0.6931471824645996\n",
      "9700 0.6931471824645996\n",
      "9800 0.6931471824645996\n",
      "9900 0.6931471824645996\n",
      "10000 0.6931471824645996\n"
     ]
    }
   ],
   "source": [
    "#10,001번의 에포크 수행. 0번 에포크부터 10,000번 에포크까지.\n",
    "for step in range(10001): \n",
    "    optimizer.zero_grad()\n",
    "    \n",
    "    hypothesis = model(X)\n",
    "\n",
    "    # 비용 계산 후 역전파\n",
    "    cost = criterion(hypothesis, Y)\n",
    "    cost.backward()\n",
    "    optimizer.step()\n",
    "\n",
    "    if step % 100 == 0: # 100번째 에포크마다 비용 출력\n",
    "        print(step, cost.item())\n",
    "        \n",
    "        # 문제해결 못함"
   ]
  },
  {
   "cell_type": "markdown",
   "metadata": {},
   "source": [
    "- 예측값 확인"
   ]
  },
  {
   "cell_type": "code",
   "execution_count": 63,
   "metadata": {},
   "outputs": [
    {
     "data": {
      "text/plain": [
       "tensor([[0.5000],\n",
       "        [0.5000],\n",
       "        [0.5000],\n",
       "        [0.5000]], grad_fn=<SigmoidBackward0>)"
      ]
     },
     "execution_count": 63,
     "metadata": {},
     "output_type": "execute_result"
    }
   ],
   "source": [
    "model(X)"
   ]
  },
  {
   "cell_type": "code",
   "execution_count": 64,
   "metadata": {},
   "outputs": [
    {
     "data": {
      "text/plain": [
       "tensor([[0.],\n",
       "        [0.],\n",
       "        [0.],\n",
       "        [0.]])"
      ]
     },
     "execution_count": 64,
     "metadata": {},
     "output_type": "execute_result"
    }
   ],
   "source": [
    "(hypothesis > 0.5).float()"
   ]
  },
  {
   "cell_type": "code",
   "execution_count": 65,
   "metadata": {},
   "outputs": [
    {
     "data": {
      "text/plain": [
       "tensor([[0.],\n",
       "        [1.],\n",
       "        [1.],\n",
       "        [0.]])"
      ]
     },
     "execution_count": 65,
     "metadata": {},
     "output_type": "execute_result"
    }
   ],
   "source": [
    "Y"
   ]
  },
  {
   "cell_type": "code",
   "execution_count": 66,
   "metadata": {
    "colab": {
     "base_uri": "https://localhost:8080/"
    },
    "executionInfo": {
     "elapsed": 765,
     "status": "ok",
     "timestamp": 1619881688609,
     "user": {
      "displayName": "박재우",
      "photoUrl": "https://lh3.googleusercontent.com/a-/AOh14GjXI3etzUNsHKseHtKKPAfY_N2c7kAIWyXOMk2v=s64",
      "userId": "10125744057017928750"
     },
     "user_tz": -540
    },
    "id": "tGfN9qNad0uf",
    "outputId": "8c3fe010-4cbb-43d8-d14c-c1745045bdd7"
   },
   "outputs": [
    {
     "name": "stdout",
     "output_type": "stream",
     "text": [
      "모델의 출력값(Hypothesis):  [[0.5]\n",
      " [0.5]\n",
      " [0.5]\n",
      " [0.5]]\n",
      "모델의 예측값(Predicted):  [[0.]\n",
      " [0.]\n",
      " [0.]\n",
      " [0.]]\n",
      "실제값(Y):  [[0.]\n",
      " [1.]\n",
      " [1.]\n",
      " [0.]]\n",
      "정확도(Accuracy):  0.5\n"
     ]
    }
   ],
   "source": [
    "with torch.no_grad():  # torch.no_grad()\n",
    "    \n",
    "    hypothesis = model(X)\n",
    "    predicted = (hypothesis > 0.5).float()\n",
    "    accuracy = (predicted == Y).float().mean()\n",
    "    \n",
    "    print('모델의 출력값(Hypothesis): ', hypothesis.detach().cpu().numpy())\n",
    "    print('모델의 예측값(Predicted): ', predicted.detach().cpu().numpy())\n",
    "    print('실제값(Y): ', Y.cpu().numpy())\n",
    "    print('정확도(Accuracy): ', accuracy.item())"
   ]
  },
  {
   "cell_type": "markdown",
   "metadata": {},
   "source": [
    "## 역전파 개념"
   ]
  },
  {
   "cell_type": "markdown",
   "metadata": {},
   "source": [
    "- 경사하강법: 가중치 업데이트 프로세스"
   ]
  },
  {
   "cell_type": "markdown",
   "metadata": {},
   "source": [
    "![](https://wikidocs.net/images/page/37406/nn1_final.PNG)\n",
    "\n",
    "- z : 이전 층의 입력에 가중치를 곱하고 더해진 값\n",
    "- | : 시그모이드 함수"
   ]
  },
  {
   "cell_type": "markdown",
   "metadata": {},
   "source": [
    "### 순전파(Forward)\n",
    "\n",
    "![](https://wikidocs.net/images/page/37406/nn2_final_final.PNG)"
   ]
  },
  {
   "cell_type": "markdown",
   "metadata": {},
   "source": [
    "![](image/for_1.png)"
   ]
  },
  {
   "cell_type": "code",
   "execution_count": 12,
   "metadata": {},
   "outputs": [],
   "source": [
    "import torch\n",
    "\n",
    "# h1, h2\n",
    "torch.sigmoid(torch.FloatTensor([0.08])), torch.sigmoid(torch.FloatTensor([0.11]))\n",
    "\n",
    "h1, h2 = torch.sigmoid(torch.FloatTensor([0.08])), torch.sigmoid(torch.FloatTensor([0.11]))"
   ]
  },
  {
   "cell_type": "markdown",
   "metadata": {},
   "source": [
    "![](image/for_2.png)"
   ]
  },
  {
   "cell_type": "code",
   "execution_count": 16,
   "metadata": {},
   "outputs": [],
   "source": [
    "0.45 * h1 + 0.4 * h2, 0.7 * h1 + 0.6 * h2\n",
    "z3, z4 = 0.45 * h1 + 0.4 * h2, 0.7 * h1 + 0.6 * h2"
   ]
  },
  {
   "cell_type": "code",
   "execution_count": 18,
   "metadata": {},
   "outputs": [
    {
     "data": {
      "text/plain": [
       "(tensor([0.6094]), tensor([0.6638]))"
      ]
     },
     "execution_count": 18,
     "metadata": {},
     "output_type": "execute_result"
    }
   ],
   "source": [
    "# o1, o2\n",
    "torch.sigmoid(z3), torch.sigmoid(z4)"
   ]
  },
  {
   "cell_type": "markdown",
   "metadata": {},
   "source": [
    "- 비용함수 : 계산\n",
    "    - MSE\n",
    "\n",
    "![](image/for_3.png)"
   ]
  },
  {
   "cell_type": "markdown",
   "metadata": {},
   "source": [
    "### 역전파 1단계\n",
    "![](https://wikidocs.net/images/page/37406/nn3_final.PNG)\n",
    "\n",
    "- W5, W6, W7, W8 업데이트"
   ]
  },
  {
   "cell_type": "markdown",
   "metadata": {},
   "source": [
    "- W5 업데이트 예시\n",
    "\n",
    "![](image/for_4.png)"
   ]
  },
  {
   "cell_type": "markdown",
   "metadata": {},
   "source": [
    "- 첫번째 항\n",
    "![](image/for_5.png)"
   ]
  },
  {
   "cell_type": "markdown",
   "metadata": {},
   "source": [
    "![](image/for_6.png)"
   ]
  },
  {
   "cell_type": "markdown",
   "metadata": {},
   "source": [
    "- 두번째 항\n",
    "\n",
    "[참고] 시그모이드 함수 미분\n",
    "\n",
    "![](image/for_7.png)"
   ]
  },
  {
   "cell_type": "markdown",
   "metadata": {},
   "source": [
    "![](image/for_8.png)"
   ]
  },
  {
   "cell_type": "markdown",
   "metadata": {},
   "source": [
    "- 세번째 항\n",
    "\n",
    "![](image/for_9.png)"
   ]
  },
  {
   "cell_type": "markdown",
   "metadata": {},
   "source": [
    "- w5 업데이트(학습률은 0.5라고 가정)\n",
    "\n",
    "![](image/for_11.png)\n",
    "![](image/for_10.png)"
   ]
  },
  {
   "cell_type": "markdown",
   "metadata": {},
   "source": [
    "### 역전파 2단계\n",
    "\n",
    "![](image/back_1.png)"
   ]
  },
  {
   "cell_type": "markdown",
   "metadata": {},
   "source": [
    "- 업데이트할 가중치 : W1, W2, W3, W4"
   ]
  },
  {
   "cell_type": "markdown",
   "metadata": {},
   "source": [
    "- W1 업데이트 예시\n",
    "\n",
    "![](image/back_2.png)"
   ]
  },
  {
   "cell_type": "markdown",
   "metadata": {},
   "source": [
    "![](image/back_3.png)\n",
    "![](image/back_4.png)"
   ]
  },
  {
   "cell_type": "markdown",
   "metadata": {},
   "source": [
    "![](image/back_5.png)\n",
    "![](image/back_6.png)"
   ]
  },
  {
   "cell_type": "markdown",
   "metadata": {},
   "source": [
    "### Re 순전파 : 결과확인"
   ]
  },
  {
   "cell_type": "markdown",
   "metadata": {},
   "source": [
    "![](image/back_7.png)"
   ]
  },
  {
   "cell_type": "markdown",
   "metadata": {
    "id": "iI4BLqYOeVFD"
   },
   "source": [
    "## XOR 문제 - 다층 퍼셉트론 구현하기"
   ]
  },
  {
   "cell_type": "markdown",
   "metadata": {},
   "source": [
    "### 파이토치 구현"
   ]
  },
  {
   "cell_type": "code",
   "execution_count": 19,
   "metadata": {
    "executionInfo": {
     "elapsed": 1174,
     "status": "ok",
     "timestamp": 1619881725987,
     "user": {
      "displayName": "박재우",
      "photoUrl": "https://lh3.googleusercontent.com/a-/AOh14GjXI3etzUNsHKseHtKKPAfY_N2c7kAIWyXOMk2v=s64",
      "userId": "10125744057017928750"
     },
     "user_tz": -540
    },
    "id": "2GX5JZNFeMq6"
   },
   "outputs": [],
   "source": [
    "import torch\n",
    "import torch.nn as nn"
   ]
  },
  {
   "cell_type": "code",
   "execution_count": 20,
   "metadata": {
    "executionInfo": {
     "elapsed": 827,
     "status": "ok",
     "timestamp": 1619881782297,
     "user": {
      "displayName": "박재우",
      "photoUrl": "https://lh3.googleusercontent.com/a-/AOh14GjXI3etzUNsHKseHtKKPAfY_N2c7kAIWyXOMk2v=s64",
      "userId": "10125744057017928750"
     },
     "user_tz": -540
    },
    "id": "Cp9rnCkAeYq6"
   },
   "outputs": [],
   "source": [
    "# GPU 활용시\n",
    "device = 'cuda' if torch.cuda.is_available() else 'cpu'\n",
    "\n",
    "# for reproducibility\n",
    "torch.manual_seed(777)\n",
    "if device == 'cuda':\n",
    "    torch.cuda.manual_seed_all(777)"
   ]
  },
  {
   "cell_type": "code",
   "execution_count": 21,
   "metadata": {},
   "outputs": [
    {
     "data": {
      "text/plain": [
       "'cpu'"
      ]
     },
     "execution_count": 21,
     "metadata": {},
     "output_type": "execute_result"
    }
   ],
   "source": [
    "device"
   ]
  },
  {
   "cell_type": "code",
   "execution_count": 22,
   "metadata": {
    "executionInfo": {
     "elapsed": 748,
     "status": "ok",
     "timestamp": 1619881789780,
     "user": {
      "displayName": "박재우",
      "photoUrl": "https://lh3.googleusercontent.com/a-/AOh14GjXI3etzUNsHKseHtKKPAfY_N2c7kAIWyXOMk2v=s64",
      "userId": "10125744057017928750"
     },
     "user_tz": -540
    },
    "id": "asIgDLJXej4S"
   },
   "outputs": [],
   "source": [
    "# 데이터\n",
    "\n",
    "X = torch.FloatTensor([[0, 0], [0, 1], [1, 0], [1, 1]]).to(device)\n",
    "Y = torch.FloatTensor([[0], [1], [1], [0]]).to(device)"
   ]
  },
  {
   "cell_type": "markdown",
   "metadata": {},
   "source": [
    "![](https://wikidocs.net/images/page/61010/ann.PNG)"
   ]
  },
  {
   "cell_type": "code",
   "execution_count": 23,
   "metadata": {
    "executionInfo": {
     "elapsed": 790,
     "status": "ok",
     "timestamp": 1619881901182,
     "user": {
      "displayName": "박재우",
      "photoUrl": "https://lh3.googleusercontent.com/a-/AOh14GjXI3etzUNsHKseHtKKPAfY_N2c7kAIWyXOMk2v=s64",
      "userId": "10125744057017928750"
     },
     "user_tz": -540
    },
    "id": "j61YTdMweoRc"
   },
   "outputs": [],
   "source": [
    "# 은닉층이 3개인 인공신경망\n",
    "\n",
    "model = nn.Sequential(\n",
    "    nn.Linear(2, 10, bias=True),  # 2> 10(1)\n",
    "    nn.Sigmoid(),\n",
    "    nn.Linear(10, 10, bias=True), # 10 > 10(2)\n",
    "    nn.Sigmoid(),\n",
    "    nn.Linear(10, 10, bias=True), # 10 > 10(3)\n",
    "    nn.Sigmoid(),\n",
    "    nn.Linear(10, 1, bias=True),  # 10 > 1\n",
    "    nn.Sigmoid(),   \n",
    ").to(device)"
   ]
  },
  {
   "cell_type": "code",
   "execution_count": 24,
   "metadata": {
    "executionInfo": {
     "elapsed": 826,
     "status": "ok",
     "timestamp": 1619881981060,
     "user": {
      "displayName": "박재우",
      "photoUrl": "https://lh3.googleusercontent.com/a-/AOh14GjXI3etzUNsHKseHtKKPAfY_N2c7kAIWyXOMk2v=s64",
      "userId": "10125744057017928750"
     },
     "user_tz": -540
    },
    "id": "9J4URl-Oe8a7"
   },
   "outputs": [],
   "source": [
    "# torch.nn.BCELoss()\n",
    "\n",
    "criterion = torch.nn.BCELoss().to(device)\n",
    "optimizer = torch.optim.SGD(model.parameters(), lr=1)"
   ]
  },
  {
   "cell_type": "code",
   "execution_count": 42,
   "metadata": {},
   "outputs": [
    {
     "data": {
      "text/plain": [
       "torch.Size([1, 10])"
      ]
     },
     "execution_count": 42,
     "metadata": {},
     "output_type": "execute_result"
    }
   ],
   "source": [
    "list(model.parameters())[6].shape"
   ]
  },
  {
   "cell_type": "code",
   "execution_count": 43,
   "metadata": {
    "colab": {
     "base_uri": "https://localhost:8080/"
    },
    "executionInfo": {
     "elapsed": 6684,
     "status": "ok",
     "timestamp": 1619882077218,
     "user": {
      "displayName": "박재우",
      "photoUrl": "https://lh3.googleusercontent.com/a-/AOh14GjXI3etzUNsHKseHtKKPAfY_N2c7kAIWyXOMk2v=s64",
      "userId": "10125744057017928750"
     },
     "user_tz": -540
    },
    "id": "78dalpQJfUrf",
    "outputId": "9004bb06-1075-403c-b7aa-724711ebd4f4"
   },
   "outputs": [
    {
     "name": "stdout",
     "output_type": "stream",
     "text": [
      "0 0.6948983669281006\n",
      "100 0.693155825138092\n",
      "200 0.6931535601615906\n",
      "300 0.6931513547897339\n",
      "400 0.693149209022522\n",
      "500 0.6931473016738892\n",
      "600 0.6931453943252563\n",
      "700 0.6931434273719788\n",
      "800 0.6931416988372803\n",
      "900 0.6931397914886475\n",
      "1000 0.6931380033493042\n",
      "1100 0.6931361556053162\n",
      "1200 0.6931343078613281\n",
      "1300 0.6931324005126953\n",
      "1400 0.6931304931640625\n",
      "1500 0.6931284666061401\n",
      "1600 0.6931264400482178\n",
      "1700 0.6931242942810059\n",
      "1800 0.6931220889091492\n",
      "1900 0.6931197047233582\n",
      "2000 0.6931171417236328\n",
      "2100 0.6931145191192627\n",
      "2200 0.6931115984916687\n",
      "2300 0.6931084990501404\n",
      "2400 0.6931051015853882\n",
      "2500 0.6931014657020569\n",
      "2600 0.6930974721908569\n",
      "2700 0.6930930018424988\n",
      "2800 0.6930879950523376\n",
      "2900 0.6930825114250183\n",
      "3000 0.6930763721466064\n",
      "3100 0.6930692195892334\n",
      "3200 0.6930612325668335\n",
      "3300 0.6930519342422485\n",
      "3400 0.6930410861968994\n",
      "3500 0.6930283904075623\n",
      "3600 0.6930132508277893\n",
      "3700 0.6929951310157776\n",
      "3800 0.6929728984832764\n",
      "3900 0.6929453015327454\n",
      "4000 0.6929103136062622\n",
      "4100 0.6928649544715881\n",
      "4200 0.6928046941757202\n",
      "4300 0.692721962928772\n",
      "4400 0.692604124546051\n",
      "4500 0.6924278736114502\n",
      "4600 0.6921480298042297\n",
      "4700 0.6916664838790894\n",
      "4800 0.6907395124435425\n",
      "4900 0.6886203289031982\n",
      "5000 0.6820818185806274\n",
      "5100 0.6472527980804443\n",
      "5200 0.44994843006134033\n",
      "5300 0.041418157517910004\n",
      "5400 0.009738397784531116\n",
      "5500 0.005035833455622196\n",
      "5600 0.0032971729524433613\n",
      "5700 0.0024168307427316904\n",
      "5800 0.0018922279123216867\n",
      "5900 0.0015467405319213867\n",
      "6000 0.0013033139985054731\n",
      "6100 0.0011231712996959686\n",
      "6200 0.0009848718764260411\n",
      "6300 0.0008755262824706733\n",
      "6400 0.000787071418017149\n",
      "6500 0.0007141333189792931\n",
      "6600 0.0006530550308525562\n",
      "6700 0.0006011504447087646\n",
      "6800 0.0005565693136304617\n",
      "6900 0.0005178644205443561\n",
      "7000 0.00048400633386336267\n",
      "7100 0.0004541150410659611\n",
      "7200 0.00042753416346386075\n",
      "7300 0.0004037863982375711\n",
      "7400 0.0003824243613053113\n",
      "7500 0.0003631050349213183\n",
      "7600 0.00034560466883704066\n",
      "7700 0.00032958033261820674\n",
      "7800 0.00031495740404352546\n",
      "7900 0.00030152720864862204\n",
      "8000 0.0002891554613597691\n",
      "8100 0.0002777229528874159\n",
      "8200 0.00026711029931902885\n",
      "8300 0.000257257983321324\n",
      "8400 0.0002480764815118164\n",
      "8500 0.00023949125898070633\n",
      "8600 0.0002314575540367514\n",
      "8700 0.0002239307068521157\n",
      "8800 0.0002168510400224477\n",
      "8900 0.00021021856809966266\n",
      "9000 0.00020391402358654886\n",
      "9100 0.0001979821245186031\n",
      "9200 0.00019239308312535286\n",
      "9300 0.00018708722200244665\n",
      "9400 0.00018206457025371492\n",
      "9500 0.00017725062207318842\n",
      "9600 0.00017273474077228457\n",
      "9700 0.00016841263277456164\n",
      "9800 0.00016429921379312873\n",
      "9900 0.00016036465240176767\n",
      "10000 0.0001565940328873694\n"
     ]
    }
   ],
   "source": [
    "# 10001번 에포크수행 : 에포크마다 순전파 > 역전파 수행\n",
    "\n",
    "for epoch in range(10001):\n",
    "    \n",
    "    # 초기화\n",
    "    optimizer.zero_grad()\n",
    "    # forward 연산\n",
    "    hypothesis = model(X)\n",
    "\n",
    "    # 역전파\n",
    "    cost = criterion(hypothesis, Y)\n",
    "    cost.backward()\n",
    "    optimizer.step()  # 업데이트\n",
    "\n",
    "    # 100의 배수에 해당되는 에포크마다 비용을 출력\n",
    "    if epoch % 100 == 0:\n",
    "        print(epoch, cost.item())"
   ]
  },
  {
   "cell_type": "markdown",
   "metadata": {},
   "source": [
    "### 다층 퍼셉트론 예측값 확인\n",
    "\n",
    "- XOR 문제 해결"
   ]
  },
  {
   "cell_type": "code",
   "execution_count": 52,
   "metadata": {
    "colab": {
     "base_uri": "https://localhost:8080/"
    },
    "executionInfo": {
     "elapsed": 833,
     "status": "ok",
     "timestamp": 1619882253343,
     "user": {
      "displayName": "박재우",
      "photoUrl": "https://lh3.googleusercontent.com/a-/AOh14GjXI3etzUNsHKseHtKKPAfY_N2c7kAIWyXOMk2v=s64",
      "userId": "10125744057017928750"
     },
     "user_tz": -540
    },
    "id": "hVyMUZQSfp11",
    "outputId": "481ef924-f26e-45a4-9bc5-1327d11ed0b4"
   },
   "outputs": [
    {
     "name": "stdout",
     "output_type": "stream",
     "text": [
      "모델의 출력값(Hypothesis):  [[1.000e-04]\n",
      " [9.998e-01]\n",
      " [9.998e-01]\n",
      " [2.000e-04]]\n",
      "모델의 예측값(Predicted):  [[0.]\n",
      " [1.]\n",
      " [1.]\n",
      " [0.]]\n",
      "실제값(Y):  [[0.]\n",
      " [1.]\n",
      " [1.]\n",
      " [0.]]\n",
      "정확도(Accuracy):  1.0\n"
     ]
    }
   ],
   "source": [
    "import numpy as np\n",
    "\n",
    "with torch.no_grad():\n",
    "    hypothesis = model(X)  # X 그대로 넣음\n",
    "    predicted = (hypothesis > 0.5).float()\n",
    "    accuracy = (predicted == Y).float().mean()\n",
    "    \n",
    "    \n",
    "    print('모델의 출력값(Hypothesis): ', np.round(hypothesis.detach().numpy(),4))\n",
    "    print('모델의 예측값(Predicted): ', predicted.detach().cpu().numpy())\n",
    "    print('실제값(Y): ', Y.cpu().numpy())\n",
    "    print('정확도(Accuracy): ', accuracy.item())"
   ]
  },
  {
   "cell_type": "markdown",
   "metadata": {
    "id": "A2rmyup-gco7"
   },
   "source": [
    "## 비선형 활성화 함수(Activation function)\n",
    "\n",
    "- 출력을 받아 \"수학적 변환을 수행\"하고 출력을 생성하는 함수\n",
    "- 선형 함수로는 은닉층을 \"연속\" 추가하더라도 1회 추가한 것과 다를바가 없다\n",
    "    - 선형함수 사용 층은 가중치가 생긴다"
   ]
  },
  {
   "cell_type": "markdown",
   "metadata": {},
   "source": [
    "### 시그모이드 함수 - 기울기 소실\n",
    "\n",
    "- 시그모이드 함수의 문제점은 기울기 계산때 발생 \n",
    "\n",
    "![](https://wikidocs.net/images/page/60683/simple-neural-network.png)"
   ]
  },
  {
   "cell_type": "markdown",
   "metadata": {},
   "source": [
    "![](https://wikidocs.net/images/page/60683/%EC%8B%9C%EA%B7%B8%EB%AA%A8%EC%9D%B4%EB%93%9C%ED%95%A8%EC%88%982.PNG)"
   ]
  },
  {
   "cell_type": "markdown",
   "metadata": {},
   "source": [
    "- 주황색 부분에서 기울기를 계산하면 '0'에 가까운 값 나옴\n",
    "     * 역전파 과정에서 작은값이 곱해지면 > 앞단에 기울기가 잘 전달 X\n",
    "\n"
   ]
  },
  {
   "cell_type": "markdown",
   "metadata": {},
   "source": [
    "    \n",
    "\n",
    "- 또한 항상 양수를 출력 > 편향이동 이슈 > 기울소실 잘 일어남\n",
    "\n",
    "- 시그모이드 함수가 은닉층 다수가 될 경우 : 문제 발생(*지양됨)"
   ]
  },
  {
   "cell_type": "code",
   "execution_count": 59,
   "metadata": {},
   "outputs": [
    {
     "data": {
      "text/plain": [
       "tensor([0.2311])"
      ]
     },
     "execution_count": 59,
     "metadata": {},
     "output_type": "execute_result"
    }
   ],
   "source": [
    "# 미분 최대값 : 0.25\n",
    "\n",
    "(torch.sigmoid(torch.FloatTensor([1])) - torch.sigmoid(torch.FloatTensor([0]))) / 1"
   ]
  },
  {
   "cell_type": "markdown",
   "metadata": {},
   "source": [
    "### 하이퍼볼릭탄젠트 함수(Tanh)\n",
    "\n",
    "-  입력값을 -1과 1사이의 값으로 변환\n",
    "\n",
    "![](https://wikidocs.net/images/page/60683/%ED%95%98%EC%9D%B4%ED%8D%BC%EB%B3%BC%EB%A6%AD%ED%83%84%EC%A0%A0%ED%8A%B8.PNG)"
   ]
  },
  {
   "cell_type": "markdown",
   "metadata": {},
   "source": [
    "### 렐루 함수(ReLU)\n",
    "\n",
    "- f(x) = max(0, x) : 음수값 버림\n",
    "    - 연산속도 빠름\n",
    "    - dying ReLU 문제\n",
    "\n",
    "![](https://wikidocs.net/images/page/60683/%EB%A0%90%EB%A3%A8%ED%95%A8%EC%88%98.PNG)"
   ]
  },
  {
   "cell_type": "markdown",
   "metadata": {},
   "source": [
    "### 리키 렐루 함수(Leaky ReLU)\n",
    "\n",
    "- dying ReLU 문제 보완\n",
    "- f(x) = max(ax, x), 일반적으로 a = 0.01\n",
    "\n",
    "![](https://wikidocs.net/images/page/60683/%EB%A6%AC%ED%82%A4%EB%A0%90%EB%A3%A8.PNG)"
   ]
  },
  {
   "cell_type": "markdown",
   "metadata": {},
   "source": [
    "### 소프트맥스 함수(softmax)\n",
    "\n",
    "- 분류 문제는 로지스틱 회귀와 소프트맥스 회귀를 출력층에 적용하여 사용합니다.\n",
    "\n",
    "![](https://wikidocs.net/images/page/60683/%EC%86%8C%ED%94%84%ED%8A%B8%EB%A7%A5%EC%8A%A4.PNG)"
   ]
  },
  {
   "cell_type": "markdown",
   "metadata": {
    "id": "K_kOUWBqnAOc"
   },
   "source": [
    "## 다층 퍼셉트론으로 손글씨 분류하기\n",
    "\n",
    "- 숫자 필기 데이터"
   ]
  },
  {
   "cell_type": "code",
   "execution_count": 62,
   "metadata": {
    "collapsed": true,
    "jupyter": {
     "outputs_hidden": true
    },
    "tags": []
   },
   "outputs": [
    {
     "name": "stdout",
     "output_type": "stream",
     "text": [
      "Collecting scikit-learn\n",
      "  Downloading scikit_learn-1.1.2-cp38-cp38-win_amd64.whl (7.3 MB)\n",
      "     ---------------------------------------- 7.3/7.3 MB 24.7 MB/s eta 0:00:00\n",
      "Requirement already satisfied: numpy>=1.17.3 in c:\\users\\passiona2z\\anaconda3\\envs\\pytorch\\lib\\site-packages (from scikit-learn) (1.23.1)\n",
      "Collecting threadpoolctl>=2.0.0\n",
      "  Downloading threadpoolctl-3.1.0-py3-none-any.whl (14 kB)\n",
      "Collecting joblib>=1.0.0\n",
      "  Downloading joblib-1.1.0-py2.py3-none-any.whl (306 kB)\n",
      "     ------------------------------------- 307.0/307.0 kB 18.5 MB/s eta 0:00:00\n",
      "Collecting scipy>=1.3.2\n",
      "  Downloading scipy-1.9.0-cp38-cp38-win_amd64.whl (38.6 MB)\n",
      "     --------------------------------------- 38.6/38.6 MB 23.3 MB/s eta 0:00:00\n",
      "Installing collected packages: threadpoolctl, scipy, joblib, scikit-learn\n",
      "Successfully installed joblib-1.1.0 scikit-learn-1.1.2 scipy-1.9.0 threadpoolctl-3.1.0\n",
      "Requirement already satisfied: scikit-learn in c:\\users\\passiona2z\\anaconda3\\envs\\pytorch\\lib\\site-packages (1.1.2)\n",
      "Requirement already satisfied: scipy>=1.3.2 in c:\\users\\passiona2z\\anaconda3\\envs\\pytorch\\lib\\site-packages (from scikit-learn) (1.9.0)\n",
      "Requirement already satisfied: joblib>=1.0.0 in c:\\users\\passiona2z\\anaconda3\\envs\\pytorch\\lib\\site-packages (from scikit-learn) (1.1.0)\n",
      "Requirement already satisfied: threadpoolctl>=2.0.0 in c:\\users\\passiona2z\\anaconda3\\envs\\pytorch\\lib\\site-packages (from scikit-learn) (3.1.0)\n",
      "Requirement already satisfied: numpy>=1.17.3 in c:\\users\\passiona2z\\anaconda3\\envs\\pytorch\\lib\\site-packages (from scikit-learn) (1.23.1)\n"
     ]
    }
   ],
   "source": [
    "! pip install -U scikit-learn"
   ]
  },
  {
   "cell_type": "code",
   "execution_count": 63,
   "metadata": {
    "executionInfo": {
     "elapsed": 1475,
     "status": "ok",
     "timestamp": 1619883998931,
     "user": {
      "displayName": "박재우",
      "photoUrl": "https://lh3.googleusercontent.com/a-/AOh14GjXI3etzUNsHKseHtKKPAfY_N2c7kAIWyXOMk2v=s64",
      "userId": "10125744057017928750"
     },
     "user_tz": -540
    },
    "id": "7K2bL_YAmD-n"
   },
   "outputs": [],
   "source": [
    "%matplotlib inline\n",
    "import matplotlib.pyplot as plt # 시각화를 위한 맷플롯립\n",
    "from sklearn.datasets import load_digits\n",
    "digits = load_digits()"
   ]
  },
  {
   "cell_type": "code",
   "execution_count": 69,
   "metadata": {
    "colab": {
     "base_uri": "https://localhost:8080/"
    },
    "executionInfo": {
     "elapsed": 710,
     "status": "ok",
     "timestamp": 1619884021559,
     "user": {
      "displayName": "박재우",
      "photoUrl": "https://lh3.googleusercontent.com/a-/AOh14GjXI3etzUNsHKseHtKKPAfY_N2c7kAIWyXOMk2v=s64",
      "userId": "10125744057017928750"
     },
     "user_tz": -540
    },
    "id": "_Y3rAeZsnDi_",
    "outputId": "fd2da860-8109-40a3-86fb-b03e1721ab1f"
   },
   "outputs": [
    {
     "name": "stdout",
     "output_type": "stream",
     "text": [
      "[[ 0.  0.  0. 12. 13.  5.  0.  0.]\n",
      " [ 0.  0.  0. 11. 16.  9.  0.  0.]\n",
      " [ 0.  0.  3. 15. 16.  6.  0.  0.]\n",
      " [ 0.  7. 15. 16. 16.  2.  0.  0.]\n",
      " [ 0.  0.  1. 16. 16.  3.  0.  0.]\n",
      " [ 0.  0.  1. 16. 16.  6.  0.  0.]\n",
      " [ 0.  0.  1. 16. 16.  6.  0.  0.]\n",
      " [ 0.  0.  0. 11. 16. 10.  0.  0.]]\n"
     ]
    }
   ],
   "source": [
    "# 샘플 출력\n",
    "print(digits.images[1])  # 8x8 "
   ]
  },
  {
   "cell_type": "code",
   "execution_count": 70,
   "metadata": {},
   "outputs": [
    {
     "name": "stdout",
     "output_type": "stream",
     "text": [
      "1\n"
     ]
    }
   ],
   "source": [
    "print(digits.target[1])"
   ]
  },
  {
   "cell_type": "code",
   "execution_count": 71,
   "metadata": {
    "colab": {
     "base_uri": "https://localhost:8080/",
     "height": 298
    },
    "executionInfo": {
     "elapsed": 699,
     "status": "ok",
     "timestamp": 1619884070494,
     "user": {
      "displayName": "박재우",
      "photoUrl": "https://lh3.googleusercontent.com/a-/AOh14GjXI3etzUNsHKseHtKKPAfY_N2c7kAIWyXOMk2v=s64",
      "userId": "10125744057017928750"
     },
     "user_tz": -540
    },
    "id": "2j1MvnARnJQt",
    "outputId": "93e9155f-501e-4933-d328-45794fb96c34"
   },
   "outputs": [
    {
     "data": {
      "text/plain": [
       "<matplotlib.image.AxesImage at 0x2bba0686be0>"
      ]
     },
     "execution_count": 71,
     "metadata": {},
     "output_type": "execute_result"
    },
    {
     "data": {
      "image/png": "[encoded data removed]",
      "text/plain": [
       "<Figure size 432x288 with 1 Axes>"
      ]
     },
     "metadata": {
      "needs_background": "light"
     },
     "output_type": "display_data"
    }
   ],
   "source": [
    "plt.title(digits.target[1])\n",
    "plt.imshow(digits.images[1])"
   ]
  },
  {
   "cell_type": "code",
   "execution_count": 72,
   "metadata": {
    "colab": {
     "base_uri": "https://localhost:8080/"
    },
    "executionInfo": {
     "elapsed": 771,
     "status": "ok",
     "timestamp": 1619884118610,
     "user": {
      "displayName": "박재우",
      "photoUrl": "https://lh3.googleusercontent.com/a-/AOh14GjXI3etzUNsHKseHtKKPAfY_N2c7kAIWyXOMk2v=s64",
      "userId": "10125744057017928750"
     },
     "user_tz": -540
    },
    "id": "zSPOWoBxnNu2",
    "outputId": "20161755-5023-4ab2-8e9a-ac7826cafec7"
   },
   "outputs": [
    {
     "name": "stdout",
     "output_type": "stream",
     "text": [
      "전체 샘플의 수 : 1797\n"
     ]
    }
   ],
   "source": [
    "print(\"전체 샘플의 수 : {}\".format(len(digits.images)))"
   ]
  },
  {
   "cell_type": "code",
   "execution_count": 74,
   "metadata": {},
   "outputs": [
    {
     "data": {
      "text/plain": [
       "(array([[ 0.,  0.,  5., 13.,  9.,  1.,  0.,  0.],\n",
       "        [ 0.,  0., 13., 15., 10., 15.,  5.,  0.],\n",
       "        [ 0.,  3., 15.,  2.,  0., 11.,  8.,  0.],\n",
       "        [ 0.,  4., 12.,  0.,  0.,  8.,  8.,  0.],\n",
       "        [ 0.,  5.,  8.,  0.,  0.,  9.,  8.,  0.],\n",
       "        [ 0.,  4., 11.,  0.,  1., 12.,  7.,  0.],\n",
       "        [ 0.,  2., 14.,  5., 10., 12.,  0.,  0.],\n",
       "        [ 0.,  0.,  6., 13., 10.,  0.,  0.,  0.]]),\n",
       " 0)"
      ]
     },
     "execution_count": 74,
     "metadata": {},
     "output_type": "execute_result"
    }
   ],
   "source": [
    "list(zip(digits.images, digits.target))[0]"
   ]
  },
  {
   "cell_type": "code",
   "execution_count": 75,
   "metadata": {},
   "outputs": [
    {
     "data": {
      "text/plain": [
       "tuple"
      ]
     },
     "execution_count": 75,
     "metadata": {},
     "output_type": "execute_result"
    }
   ],
   "source": [
    "type(list(zip(digits.images, digits.target))[0])"
   ]
  },
  {
   "cell_type": "code",
   "execution_count": 76,
   "metadata": {
    "colab": {
     "base_uri": "https://localhost:8080/",
     "height": 105
    },
    "executionInfo": {
     "elapsed": 771,
     "status": "ok",
     "timestamp": 1619884165539,
     "user": {
      "displayName": "박재우",
      "photoUrl": "https://lh3.googleusercontent.com/a-/AOh14GjXI3etzUNsHKseHtKKPAfY_N2c7kAIWyXOMk2v=s64",
      "userId": "10125744057017928750"
     },
     "user_tz": -540
    },
    "id": "uVysg0k9nca5",
    "outputId": "ba2ddf32-d115-45f5-c1c3-2e9e9f4db6ee"
   },
   "outputs": [
    {
     "data": {
      "image/png": "[encoded data removed]",
      "text/plain": [
       "<Figure size 432x288 with 5 Axes>"
      ]
     },
     "metadata": {
      "needs_background": "light"
     },
     "output_type": "display_data"
    }
   ],
   "source": [
    "# 시각화\n",
    "\n",
    "images_and_labels = list(zip(digits.images, digits.target))    # 데이터셋\n",
    "\n",
    "for index, (image, label) in enumerate(images_and_labels[:5]): # 5개의 샘플만 출력\n",
    "    plt.subplot(2, 5, index + 1)\n",
    "    plt.axis('off')\n",
    "    plt.imshow(image, cmap=plt.cm.gray_r, interpolation='nearest')\n",
    "    plt.title('sample: %i' % label)"
   ]
  },
  {
   "cell_type": "code",
   "execution_count": 77,
   "metadata": {
    "colab": {
     "base_uri": "https://localhost:8080/"
    },
    "executionInfo": {
     "elapsed": 757,
     "status": "ok",
     "timestamp": 1619884184688,
     "user": {
      "displayName": "박재우",
      "photoUrl": "https://lh3.googleusercontent.com/a-/AOh14GjXI3etzUNsHKseHtKKPAfY_N2c7kAIWyXOMk2v=s64",
      "userId": "10125744057017928750"
     },
     "user_tz": -540
    },
    "id": "E-q777ssnnka",
    "outputId": "bb3b6bcf-bd69-4c27-ce0e-554f5611bc3e"
   },
   "outputs": [
    {
     "name": "stdout",
     "output_type": "stream",
     "text": [
      "0 번 인덱스 샘플의 레이블 :  0\n",
      "1 번 인덱스 샘플의 레이블 :  1\n",
      "2 번 인덱스 샘플의 레이블 :  2\n",
      "3 번 인덱스 샘플의 레이블 :  3\n",
      "4 번 인덱스 샘플의 레이블 :  4\n"
     ]
    }
   ],
   "source": [
    "for i in range(5):\n",
    "    print(i,'번 인덱스 샘플의 레이블 : ',digits.target[i])"
   ]
  },
  {
   "cell_type": "code",
   "execution_count": 78,
   "metadata": {
    "colab": {
     "base_uri": "https://localhost:8080/"
    },
    "executionInfo": {
     "elapsed": 930,
     "status": "ok",
     "timestamp": 1619884223469,
     "user": {
      "displayName": "박재우",
      "photoUrl": "https://lh3.googleusercontent.com/a-/AOh14GjXI3etzUNsHKseHtKKPAfY_N2c7kAIWyXOMk2v=s64",
      "userId": "10125744057017928750"
     },
     "user_tz": -540
    },
    "id": "U817RhU4nxEm",
    "outputId": "573e7d96-8f16-4edd-e903-bc0a544ba6e0"
   },
   "outputs": [
    {
     "name": "stdout",
     "output_type": "stream",
     "text": [
      "[ 0.  0.  5. 13.  9.  1.  0.  0.  0.  0. 13. 15. 10. 15.  5.  0.  0.  3.\n",
      " 15.  2.  0. 11.  8.  0.  0.  4. 12.  0.  0.  8.  8.  0.  0.  5.  8.  0.\n",
      "  0.  9.  8.  0.  0.  4. 11.  0.  1. 12.  7.  0.  0.  2. 14.  5. 10. 12.\n",
      "  0.  0.  0.  0.  6. 13. 10.  0.  0.  0.]\n"
     ]
    }
   ],
   "source": [
    "# digits.data : 64차원 벡터\n",
    "\n",
    "print(digits.data[0])"
   ]
  },
  {
   "cell_type": "code",
   "execution_count": 79,
   "metadata": {
    "executionInfo": {
     "elapsed": 716,
     "status": "ok",
     "timestamp": 1619884232196,
     "user": {
      "displayName": "박재우",
      "photoUrl": "https://lh3.googleusercontent.com/a-/AOh14GjXI3etzUNsHKseHtKKPAfY_N2c7kAIWyXOMk2v=s64",
      "userId": "10125744057017928750"
     },
     "user_tz": -540
    },
    "id": "r_ORTMGRn6ev"
   },
   "outputs": [],
   "source": [
    "X = digits.data   # 이미지. 즉, 특성 행렬\n",
    "Y = digits.target # 각 이미지에 대한 레이블"
   ]
  },
  {
   "cell_type": "markdown",
   "metadata": {},
   "source": [
    "### 다층 퍼셉트론 분류기"
   ]
  },
  {
   "cell_type": "code",
   "execution_count": 81,
   "metadata": {
    "executionInfo": {
     "elapsed": 731,
     "status": "ok",
     "timestamp": 1619884238444,
     "user": {
      "displayName": "박재우",
      "photoUrl": "https://lh3.googleusercontent.com/a-/AOh14GjXI3etzUNsHKseHtKKPAfY_N2c7kAIWyXOMk2v=s64",
      "userId": "10125744057017928750"
     },
     "user_tz": -540
    },
    "id": "p8_LmuN_n8rs"
   },
   "outputs": [],
   "source": [
    "import torch\n",
    "import torch.nn as nn\n",
    "from torch import optim"
   ]
  },
  {
   "cell_type": "code",
   "execution_count": 82,
   "metadata": {
    "executionInfo": {
     "elapsed": 712,
     "status": "ok",
     "timestamp": 1619884288167,
     "user": {
      "displayName": "박재우",
      "photoUrl": "https://lh3.googleusercontent.com/a-/AOh14GjXI3etzUNsHKseHtKKPAfY_N2c7kAIWyXOMk2v=s64",
      "userId": "10125744057017928750"
     },
     "user_tz": -540
    },
    "id": "iuEoHH4hn-M8"
   },
   "outputs": [],
   "source": [
    "model = nn.Sequential(\n",
    "    nn.Linear(64, 32),   # 64(input) > 32(1)\n",
    "    nn.ReLU(),           # ReLU\n",
    "    nn.Linear(32, 16),   # 32 > 16(2)\n",
    "    nn.ReLU(),           # RELU\n",
    "    nn.Linear(16, 10)    # 16 > 10(output)\n",
    ")\n",
    "\n",
    "# 마지막에 소프트맥스함수가 없는 이유는 : 비용함수에 소프트맥스 함수가 포함됨"
   ]
  },
  {
   "cell_type": "code",
   "execution_count": 83,
   "metadata": {
    "executionInfo": {
     "elapsed": 814,
     "status": "ok",
     "timestamp": 1619884357801,
     "user": {
      "displayName": "박재우",
      "photoUrl": "https://lh3.googleusercontent.com/a-/AOh14GjXI3etzUNsHKseHtKKPAfY_N2c7kAIWyXOMk2v=s64",
      "userId": "10125744057017928750"
     },
     "user_tz": -540
    },
    "id": "rEAlvF5moIgH"
   },
   "outputs": [],
   "source": [
    "X = torch.tensor(X, dtype=torch.float32)\n",
    "Y = torch.tensor(Y, dtype=torch.int64)"
   ]
  },
  {
   "cell_type": "code",
   "execution_count": 85,
   "metadata": {
    "executionInfo": {
     "elapsed": 919,
     "status": "ok",
     "timestamp": 1619884394290,
     "user": {
      "displayName": "박재우",
      "photoUrl": "https://lh3.googleusercontent.com/a-/AOh14GjXI3etzUNsHKseHtKKPAfY_N2c7kAIWyXOMk2v=s64",
      "userId": "10125744057017928750"
     },
     "user_tz": -540
    },
    "id": "ygESfSqLoUIo"
   },
   "outputs": [],
   "source": [
    "loss_fn = nn.CrossEntropyLoss()\n",
    "optimizer = optim.Adam(model.parameters()) # Adam"
   ]
  },
  {
   "cell_type": "code",
   "execution_count": 88,
   "metadata": {
    "executionInfo": {
     "elapsed": 680,
     "status": "ok",
     "timestamp": 1619884402334,
     "user": {
      "displayName": "박재우",
      "photoUrl": "https://lh3.googleusercontent.com/a-/AOh14GjXI3etzUNsHKseHtKKPAfY_N2c7kAIWyXOMk2v=s64",
      "userId": "10125744057017928750"
     },
     "user_tz": -540
    },
    "id": "HnBRk4LOokM2"
   },
   "outputs": [],
   "source": [
    "losses=[]  # list"
   ]
  },
  {
   "cell_type": "code",
   "execution_count": 89,
   "metadata": {
    "colab": {
     "base_uri": "https://localhost:8080/"
    },
    "executionInfo": {
     "elapsed": 891,
     "status": "ok",
     "timestamp": 1619884523520,
     "user": {
      "displayName": "박재우",
      "photoUrl": "https://lh3.googleusercontent.com/a-/AOh14GjXI3etzUNsHKseHtKKPAfY_N2c7kAIWyXOMk2v=s64",
      "userId": "10125744057017928750"
     },
     "user_tz": -540
    },
    "id": "1T2lFU9comOg",
    "outputId": "5f826005-d815-4cb6-e48e-2c0a0038b163"
   },
   "outputs": [
    {
     "name": "stdout",
     "output_type": "stream",
     "text": [
      "Epoch    0/100 Cost: 2.332010\n",
      "Epoch   10/100 Cost: 2.064430\n",
      "Epoch   20/100 Cost: 1.818184\n",
      "Epoch   30/100 Cost: 1.523767\n",
      "Epoch   40/100 Cost: 1.216749\n",
      "Epoch   50/100 Cost: 0.942300\n",
      "Epoch   60/100 Cost: 0.701801\n",
      "Epoch   70/100 Cost: 0.502762\n",
      "Epoch   80/100 Cost: 0.369885\n",
      "Epoch   90/100 Cost: 0.286697\n"
     ]
    }
   ],
   "source": [
    "for epoch in range(100):  # 에포크 10\n",
    "    \n",
    "    # 순전파\n",
    "    optimizer.zero_grad() # 초기화\n",
    "    y_pred = model(X)\n",
    "    \n",
    "    # 역전파\n",
    "    loss = loss_fn(y_pred, Y) # softmax 포함되어 비용함수 계산\n",
    "    loss.backward()\n",
    "    optimizer.step()\n",
    "\n",
    "    if epoch % 10 == 0:\n",
    "        print('Epoch {:4d}/{} Cost: {:.6f}'.format(\n",
    "            epoch, 100, loss.item()\n",
    "        ))\n",
    "\n",
    "    losses.append(loss.item())"
   ]
  },
  {
   "cell_type": "code",
   "execution_count": 93,
   "metadata": {
    "colab": {
     "base_uri": "https://localhost:8080/",
     "height": 282
    },
    "executionInfo": {
     "elapsed": 923,
     "status": "ok",
     "timestamp": 1619884541405,
     "user": {
      "displayName": "박재우",
      "photoUrl": "https://lh3.googleusercontent.com/a-/AOh14GjXI3etzUNsHKseHtKKPAfY_N2c7kAIWyXOMk2v=s64",
      "userId": "10125744057017928750"
     },
     "user_tz": -540
    },
    "id": "X81LcMqWpDvi",
    "outputId": "0c4ddcd4-1ae7-4a74-8a36-8cf7d4a7640f"
   },
   "outputs": [
    {
     "data": {
      "text/plain": [
       "[<matplotlib.lines.Line2D at 0x2bba0c595b0>]"
      ]
     },
     "execution_count": 93,
     "metadata": {},
     "output_type": "execute_result"
    },
    {
     "data": {
      "image/png": "[encoded data removed]",
      "text/plain": [
       "<Figure size 432x288 with 1 Axes>"
      ]
     },
     "metadata": {
      "needs_background": "light"
     },
     "output_type": "display_data"
    }
   ],
   "source": [
    "plt.plot(losses)"
   ]
  },
  {
   "cell_type": "markdown",
   "metadata": {
    "id": "NuNBuQqupLLP"
   },
   "source": [
    "### 8) 다층 퍼셉트론으로 MNIST 분류하기\n",
    "\n",
    "- 단층 퍼셉트론 > 다층 퍼셉트론(딥러닝) "
   ]
  },
  {
   "cell_type": "code",
   "execution_count": 99,
   "metadata": {
    "collapsed": true,
    "jupyter": {
     "outputs_hidden": true
    },
    "tags": []
   },
   "outputs": [
    {
     "name": "stdout",
     "output_type": "stream",
     "text": [
      "Collecting pandas\n",
      "  Downloading pandas-1.4.3-cp38-cp38-win_amd64.whl (10.6 MB)\n",
      "     --------------------------------------- 10.6/10.6 MB 36.3 MB/s eta 0:00:00\n",
      "Requirement already satisfied: pytz>=2020.1 in c:\\users\\passiona2z\\anaconda3\\envs\\pytorch\\lib\\site-packages (from pandas) (2022.1)\n",
      "Requirement already satisfied: numpy>=1.18.5 in c:\\users\\passiona2z\\anaconda3\\envs\\pytorch\\lib\\site-packages (from pandas) (1.23.1)\n",
      "Requirement already satisfied: python-dateutil>=2.8.1 in c:\\users\\passiona2z\\anaconda3\\envs\\pytorch\\lib\\site-packages (from pandas) (2.8.2)\n",
      "Requirement already satisfied: six>=1.5 in c:\\users\\passiona2z\\anaconda3\\envs\\pytorch\\lib\\site-packages (from python-dateutil>=2.8.1->pandas) (1.16.0)\n",
      "Installing collected packages: pandas\n",
      "Successfully installed pandas-1.4.3\n"
     ]
    }
   ],
   "source": [
    "! pip install pandas"
   ]
  },
  {
   "cell_type": "code",
   "execution_count": 100,
   "metadata": {
    "executionInfo": {
     "elapsed": 1541,
     "status": "ok",
     "timestamp": 1619885120579,
     "user": {
      "displayName": "박재우",
      "photoUrl": "https://lh3.googleusercontent.com/a-/AOh14GjXI3etzUNsHKseHtKKPAfY_N2c7kAIWyXOMk2v=s64",
      "userId": "10125744057017928750"
     },
     "user_tz": -540
    },
    "id": "kobXmepvpGK5"
   },
   "outputs": [],
   "source": [
    "import numpy as np\n",
    "import matplotlib.pyplot as plt\n",
    "from sklearn.datasets import fetch_openml"
   ]
  },
  {
   "cell_type": "code",
   "execution_count": 101,
   "metadata": {
    "executionInfo": {
     "elapsed": 33744,
     "status": "ok",
     "timestamp": 1619885161378,
     "user": {
      "displayName": "박재우",
      "photoUrl": "https://lh3.googleusercontent.com/a-/AOh14GjXI3etzUNsHKseHtKKPAfY_N2c7kAIWyXOMk2v=s64",
      "userId": "10125744057017928750"
     },
     "user_tz": -540
    },
    "id": "WbsYMR1krVXj"
   },
   "outputs": [],
   "source": [
    "mnist = fetch_openml('mnist_784', version=1, cache=True) # 판다스로 불러와짐"
   ]
  },
  {
   "cell_type": "code",
   "execution_count": 108,
   "metadata": {
    "colab": {
     "base_uri": "https://localhost:8080/"
    },
    "executionInfo": {
     "elapsed": 1069,
     "status": "ok",
     "timestamp": 1619885162452,
     "user": {
      "displayName": "박재우",
      "photoUrl": "https://lh3.googleusercontent.com/a-/AOh14GjXI3etzUNsHKseHtKKPAfY_N2c7kAIWyXOMk2v=s64",
      "userId": "10125744057017928750"
     },
     "user_tz": -540
    },
    "id": "DI3hpS6LrXXu",
    "outputId": "539d3011-fde1-441b-d78e-70275a892919"
   },
   "outputs": [
    {
     "data": {
      "text/plain": [
       "array([  0.,   0.,   0.,   0.,   0.,   0.,   0.,   0.,   0.,   0.,   0.,\n",
       "         0.,   0.,   0.,   0.,   0.,   0.,   0.,   0.,   0.,   0.,   0.,\n",
       "         0.,   0.,   0.,   0.,   0.,   0.,   0.,   0.,   0.,   0.,   0.,\n",
       "         0.,   0.,   0.,   0.,   0.,   0.,   0.,   0.,   0.,   0.,   0.,\n",
       "         0.,   0.,   0.,   0.,   0.,   0.,   0.,   0.,   0.,   0.,   0.,\n",
       "         0.,   0.,   0.,   0.,   0.,   0.,   0.,   0.,   0.,   0.,   0.,\n",
       "         0.,   0.,   0.,   0.,   0.,   0.,   0.,   0.,   0.,   0.,   0.,\n",
       "         0.,   0.,   0.,   0.,   0.,   0.,   0.,   0.,   0.,   0.,   0.,\n",
       "         0.,   0.,   0.,   0.,   0.,   0.,   0.,   0.,   0.,   0.,   0.,\n",
       "         0.,   0.,   0.,   0.,   0.,   0.,   0.,   0.,   0.,   0.,   0.,\n",
       "         0.,   0.,   0.,   0.,   0.,   0.,   0.,   0.,   0.,   0.,   0.,\n",
       "         0.,   0.,   0.,   0.,   0.,   0.,   0.,   0.,   0.,   0.,   0.,\n",
       "         0.,   0.,   0.,   0.,   0.,   0.,   0.,   0.,   0.,   0.,   0.,\n",
       "         0.,   0.,   0.,   0.,   0.,   0.,   0.,   0.,   0.,   3.,  18.,\n",
       "        18.,  18., 126., 136., 175.,  26., 166., 255., 247., 127.,   0.,\n",
       "         0.,   0.,   0.,   0.,   0.,   0.,   0.,   0.,   0.,   0.,   0.,\n",
       "        30.,  36.,  94., 154., 170., 253., 253., 253., 253., 253., 225.,\n",
       "       172., 253., 242., 195.,  64.,   0.,   0.,   0.,   0.,   0.,   0.,\n",
       "         0.,   0.,   0.,   0.,   0.,  49., 238., 253., 253., 253., 253.,\n",
       "       253., 253., 253., 253., 251.,  93.,  82.,  82.,  56.,  39.,   0.,\n",
       "         0.,   0.,   0.,   0.,   0.,   0.,   0.,   0.,   0.,   0.,   0.,\n",
       "        18., 219., 253., 253., 253., 253., 253., 198., 182., 247., 241.,\n",
       "         0.,   0.,   0.,   0.,   0.,   0.,   0.,   0.,   0.,   0.,   0.,\n",
       "         0.,   0.,   0.,   0.,   0.,   0.,   0.,  80., 156., 107., 253.,\n",
       "       253., 205.,  11.,   0.,  43., 154.,   0.,   0.,   0.,   0.,   0.,\n",
       "         0.,   0.,   0.,   0.,   0.,   0.,   0.,   0.,   0.,   0.,   0.,\n",
       "         0.,   0.,   0.,  14.,   1., 154., 253.,  90.,   0.,   0.,   0.,\n",
       "         0.,   0.,   0.,   0.,   0.,   0.,   0.,   0.,   0.,   0.,   0.,\n",
       "         0.,   0.,   0.,   0.,   0.,   0.,   0.,   0.,   0.,   0.,   0.,\n",
       "       139., 253., 190.,   2.,   0.,   0.,   0.,   0.,   0.,   0.,   0.,\n",
       "         0.,   0.,   0.,   0.,   0.,   0.,   0.,   0.,   0.,   0.,   0.,\n",
       "         0.,   0.,   0.,   0.,   0.,   0.,  11., 190., 253.,  70.,   0.,\n",
       "         0.,   0.,   0.,   0.,   0.,   0.,   0.,   0.,   0.,   0.,   0.,\n",
       "         0.,   0.,   0.,   0.,   0.,   0.,   0.,   0.,   0.,   0.,   0.,\n",
       "         0.,   0.,  35., 241., 225., 160., 108.,   1.,   0.,   0.,   0.,\n",
       "         0.,   0.,   0.,   0.,   0.,   0.,   0.,   0.,   0.,   0.,   0.,\n",
       "         0.,   0.,   0.,   0.,   0.,   0.,   0.,   0.,   0.,  81., 240.,\n",
       "       253., 253., 119.,  25.,   0.,   0.,   0.,   0.,   0.,   0.,   0.,\n",
       "         0.,   0.,   0.,   0.,   0.,   0.,   0.,   0.,   0.,   0.,   0.,\n",
       "         0.,   0.,   0.,   0.,   0.,  45., 186., 253., 253., 150.,  27.,\n",
       "         0.,   0.,   0.,   0.,   0.,   0.,   0.,   0.,   0.,   0.,   0.,\n",
       "         0.,   0.,   0.,   0.,   0.,   0.,   0.,   0.,   0.,   0.,   0.,\n",
       "         0.,  16.,  93., 252., 253., 187.,   0.,   0.,   0.,   0.,   0.,\n",
       "         0.,   0.,   0.,   0.,   0.,   0.,   0.,   0.,   0.,   0.,   0.,\n",
       "         0.,   0.,   0.,   0.,   0.,   0.,   0.,   0.,   0., 249., 253.,\n",
       "       249.,  64.,   0.,   0.,   0.,   0.,   0.,   0.,   0.,   0.,   0.,\n",
       "         0.,   0.,   0.,   0.,   0.,   0.,   0.,   0.,   0.,   0.,   0.,\n",
       "         0.,  46., 130., 183., 253., 253., 207.,   2.,   0.,   0.,   0.,\n",
       "         0.,   0.,   0.,   0.,   0.,   0.,   0.,   0.,   0.,   0.,   0.,\n",
       "         0.,   0.,   0.,   0.,   0.,  39., 148., 229., 253., 253., 253.,\n",
       "       250., 182.,   0.,   0.,   0.,   0.,   0.,   0.,   0.,   0.,   0.,\n",
       "         0.,   0.,   0.,   0.,   0.,   0.,   0.,   0.,   0.,  24., 114.,\n",
       "       221., 253., 253., 253., 253., 201.,  78.,   0.,   0.,   0.,   0.,\n",
       "         0.,   0.,   0.,   0.,   0.,   0.,   0.,   0.,   0.,   0.,   0.,\n",
       "         0.,   0.,  23.,  66., 213., 253., 253., 253., 253., 198.,  81.,\n",
       "         2.,   0.,   0.,   0.,   0.,   0.,   0.,   0.,   0.,   0.,   0.,\n",
       "         0.,   0.,   0.,   0.,   0.,   0.,  18., 171., 219., 253., 253.,\n",
       "       253., 253., 195.,  80.,   9.,   0.,   0.,   0.,   0.,   0.,   0.,\n",
       "         0.,   0.,   0.,   0.,   0.,   0.,   0.,   0.,   0.,   0.,  55.,\n",
       "       172., 226., 253., 253., 253., 253., 244., 133.,  11.,   0.,   0.,\n",
       "         0.,   0.,   0.,   0.,   0.,   0.,   0.,   0.,   0.,   0.,   0.,\n",
       "         0.,   0.,   0.,   0.,   0., 136., 253., 253., 253., 212., 135.,\n",
       "       132.,  16.,   0.,   0.,   0.,   0.,   0.,   0.,   0.,   0.,   0.,\n",
       "         0.,   0.,   0.,   0.,   0.,   0.,   0.,   0.,   0.,   0.,   0.,\n",
       "         0.,   0.,   0.,   0.,   0.,   0.,   0.,   0.,   0.,   0.,   0.,\n",
       "         0.,   0.,   0.,   0.,   0.,   0.,   0.,   0.,   0.,   0.,   0.,\n",
       "         0.,   0.,   0.,   0.,   0.,   0.,   0.,   0.,   0.,   0.,   0.,\n",
       "         0.,   0.,   0.,   0.,   0.,   0.,   0.,   0.,   0.,   0.,   0.,\n",
       "         0.,   0.,   0.,   0.,   0.,   0.,   0.,   0.,   0.,   0.,   0.,\n",
       "         0.,   0.,   0.,   0.,   0.,   0.,   0.,   0.,   0.,   0.,   0.,\n",
       "         0.,   0.,   0.,   0.,   0.,   0.,   0.,   0.,   0.,   0.,   0.,\n",
       "         0.,   0.,   0.])"
      ]
     },
     "execution_count": 108,
     "metadata": {},
     "output_type": "execute_result"
    }
   ],
   "source": [
    "mnist.data.to_numpy()[0]"
   ]
  },
  {
   "cell_type": "code",
   "execution_count": 109,
   "metadata": {
    "colab": {
     "base_uri": "https://localhost:8080/",
     "height": 37
    },
    "executionInfo": {
     "elapsed": 1067,
     "status": "ok",
     "timestamp": 1619885162453,
     "user": {
      "displayName": "박재우",
      "photoUrl": "https://lh3.googleusercontent.com/a-/AOh14GjXI3etzUNsHKseHtKKPAfY_N2c7kAIWyXOMk2v=s64",
      "userId": "10125744057017928750"
     },
     "user_tz": -540
    },
    "id": "g-wAIylPrY4Y",
    "outputId": "d7088761-638f-4c90-de0d-bbb5e18d89e2"
   },
   "outputs": [
    {
     "data": {
      "text/plain": [
       "'5'"
      ]
     },
     "execution_count": 109,
     "metadata": {},
     "output_type": "execute_result"
    }
   ],
   "source": [
    "mnist.target[0]"
   ]
  },
  {
   "cell_type": "code",
   "execution_count": 110,
   "metadata": {},
   "outputs": [
    {
     "data": {
      "text/plain": [
       "pandas.core.series.Series"
      ]
     },
     "execution_count": 110,
     "metadata": {},
     "output_type": "execute_result"
    }
   ],
   "source": [
    "type(mnist.target)"
   ]
  },
  {
   "cell_type": "code",
   "execution_count": 116,
   "metadata": {
    "executionInfo": {
     "elapsed": 771,
     "status": "ok",
     "timestamp": 1619885483594,
     "user": {
      "displayName": "박재우",
      "photoUrl": "https://lh3.googleusercontent.com/a-/AOh14GjXI3etzUNsHKseHtKKPAfY_N2c7kAIWyXOMk2v=s64",
      "userId": "10125744057017928750"
     },
     "user_tz": -540
    },
    "id": "CTHUcmB6rbRk"
   },
   "outputs": [
    {
     "ename": "AttributeError",
     "evalue": "'numpy.ndarray' object has no attribute 'to_numpy'",
     "output_type": "error",
     "traceback": [
      "\u001b[1;31m---------------------------------------------------------------------------\u001b[0m",
      "\u001b[1;31mAttributeError\u001b[0m                            Traceback (most recent call last)",
      "Input \u001b[1;32mIn [116]\u001b[0m, in \u001b[0;36m<cell line: 1>\u001b[1;34m()\u001b[0m\n\u001b[1;32m----> 1\u001b[0m mnist\u001b[38;5;241m.\u001b[39mdata \u001b[38;5;241m=\u001b[39m \u001b[43mmnist\u001b[49m\u001b[38;5;241;43m.\u001b[39;49m\u001b[43mdata\u001b[49m\u001b[38;5;241;43m.\u001b[39;49m\u001b[43mto_numpy\u001b[49m()\n",
      "\u001b[1;31mAttributeError\u001b[0m: 'numpy.ndarray' object has no attribute 'to_numpy'"
     ]
    }
   ],
   "source": [
    "# pandas > numpy\n",
    "mnist.data = mnist.data.to_numpy()\n",
    "mnist.target = mnist.target.to_numpy().astype(np.int8)"
   ]
  },
  {
   "cell_type": "code",
   "execution_count": 118,
   "metadata": {
    "executionInfo": {
     "elapsed": 729,
     "status": "ok",
     "timestamp": 1619885486055,
     "user": {
      "displayName": "박재우",
      "photoUrl": "https://lh3.googleusercontent.com/a-/AOh14GjXI3etzUNsHKseHtKKPAfY_N2c7kAIWyXOMk2v=s64",
      "userId": "10125744057017928750"
     },
     "user_tz": -540
    },
    "id": "2UWYtNaxrf7Y"
   },
   "outputs": [],
   "source": [
    "X = mnist.data / 255 # 0-255값을 [0,1]로 정규화\n",
    "Y = mnist.target"
   ]
  },
  {
   "cell_type": "code",
   "execution_count": 119,
   "metadata": {
    "colab": {
     "base_uri": "https://localhost:8080/"
    },
    "executionInfo": {
     "elapsed": 890,
     "status": "ok",
     "timestamp": 1619885487251,
     "user": {
      "displayName": "박재우",
      "photoUrl": "https://lh3.googleusercontent.com/a-/AOh14GjXI3etzUNsHKseHtKKPAfY_N2c7kAIWyXOMk2v=s64",
      "userId": "10125744057017928750"
     },
     "user_tz": -540
    },
    "id": "v60_3msRroyK",
    "outputId": "e36baa9f-bf53-49fd-e062-1449928cf102"
   },
   "outputs": [
    {
     "data": {
      "text/plain": [
       "array([0.        , 0.        , 0.        , 0.        , 0.        ,\n",
       "       0.        , 0.        , 0.        , 0.        , 0.        ,\n",
       "       0.        , 0.        , 0.        , 0.        , 0.        ,\n",
       "       0.        , 0.        , 0.        , 0.        , 0.        ,\n",
       "       0.        , 0.        , 0.        , 0.        , 0.        ,\n",
       "       0.        , 0.        , 0.        , 0.        , 0.        ,\n",
       "       0.        , 0.        , 0.        , 0.        , 0.        ,\n",
       "       0.        , 0.        , 0.        , 0.        , 0.        ,\n",
       "       0.        , 0.        , 0.        , 0.        , 0.        ,\n",
       "       0.        , 0.        , 0.        , 0.        , 0.        ,\n",
       "       0.        , 0.        , 0.        , 0.        , 0.        ,\n",
       "       0.        , 0.        , 0.        , 0.        , 0.        ,\n",
       "       0.        , 0.        , 0.        , 0.        , 0.        ,\n",
       "       0.        , 0.        , 0.        , 0.        , 0.        ,\n",
       "       0.        , 0.        , 0.        , 0.        , 0.        ,\n",
       "       0.        , 0.        , 0.        , 0.        , 0.        ,\n",
       "       0.        , 0.        , 0.        , 0.        , 0.        ,\n",
       "       0.        , 0.        , 0.        , 0.        , 0.        ,\n",
       "       0.        , 0.        , 0.        , 0.        , 0.        ,\n",
       "       0.        , 0.        , 0.        , 0.        , 0.        ,\n",
       "       0.        , 0.        , 0.        , 0.        , 0.        ,\n",
       "       0.        , 0.        , 0.        , 0.        , 0.        ,\n",
       "       0.        , 0.        , 0.        , 0.        , 0.        ,\n",
       "       0.        , 0.        , 0.        , 0.        , 0.        ,\n",
       "       0.        , 0.        , 0.        , 0.        , 0.        ,\n",
       "       0.        , 0.        , 0.        , 0.        , 0.        ,\n",
       "       0.        , 0.        , 0.        , 0.        , 0.        ,\n",
       "       0.        , 0.        , 0.        , 0.        , 0.        ,\n",
       "       0.        , 0.        , 0.        , 0.        , 0.        ,\n",
       "       0.        , 0.        , 0.        , 0.        , 0.        ,\n",
       "       0.        , 0.        , 0.01176471, 0.07058824, 0.07058824,\n",
       "       0.07058824, 0.49411765, 0.53333333, 0.68627451, 0.10196078,\n",
       "       0.65098039, 1.        , 0.96862745, 0.49803922, 0.        ,\n",
       "       0.        , 0.        , 0.        , 0.        , 0.        ,\n",
       "       0.        , 0.        , 0.        , 0.        , 0.        ,\n",
       "       0.        , 0.11764706, 0.14117647, 0.36862745, 0.60392157,\n",
       "       0.66666667, 0.99215686, 0.99215686, 0.99215686, 0.99215686,\n",
       "       0.99215686, 0.88235294, 0.6745098 , 0.99215686, 0.94901961,\n",
       "       0.76470588, 0.25098039, 0.        , 0.        , 0.        ,\n",
       "       0.        , 0.        , 0.        , 0.        , 0.        ,\n",
       "       0.        , 0.        , 0.        , 0.19215686, 0.93333333,\n",
       "       0.99215686, 0.99215686, 0.99215686, 0.99215686, 0.99215686,\n",
       "       0.99215686, 0.99215686, 0.99215686, 0.98431373, 0.36470588,\n",
       "       0.32156863, 0.32156863, 0.21960784, 0.15294118, 0.        ,\n",
       "       0.        , 0.        , 0.        , 0.        , 0.        ,\n",
       "       0.        , 0.        , 0.        , 0.        , 0.        ,\n",
       "       0.        , 0.07058824, 0.85882353, 0.99215686, 0.99215686,\n",
       "       0.99215686, 0.99215686, 0.99215686, 0.77647059, 0.71372549,\n",
       "       0.96862745, 0.94509804, 0.        , 0.        , 0.        ,\n",
       "       0.        , 0.        , 0.        , 0.        , 0.        ,\n",
       "       0.        , 0.        , 0.        , 0.        , 0.        ,\n",
       "       0.        , 0.        , 0.        , 0.        , 0.        ,\n",
       "       0.31372549, 0.61176471, 0.41960784, 0.99215686, 0.99215686,\n",
       "       0.80392157, 0.04313725, 0.        , 0.16862745, 0.60392157,\n",
       "       0.        , 0.        , 0.        , 0.        , 0.        ,\n",
       "       0.        , 0.        , 0.        , 0.        , 0.        ,\n",
       "       0.        , 0.        , 0.        , 0.        , 0.        ,\n",
       "       0.        , 0.        , 0.        , 0.        , 0.05490196,\n",
       "       0.00392157, 0.60392157, 0.99215686, 0.35294118, 0.        ,\n",
       "       0.        , 0.        , 0.        , 0.        , 0.        ,\n",
       "       0.        , 0.        , 0.        , 0.        , 0.        ,\n",
       "       0.        , 0.        , 0.        , 0.        , 0.        ,\n",
       "       0.        , 0.        , 0.        , 0.        , 0.        ,\n",
       "       0.        , 0.        , 0.        , 0.        , 0.54509804,\n",
       "       0.99215686, 0.74509804, 0.00784314, 0.        , 0.        ,\n",
       "       0.        , 0.        , 0.        , 0.        , 0.        ,\n",
       "       0.        , 0.        , 0.        , 0.        , 0.        ,\n",
       "       0.        , 0.        , 0.        , 0.        , 0.        ,\n",
       "       0.        , 0.        , 0.        , 0.        , 0.        ,\n",
       "       0.        , 0.        , 0.04313725, 0.74509804, 0.99215686,\n",
       "       0.2745098 , 0.        , 0.        , 0.        , 0.        ,\n",
       "       0.        , 0.        , 0.        , 0.        , 0.        ,\n",
       "       0.        , 0.        , 0.        , 0.        , 0.        ,\n",
       "       0.        , 0.        , 0.        , 0.        , 0.        ,\n",
       "       0.        , 0.        , 0.        , 0.        , 0.        ,\n",
       "       0.        , 0.1372549 , 0.94509804, 0.88235294, 0.62745098,\n",
       "       0.42352941, 0.00392157, 0.        , 0.        , 0.        ,\n",
       "       0.        , 0.        , 0.        , 0.        , 0.        ,\n",
       "       0.        , 0.        , 0.        , 0.        , 0.        ,\n",
       "       0.        , 0.        , 0.        , 0.        , 0.        ,\n",
       "       0.        , 0.        , 0.        , 0.        , 0.        ,\n",
       "       0.31764706, 0.94117647, 0.99215686, 0.99215686, 0.46666667,\n",
       "       0.09803922, 0.        , 0.        , 0.        , 0.        ,\n",
       "       0.        , 0.        , 0.        , 0.        , 0.        ,\n",
       "       0.        , 0.        , 0.        , 0.        , 0.        ,\n",
       "       0.        , 0.        , 0.        , 0.        , 0.        ,\n",
       "       0.        , 0.        , 0.        , 0.        , 0.17647059,\n",
       "       0.72941176, 0.99215686, 0.99215686, 0.58823529, 0.10588235,\n",
       "       0.        , 0.        , 0.        , 0.        , 0.        ,\n",
       "       0.        , 0.        , 0.        , 0.        , 0.        ,\n",
       "       0.        , 0.        , 0.        , 0.        , 0.        ,\n",
       "       0.        , 0.        , 0.        , 0.        , 0.        ,\n",
       "       0.        , 0.        , 0.        , 0.0627451 , 0.36470588,\n",
       "       0.98823529, 0.99215686, 0.73333333, 0.        , 0.        ,\n",
       "       0.        , 0.        , 0.        , 0.        , 0.        ,\n",
       "       0.        , 0.        , 0.        , 0.        , 0.        ,\n",
       "       0.        , 0.        , 0.        , 0.        , 0.        ,\n",
       "       0.        , 0.        , 0.        , 0.        , 0.        ,\n",
       "       0.        , 0.        , 0.        , 0.97647059, 0.99215686,\n",
       "       0.97647059, 0.25098039, 0.        , 0.        , 0.        ,\n",
       "       0.        , 0.        , 0.        , 0.        , 0.        ,\n",
       "       0.        , 0.        , 0.        , 0.        , 0.        ,\n",
       "       0.        , 0.        , 0.        , 0.        , 0.        ,\n",
       "       0.        , 0.        , 0.        , 0.18039216, 0.50980392,\n",
       "       0.71764706, 0.99215686, 0.99215686, 0.81176471, 0.00784314,\n",
       "       0.        , 0.        , 0.        , 0.        , 0.        ,\n",
       "       0.        , 0.        , 0.        , 0.        , 0.        ,\n",
       "       0.        , 0.        , 0.        , 0.        , 0.        ,\n",
       "       0.        , 0.        , 0.        , 0.        , 0.15294118,\n",
       "       0.58039216, 0.89803922, 0.99215686, 0.99215686, 0.99215686,\n",
       "       0.98039216, 0.71372549, 0.        , 0.        , 0.        ,\n",
       "       0.        , 0.        , 0.        , 0.        , 0.        ,\n",
       "       0.        , 0.        , 0.        , 0.        , 0.        ,\n",
       "       0.        , 0.        , 0.        , 0.        , 0.        ,\n",
       "       0.09411765, 0.44705882, 0.86666667, 0.99215686, 0.99215686,\n",
       "       0.99215686, 0.99215686, 0.78823529, 0.30588235, 0.        ,\n",
       "       0.        , 0.        , 0.        , 0.        , 0.        ,\n",
       "       0.        , 0.        , 0.        , 0.        , 0.        ,\n",
       "       0.        , 0.        , 0.        , 0.        , 0.        ,\n",
       "       0.        , 0.09019608, 0.25882353, 0.83529412, 0.99215686,\n",
       "       0.99215686, 0.99215686, 0.99215686, 0.77647059, 0.31764706,\n",
       "       0.00784314, 0.        , 0.        , 0.        , 0.        ,\n",
       "       0.        , 0.        , 0.        , 0.        , 0.        ,\n",
       "       0.        , 0.        , 0.        , 0.        , 0.        ,\n",
       "       0.        , 0.        , 0.07058824, 0.67058824, 0.85882353,\n",
       "       0.99215686, 0.99215686, 0.99215686, 0.99215686, 0.76470588,\n",
       "       0.31372549, 0.03529412, 0.        , 0.        , 0.        ,\n",
       "       0.        , 0.        , 0.        , 0.        , 0.        ,\n",
       "       0.        , 0.        , 0.        , 0.        , 0.        ,\n",
       "       0.        , 0.        , 0.        , 0.21568627, 0.6745098 ,\n",
       "       0.88627451, 0.99215686, 0.99215686, 0.99215686, 0.99215686,\n",
       "       0.95686275, 0.52156863, 0.04313725, 0.        , 0.        ,\n",
       "       0.        , 0.        , 0.        , 0.        , 0.        ,\n",
       "       0.        , 0.        , 0.        , 0.        , 0.        ,\n",
       "       0.        , 0.        , 0.        , 0.        , 0.        ,\n",
       "       0.        , 0.53333333, 0.99215686, 0.99215686, 0.99215686,\n",
       "       0.83137255, 0.52941176, 0.51764706, 0.0627451 , 0.        ,\n",
       "       0.        , 0.        , 0.        , 0.        , 0.        ,\n",
       "       0.        , 0.        , 0.        , 0.        , 0.        ,\n",
       "       0.        , 0.        , 0.        , 0.        , 0.        ,\n",
       "       0.        , 0.        , 0.        , 0.        , 0.        ,\n",
       "       0.        , 0.        , 0.        , 0.        , 0.        ,\n",
       "       0.        , 0.        , 0.        , 0.        , 0.        ,\n",
       "       0.        , 0.        , 0.        , 0.        , 0.        ,\n",
       "       0.        , 0.        , 0.        , 0.        , 0.        ,\n",
       "       0.        , 0.        , 0.        , 0.        , 0.        ,\n",
       "       0.        , 0.        , 0.        , 0.        , 0.        ,\n",
       "       0.        , 0.        , 0.        , 0.        , 0.        ,\n",
       "       0.        , 0.        , 0.        , 0.        , 0.        ,\n",
       "       0.        , 0.        , 0.        , 0.        , 0.        ,\n",
       "       0.        , 0.        , 0.        , 0.        , 0.        ,\n",
       "       0.        , 0.        , 0.        , 0.        , 0.        ,\n",
       "       0.        , 0.        , 0.        , 0.        , 0.        ,\n",
       "       0.        , 0.        , 0.        , 0.        , 0.        ,\n",
       "       0.        , 0.        , 0.        , 0.        , 0.        ,\n",
       "       0.        , 0.        , 0.        , 0.        , 0.        ,\n",
       "       0.        , 0.        , 0.        , 0.        ])"
      ]
     },
     "execution_count": 119,
     "metadata": {},
     "output_type": "execute_result"
    }
   ],
   "source": [
    "X[0]"
   ]
  },
  {
   "cell_type": "code",
   "execution_count": 120,
   "metadata": {
    "colab": {
     "base_uri": "https://localhost:8080/"
    },
    "executionInfo": {
     "elapsed": 514,
     "status": "ok",
     "timestamp": 1619885487668,
     "user": {
      "displayName": "박재우",
      "photoUrl": "https://lh3.googleusercontent.com/a-/AOh14GjXI3etzUNsHKseHtKKPAfY_N2c7kAIWyXOMk2v=s64",
      "userId": "10125744057017928750"
     },
     "user_tz": -540
    },
    "id": "CkMfHk0_rpzw",
    "outputId": "642c2d1a-0107-470b-be21-a3f35bc79a2a"
   },
   "outputs": [
    {
     "data": {
      "text/plain": [
       "5"
      ]
     },
     "execution_count": 120,
     "metadata": {},
     "output_type": "execute_result"
    }
   ],
   "source": [
    "Y[0]"
   ]
  },
  {
   "cell_type": "code",
   "execution_count": 121,
   "metadata": {
    "colab": {
     "base_uri": "https://localhost:8080/"
    },
    "executionInfo": {
     "elapsed": 498,
     "status": "ok",
     "timestamp": 1619885488921,
     "user": {
      "displayName": "박재우",
      "photoUrl": "https://lh3.googleusercontent.com/a-/AOh14GjXI3etzUNsHKseHtKKPAfY_N2c7kAIWyXOMk2v=s64",
      "userId": "10125744057017928750"
     },
     "user_tz": -540
    },
    "id": "sdivbLn-r7-7",
    "outputId": "cf541922-ec60-4087-9d58-0b854987c1b4"
   },
   "outputs": [
    {
     "data": {
      "text/plain": [
       "(784,)"
      ]
     },
     "execution_count": 121,
     "metadata": {},
     "output_type": "execute_result"
    }
   ],
   "source": [
    "X[0].shape"
   ]
  },
  {
   "cell_type": "code",
   "execution_count": 123,
   "metadata": {
    "colab": {
     "base_uri": "https://localhost:8080/",
     "height": 298
    },
    "executionInfo": {
     "elapsed": 1122,
     "status": "ok",
     "timestamp": 1619885490368,
     "user": {
      "displayName": "박재우",
      "photoUrl": "https://lh3.googleusercontent.com/a-/AOh14GjXI3etzUNsHKseHtKKPAfY_N2c7kAIWyXOMk2v=s64",
      "userId": "10125744057017928750"
     },
     "user_tz": -540
    },
    "id": "MtnqiuDRrrUF",
    "outputId": "b1741482-24f2-4548-e432-ae58499f3208"
   },
   "outputs": [
    {
     "data": {
      "image/png": "[encoded data removed]",
      "text/plain": [
       "<Figure size 432x288 with 1 Axes>"
      ]
     },
     "metadata": {
      "needs_background": "light"
     },
     "output_type": "display_data"
    }
   ],
   "source": [
    "plt.title(Y[0])\n",
    "plt.imshow(X[0].reshape(28, 28), cmap='gray')\n",
    "plt.show()"
   ]
  },
  {
   "cell_type": "markdown",
   "metadata": {},
   "source": [
    "- 데이터셋"
   ]
  },
  {
   "cell_type": "code",
   "execution_count": 164,
   "metadata": {
    "executionInfo": {
     "elapsed": 846,
     "status": "ok",
     "timestamp": 1619885491111,
     "user": {
      "displayName": "박재우",
      "photoUrl": "https://lh3.googleusercontent.com/a-/AOh14GjXI3etzUNsHKseHtKKPAfY_N2c7kAIWyXOMk2v=s64",
      "userId": "10125744057017928750"
     },
     "user_tz": -540
    },
    "id": "ENutXXn8rwap"
   },
   "outputs": [],
   "source": [
    "import torch\n",
    "from torch.utils.data import TensorDataset, DataLoader\n",
    "from sklearn.model_selection import train_test_split  # 사이킷런"
   ]
  },
  {
   "cell_type": "code",
   "execution_count": 165,
   "metadata": {},
   "outputs": [],
   "source": [
    "# 시이킷런 분리 > Tensor\n",
    "\n",
    "X_train, X_test, y_train, y_test = train_test_split(X, Y, test_size=1/7, random_state=0)"
   ]
  },
  {
   "cell_type": "code",
   "execution_count": 166,
   "metadata": {},
   "outputs": [
    {
     "data": {
      "text/plain": [
       "(60000, 10000)"
      ]
     },
     "execution_count": 166,
     "metadata": {},
     "output_type": "execute_result"
    }
   ],
   "source": [
    "len(X_train), len(X_test)"
   ]
  },
  {
   "cell_type": "code",
   "execution_count": 167,
   "metadata": {},
   "outputs": [],
   "source": [
    "# Tesnor\n",
    "\n",
    "X_train = torch.Tensor(X_train)\n",
    "X_test = torch.Tensor(X_test)\n",
    "y_train = torch.LongTensor(y_train) # int\n",
    "y_test = torch.LongTensor(y_test)   # int\n",
    "\n",
    "ds_train = TensorDataset(X_train, y_train)  # TensorDataset\n",
    "ds_test = TensorDataset(X_test, y_test)\n",
    "\n",
    "loader_train = DataLoader(ds_train, batch_size=64, shuffle=True)  # DataLoader\n",
    "loader_test = DataLoader(ds_test, batch_size=64, shuffle=False)"
   ]
  },
  {
   "cell_type": "code",
   "execution_count": 168,
   "metadata": {},
   "outputs": [
    {
     "data": {
      "text/plain": [
       "torch.Size([784])"
      ]
     },
     "execution_count": 168,
     "metadata": {},
     "output_type": "execute_result"
    }
   ],
   "source": [
    "X_train[0].shape"
   ]
  },
  {
   "cell_type": "markdown",
   "metadata": {},
   "source": [
    "- 모델 구현"
   ]
  },
  {
   "cell_type": "code",
   "execution_count": 169,
   "metadata": {
    "colab": {
     "base_uri": "https://localhost:8080/"
    },
    "executionInfo": {
     "elapsed": 730,
     "status": "ok",
     "timestamp": 1619885721476,
     "user": {
      "displayName": "박재우",
      "photoUrl": "https://lh3.googleusercontent.com/a-/AOh14GjXI3etzUNsHKseHtKKPAfY_N2c7kAIWyXOMk2v=s64",
      "userId": "10125744057017928750"
     },
     "user_tz": -540
    },
    "id": "HiAdgTZDtH2F",
    "outputId": "e29b5545-4871-46f9-e4d9-afa32d56b370"
   },
   "outputs": [
    {
     "name": "stdout",
     "output_type": "stream",
     "text": [
      "Sequential(\n",
      "  (fc1): Linear(in_features=784, out_features=100, bias=True)\n",
      "  (relu1): ReLU()\n",
      "  (fc2): Linear(in_features=100, out_features=100, bias=True)\n",
      "  (relu2): ReLU()\n",
      "  (fc3): Linear(in_features=100, out_features=10, bias=True)\n",
      ")\n"
     ]
    }
   ],
   "source": [
    "import torch.nn as nn\n",
    "\n",
    "# 이렇게도 되는구나\n",
    "model = nn.Sequential()\n",
    "model.add_module('fc1', nn.Linear(28*28*1, 100))  # 784 > 100(1)\n",
    "model.add_module('relu1', nn.ReLU())              # ReLU\n",
    "model.add_module('fc2', nn.Linear(100, 100))      # 100 > 100(2)\n",
    "model.add_module('relu2', nn.ReLU())              # ReLU\n",
    "model.add_module('fc3', nn.Linear(100, 10))       # 100 > 10(output)\n",
    "\n",
    "print(model)"
   ]
  },
  {
   "cell_type": "code",
   "execution_count": 170,
   "metadata": {
    "executionInfo": {
     "elapsed": 720,
     "status": "ok",
     "timestamp": 1619885775133,
     "user": {
      "displayName": "박재우",
      "photoUrl": "https://lh3.googleusercontent.com/a-/AOh14GjXI3etzUNsHKseHtKKPAfY_N2c7kAIWyXOMk2v=s64",
      "userId": "10125744057017928750"
     },
     "user_tz": -540
    },
    "id": "QBXIgL26tjkm"
   },
   "outputs": [],
   "source": [
    "import torch.optim as optim\n",
    "\n",
    "# 비용함수 및 옵티마이저\n",
    "loss_fn = nn.CrossEntropyLoss()\n",
    "optimizer = optim.Adam(model.parameters(), lr=0.01)"
   ]
  },
  {
   "cell_type": "code",
   "execution_count": 171,
   "metadata": {
    "executionInfo": {
     "elapsed": 874,
     "status": "ok",
     "timestamp": 1619885939692,
     "user": {
      "displayName": "박재우",
      "photoUrl": "https://lh3.googleusercontent.com/a-/AOh14GjXI3etzUNsHKseHtKKPAfY_N2c7kAIWyXOMk2v=s64",
      "userId": "10125744057017928750"
     },
     "user_tz": -540
    },
    "id": "FnOJ4ZxPt1Xq"
   },
   "outputs": [],
   "source": [
    "def train(epoch):\n",
    "    \n",
    "    \n",
    "    model.train()  # 신경망을 학습 모드로 전환\n",
    "\n",
    "    # 데이터로더에서 미니배치를 하나씩 꺼내 학습을 수행\n",
    "    for data, targets in loader_train:\n",
    "\n",
    "        optimizer.zero_grad()  # 초기화\n",
    "        outputs = model(data)  # 출력\n",
    "        \n",
    "        \n",
    "        # 역전파\n",
    "        loss = loss_fn(outputs, targets)  # 오차를 계산\n",
    "        loss.backward()  \n",
    "        optimizer.step()  \n",
    "\n",
    "    print(\"epoch{}：완료\\n\".format(epoch))"
   ]
  },
  {
   "cell_type": "code",
   "execution_count": 172,
   "metadata": {},
   "outputs": [
    {
     "data": {
      "text/plain": [
       "tensor([2, 2])"
      ]
     },
     "execution_count": 172,
     "metadata": {},
     "output_type": "execute_result"
    }
   ],
   "source": [
    "x = torch.Tensor([[1, 2, 3], [2,3,4]])\n",
    "torch.max(x, 1)[1]  # label만 가져온거고"
   ]
  },
  {
   "cell_type": "code",
   "execution_count": 173,
   "metadata": {
    "executionInfo": {
     "elapsed": 766,
     "status": "ok",
     "timestamp": 1619886354824,
     "user": {
      "displayName": "박재우",
      "photoUrl": "https://lh3.googleusercontent.com/a-/AOh14GjXI3etzUNsHKseHtKKPAfY_N2c7kAIWyXOMk2v=s64",
      "userId": "10125744057017928750"
     },
     "user_tz": -540
    },
    "id": "DadUTnkLude_"
   },
   "outputs": [],
   "source": [
    "def test():\n",
    "    model.eval()  # 신경망을 추론 모드로 전환\n",
    "    correct = 0\n",
    "\n",
    "    # 데이터로더에서 미니배치를 하나씩 꺼내 추론을 수행\n",
    "    \n",
    "    with torch.no_grad():  # 추론 과정에는 미분이 필요없음\n",
    "        for data, targets in loader_test:\n",
    "\n",
    "            outputs = model(data)  # 데이터를 입력하고 출력을 계산\n",
    "\n",
    "            # 추론 계산 (softmax를 하고 있다고 봐도 되겠다)\n",
    "            _, predicted = torch.max(outputs.data, 1)  # 확률이 가장 높은 레이블이 무엇인지 계산\n",
    "            # eq 비교\n",
    "            correct += predicted.eq(targets.data.view_as(predicted)).sum()  # 정답과 일치한 경우 정답 카운트를 증가\n",
    "\n",
    "    # 정확도 출력\n",
    "    data_num = len(loader_test.dataset)  # 데이터 총 건수\n",
    "    print('\\n테스트 데이터에서 예측 정확도: {}/{} ({:.0f}%)\\n'.format(\n",
    "        correct,\n",
    "        data_num,\n",
    "        100. * correct / data_num))"
   ]
  },
  {
   "cell_type": "code",
   "execution_count": 174,
   "metadata": {
    "colab": {
     "base_uri": "https://localhost:8080/"
    },
    "executionInfo": {
     "elapsed": 862,
     "status": "ok",
     "timestamp": 1619886379098,
     "user": {
      "displayName": "박재우",
      "photoUrl": "https://lh3.googleusercontent.com/a-/AOh14GjXI3etzUNsHKseHtKKPAfY_N2c7kAIWyXOMk2v=s64",
      "userId": "10125744057017928750"
     },
     "user_tz": -540
    },
    "id": "U9z3vUgju5KJ",
    "outputId": "8797cf5f-548a-4c19-d368-36169c952640"
   },
   "outputs": [
    {
     "name": "stdout",
     "output_type": "stream",
     "text": [
      "\n",
      "테스트 데이터에서 예측 정확도: 1145/10000 (11%)\n",
      "\n"
     ]
    }
   ],
   "source": [
    "test()"
   ]
  },
  {
   "cell_type": "code",
   "execution_count": 175,
   "metadata": {
    "colab": {
     "base_uri": "https://localhost:8080/"
    },
    "executionInfo": {
     "elapsed": 8822,
     "status": "ok",
     "timestamp": 1619886416052,
     "user": {
      "displayName": "박재우",
      "photoUrl": "https://lh3.googleusercontent.com/a-/AOh14GjXI3etzUNsHKseHtKKPAfY_N2c7kAIWyXOMk2v=s64",
      "userId": "10125744057017928750"
     },
     "user_tz": -540
    },
    "id": "X8DvqLErvcuY",
    "outputId": "a6bfe0aa-6c22-4d46-af2e-654c690b1b42"
   },
   "outputs": [
    {
     "name": "stdout",
     "output_type": "stream",
     "text": [
      "epoch0：완료\n",
      "\n",
      "epoch1：완료\n",
      "\n",
      "epoch2：완료\n",
      "\n",
      "\n",
      "테스트 데이터에서 예측 정확도: 9530/10000 (95%)\n",
      "\n"
     ]
    }
   ],
   "source": [
    "# 학습\n",
    "\n",
    "for epoch in range(3):\n",
    "    train(epoch)\n",
    "\n",
    "test()"
   ]
  },
  {
   "cell_type": "code",
   "execution_count": 176,
   "metadata": {
    "colab": {
     "base_uri": "https://localhost:8080/",
     "height": 370
    },
    "executionInfo": {
     "elapsed": 824,
     "status": "ok",
     "timestamp": 1619886634704,
     "user": {
      "displayName": "박재우",
      "photoUrl": "https://lh3.googleusercontent.com/a-/AOh14GjXI3etzUNsHKseHtKKPAfY_N2c7kAIWyXOMk2v=s64",
      "userId": "10125744057017928750"
     },
     "user_tz": -540
    },
    "id": "nAq68l8DwP3d",
    "outputId": "a4ccb891-070c-415f-e61a-6e51bef21d28"
   },
   "outputs": [
    {
     "name": "stdout",
     "output_type": "stream",
     "text": [
      "tensor([-20.5056,   7.0626,  18.7121,   2.6131, -21.5820, -12.1388, -15.6446,\n",
      "          8.7095, -11.7915,  -9.7331], grad_fn=<AddBackward0>)\n",
      "tensor(18.7121) tensor(2)\n",
      "예측 결과 : 2\n",
      "이 이미지 데이터의 정답 레이블은 2입니다\n"
     ]
    },
    {
     "data": {
      "image/png": "[encoded data removed]",
      "text/plain": [
       "<Figure size 432x288 with 1 Axes>"
      ]
     },
     "metadata": {
      "needs_background": "light"
     },
     "output_type": "display_data"
    }
   ],
   "source": [
    "# 특정 인덱스\n",
    "\n",
    "index = 2018\n",
    "\n",
    "model.eval()  # 신경망을 추론 모드로 전환\n",
    "data = X_test[index]\n",
    "output = model(data)  # 데이터를 입력하고 출력을 계산\n",
    "\n",
    "_, predicted = torch.max(output.data, 0)  # 확률이 가장 높은 레이블이 무엇인지 계산\n",
    "print(output)\n",
    "print(_, predicted)\n",
    "print(\"예측 결과 : {}\".format(predicted))\n",
    "\n",
    "X_test_show = (X_test[index]).numpy()\n",
    "plt.imshow(X_test_show.reshape(28, 28), cmap='gray')\n",
    "print(\"이 이미지 데이터의 정답 레이블은 {:.0f}입니다\".format(y_test[index]))"
   ]
  },
  {
   "cell_type": "markdown",
   "metadata": {
    "id": "4mQ70FbdysOH"
   },
   "source": [
    "## 과적합(Overfitting)\n",
    "\n",
    "- 학습데이터를 과도하게 학습(노이즈까지 학습)"
   ]
  },
  {
   "cell_type": "markdown",
   "metadata": {},
   "source": [
    "### 과적합을 막는 방법\n",
    "\n",
    "- 데이터 양 늘리기 : 데이터 증강 등\n",
    "- 모델 복잡도 줄이기 : 은닉층 줄이기 등\n",
    "- 가중치 규제 \n",
    "    - L1 규제 : 비용함수가 최소 + 가중치 절대값 합도 최소(어떤 특성을 활용 X)\n",
    "    - L2 규제 : 가중치의 제곱을 최소화하므로 > 0에 가까워짐(* 권장)\n",
    "        - 옵티마이저의 weight_decay 매개변수\n",
    "- 드롭아웃 : 학습과정에서 특정 비율의 뉴런을 사용하지 않고 학습\n",
    "\n",
    "![](https://wikidocs.net/images/page/60751/%EB%93%9C%EB%A1%AD%EC%95%84%EC%9B%83.PNG)"
   ]
  },
  {
   "cell_type": "markdown",
   "metadata": {
    "id": "Ttk1UHvmzdY2"
   },
   "source": [
    "## 기울기 소실과 폭주\n",
    "\n",
    "- 입력층으로 갈수록 기울기가 점차 작아지거나 커지는 현상"
   ]
  },
  {
   "cell_type": "markdown",
   "metadata": {},
   "source": [
    "### 기울기 소실과 폭주를 막는 방법\n",
    "- 은닉층의 활성화 함수로 시그모이드나 하이퍼볼릭탄젠트보다 렐루 함수 등을 활용\n",
    "- 가중치 초기화 : 초기 가중치에 따라 훈련결과 달라짐(기울기 소실 문제 완화)\n",
    "    - 세이비어 초기화 : 시그모이드나 하이퍼볼릭탄젠트 함수에 활용\n",
    "    - He 초기화 : ReLU 계열 함수에 적합\n",
    "- 배치 정규화 : 각 층에 들어가는 입력을 정규화하여 학습 효율화\n",
    "    - 활성화 함수를 통과하기 전에 수행\n",
    "- 층 정규화 : RNN 모델에서 활용가능"
   ]
  }
 ],
 "metadata": {
  "colab": {
   "authorship_tag": "ABX9TyNKbJck84rBUTuiay89zC8m",
   "collapsed_sections": [],
   "name": "Ch6. 인공 신경망.ipynb",
   "provenance": []
  },
  "kernelspec": {
   "display_name": "Python 3 (ipykernel)",
   "language": "python",
   "name": "python3"
  },
  "language_info": {
   "codemirror_mode": {
    "name": "ipython",
    "version": 3
   },
   "file_extension": ".py",
   "mimetype": "text/x-python",
   "name": "python",
   "nbconvert_exporter": "python",
   "pygments_lexer": "ipython3",
   "version": "3.8.13"
  }
 },
 "nbformat": 4,
 "nbformat_minor": 4
}
