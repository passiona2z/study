{
 "cells": [
  {
   "cell_type": "code",
   "execution_count": 2,
   "metadata": {},
   "outputs": [
    {
     "name": "stdout",
     "output_type": "stream",
     "text": [
      "Signing notebook: Ch05.ipynb\n"
     ]
    }
   ],
   "source": [
    "! jupyter trust Ch05.ipynb"
   ]
  },
  {
   "cell_type": "markdown",
   "metadata": {
    "id": "jjFcuQGl8twS"
   },
   "source": [
    "### 1) 원핫 인코딩\n",
    "* 다중 클래스 분류 문제가 각 클래스 간의 관계가 균등하다는 점에서 원-핫 벡터는 이러한 점을 표현할 수 있는 적절한 표현 방법\n",
    "* 만약 클래스 표기를 1,2,3,4 식으로 한다면 수의 크기에 따라 가중치가 부여될 수 있음. ex) loss function을 통한 계산"
   ]
  },
  {
   "cell_type": "markdown",
   "metadata": {
    "id": "N_krVEcs_k2q"
   },
   "source": [
    "### 3) 소프트맥스 회귀의 비용 함수 구현하기"
   ]
  },
  {
   "cell_type": "code",
   "execution_count": 10,
   "metadata": {
    "executionInfo": {
     "elapsed": 568,
     "status": "ok",
     "timestamp": 1619773127338,
     "user": {
      "displayName": "박재우",
      "photoUrl": "https://lh3.googleusercontent.com/a-/AOh14GjXI3etzUNsHKseHtKKPAfY_N2c7kAIWyXOMk2v=s64",
      "userId": "10125744057017928750"
     },
     "user_tz": -540
    },
    "id": "0LdMH90I8hnj"
   },
   "outputs": [],
   "source": [
    "import torch\n",
    "import torch.nn as nn\n",
    "import torch.nn.functional as F"
   ]
  },
  {
   "cell_type": "code",
   "execution_count": 11,
   "metadata": {
    "executionInfo": {
     "elapsed": 742,
     "status": "ok",
     "timestamp": 1619773131243,
     "user": {
      "displayName": "박재우",
      "photoUrl": "https://lh3.googleusercontent.com/a-/AOh14GjXI3etzUNsHKseHtKKPAfY_N2c7kAIWyXOMk2v=s64",
      "userId": "10125744057017928750"
     },
     "user_tz": -540
    },
    "id": "OgActiok_qP_"
   },
   "outputs": [],
   "source": [
    "z = torch.FloatTensor([1, 2, 3])"
   ]
  },
  {
   "cell_type": "code",
   "execution_count": 12,
   "metadata": {
    "colab": {
     "base_uri": "https://localhost:8080/"
    },
    "executionInfo": {
     "elapsed": 540,
     "status": "ok",
     "timestamp": 1619773131244,
     "user": {
      "displayName": "박재우",
      "photoUrl": "https://lh3.googleusercontent.com/a-/AOh14GjXI3etzUNsHKseHtKKPAfY_N2c7kAIWyXOMk2v=s64",
      "userId": "10125744057017928750"
     },
     "user_tz": -540
    },
    "id": "sYuWi9kT_0K3",
    "outputId": "9a6d3e94-16d3-47bc-fe23-a93661e80b14"
   },
   "outputs": [
    {
     "name": "stdout",
     "output_type": "stream",
     "text": [
      "tensor([1., 2., 3.])\n"
     ]
    }
   ],
   "source": [
    "print(z)"
   ]
  },
  {
   "cell_type": "code",
   "execution_count": 14,
   "metadata": {
    "colab": {
     "base_uri": "https://localhost:8080/"
    },
    "executionInfo": {
     "elapsed": 570,
     "status": "ok",
     "timestamp": 1619773139958,
     "user": {
      "displayName": "박재우",
      "photoUrl": "https://lh3.googleusercontent.com/a-/AOh14GjXI3etzUNsHKseHtKKPAfY_N2c7kAIWyXOMk2v=s64",
      "userId": "10125744057017928750"
     },
     "user_tz": -540
    },
    "id": "6NcakzRA_2rf",
    "outputId": "8e8741a0-5737-42e0-b6e1-4073d5d43b45"
   },
   "outputs": [
    {
     "name": "stdout",
     "output_type": "stream",
     "text": [
      "tensor([0.0900, 0.2447, 0.6652])\n"
     ]
    },
    {
     "name": "stderr",
     "output_type": "stream",
     "text": [
      "/usr/local/lib/python3.7/dist-packages/ipykernel_launcher.py:1: UserWarning: Implicit dimension choice for softmax has been deprecated. Change the call to include dim=X as an argument.\n",
      "  \"\"\"Entry point for launching an IPython kernel.\n"
     ]
    }
   ],
   "source": [
    "hypothesis = F.softmax(z)\n",
    "print(hypothesis)"
   ]
  },
  {
   "cell_type": "code",
   "execution_count": 15,
   "metadata": {
    "colab": {
     "base_uri": "https://localhost:8080/"
    },
    "executionInfo": {
     "elapsed": 547,
     "status": "ok",
     "timestamp": 1619773155411,
     "user": {
      "displayName": "박재우",
      "photoUrl": "https://lh3.googleusercontent.com/a-/AOh14GjXI3etzUNsHKseHtKKPAfY_N2c7kAIWyXOMk2v=s64",
      "userId": "10125744057017928750"
     },
     "user_tz": -540
    },
    "id": "QQ_Wmc5J_7Ja",
    "outputId": "8ebdf6e7-a42c-4cbc-b749-70acf9c49d18"
   },
   "outputs": [
    {
     "data": {
      "text/plain": [
       "tensor(1.)"
      ]
     },
     "execution_count": 15,
     "metadata": {
      "tags": []
     },
     "output_type": "execute_result"
    }
   ],
   "source": [
    "hypothesis.sum()"
   ]
  },
  {
   "cell_type": "code",
   "execution_count": 17,
   "metadata": {
    "colab": {
     "base_uri": "https://localhost:8080/"
    },
    "executionInfo": {
     "elapsed": 855,
     "status": "ok",
     "timestamp": 1619773188992,
     "user": {
      "displayName": "박재우",
      "photoUrl": "https://lh3.googleusercontent.com/a-/AOh14GjXI3etzUNsHKseHtKKPAfY_N2c7kAIWyXOMk2v=s64",
      "userId": "10125744057017928750"
     },
     "user_tz": -540
    },
    "id": "hwooZ9nOAOX0",
    "outputId": "07ef2798-2352-45c4-a458-76387366d898"
   },
   "outputs": [
    {
     "name": "stdout",
     "output_type": "stream",
     "text": [
      "tensor([[0.7559, 0.9825, 0.1716, 0.8878, 0.3489],\n",
      "        [0.3068, 0.4067, 0.9128, 0.5571, 0.7072],\n",
      "        [0.5980, 0.1974, 0.5329, 0.2862, 0.0507]], requires_grad=True)\n"
     ]
    }
   ],
   "source": [
    "z = torch.rand(3,5, requires_grad=True)\n",
    "print(z)"
   ]
  },
  {
   "cell_type": "code",
   "execution_count": 18,
   "metadata": {
    "colab": {
     "base_uri": "https://localhost:8080/"
    },
    "executionInfo": {
     "elapsed": 548,
     "status": "ok",
     "timestamp": 1619773203414,
     "user": {
      "displayName": "박재우",
      "photoUrl": "https://lh3.googleusercontent.com/a-/AOh14GjXI3etzUNsHKseHtKKPAfY_N2c7kAIWyXOMk2v=s64",
      "userId": "10125744057017928750"
     },
     "user_tz": -540
    },
    "id": "EQ8RBi8SAUt0",
    "outputId": "c5632b10-7527-4c28-c16e-1f3364f79e0b"
   },
   "outputs": [
    {
     "name": "stdout",
     "output_type": "stream",
     "text": [
      "tensor([[0.2165, 0.2716, 0.1207, 0.2471, 0.1441],\n",
      "        [0.1489, 0.1646, 0.2730, 0.1913, 0.2222],\n",
      "        [0.2553, 0.1710, 0.2392, 0.1869, 0.1477]], grad_fn=<SoftmaxBackward>)\n"
     ]
    }
   ],
   "source": [
    "hypothesis = F.softmax(z, dim=1)\n",
    "print(hypothesis)"
   ]
  },
  {
   "cell_type": "code",
   "execution_count": 31,
   "metadata": {
    "colab": {
     "base_uri": "https://localhost:8080/"
    },
    "executionInfo": {
     "elapsed": 669,
     "status": "ok",
     "timestamp": 1619773485726,
     "user": {
      "displayName": "박재우",
      "photoUrl": "https://lh3.googleusercontent.com/a-/AOh14GjXI3etzUNsHKseHtKKPAfY_N2c7kAIWyXOMk2v=s64",
      "userId": "10125744057017928750"
     },
     "user_tz": -540
    },
    "id": "21kZBZQ3AaF0",
    "outputId": "ab3b770d-7021-47f3-df14-fa454576c54b"
   },
   "outputs": [
    {
     "name": "stdout",
     "output_type": "stream",
     "text": [
      "tensor([2, 3, 4])\n"
     ]
    }
   ],
   "source": [
    "y = torch.randint(5,(3,)).long()\n",
    "print(y)"
   ]
  },
  {
   "cell_type": "code",
   "execution_count": 32,
   "metadata": {
    "colab": {
     "base_uri": "https://localhost:8080/"
    },
    "executionInfo": {
     "elapsed": 596,
     "status": "ok",
     "timestamp": 1619773508705,
     "user": {
      "displayName": "박재우",
      "photoUrl": "https://lh3.googleusercontent.com/a-/AOh14GjXI3etzUNsHKseHtKKPAfY_N2c7kAIWyXOMk2v=s64",
      "userId": "10125744057017928750"
     },
     "user_tz": -540
    },
    "id": "FMO5ppIyAjfc",
    "outputId": "d4b71dac-a1da-4f26-c62c-075dfa93f3b3"
   },
   "outputs": [
    {
     "data": {
      "text/plain": [
       "tensor([[0., 0., 1., 0., 0.],\n",
       "        [0., 0., 0., 1., 0.],\n",
       "        [0., 0., 0., 0., 1.]])"
      ]
     },
     "execution_count": 32,
     "metadata": {
      "tags": []
     },
     "output_type": "execute_result"
    }
   ],
   "source": [
    "y_one_hot = torch.zeros_like(hypothesis) \n",
    "y_one_hot.scatter_(1, y.unsqueeze(1), 1)"
   ]
  },
  {
   "cell_type": "code",
   "execution_count": 33,
   "metadata": {
    "colab": {
     "base_uri": "https://localhost:8080/"
    },
    "executionInfo": {
     "elapsed": 551,
     "status": "ok",
     "timestamp": 1619773724883,
     "user": {
      "displayName": "박재우",
      "photoUrl": "https://lh3.googleusercontent.com/a-/AOh14GjXI3etzUNsHKseHtKKPAfY_N2c7kAIWyXOMk2v=s64",
      "userId": "10125744057017928750"
     },
     "user_tz": -540
    },
    "id": "f13gSOewAtDE",
    "outputId": "67369856-381f-44ee-eaf9-b2ec2cc4ff1b"
   },
   "outputs": [
    {
     "name": "stdout",
     "output_type": "stream",
     "text": [
      "tensor([[0., 0., 1., 0., 0.],\n",
      "        [0., 0., 0., 1., 0.],\n",
      "        [0., 0., 0., 0., 1.]])\n"
     ]
    }
   ],
   "source": [
    "print(y_one_hot)"
   ]
  },
  {
   "cell_type": "code",
   "execution_count": 34,
   "metadata": {
    "executionInfo": {
     "elapsed": 554,
     "status": "ok",
     "timestamp": 1619773762013,
     "user": {
      "displayName": "박재우",
      "photoUrl": "https://lh3.googleusercontent.com/a-/AOh14GjXI3etzUNsHKseHtKKPAfY_N2c7kAIWyXOMk2v=s64",
      "userId": "10125744057017928750"
     },
     "user_tz": -540
    },
    "id": "ojEhk7b7CZZy"
   },
   "outputs": [],
   "source": [
    "cost = (y_one_hot * -torch.log(hypothesis)).sum(dim=1).mean()"
   ]
  },
  {
   "cell_type": "code",
   "execution_count": 42,
   "metadata": {
    "colab": {
     "base_uri": "https://localhost:8080/"
    },
    "executionInfo": {
     "elapsed": 785,
     "status": "ok",
     "timestamp": 1619773825412,
     "user": {
      "displayName": "박재우",
      "photoUrl": "https://lh3.googleusercontent.com/a-/AOh14GjXI3etzUNsHKseHtKKPAfY_N2c7kAIWyXOMk2v=s64",
      "userId": "10125744057017928750"
     },
     "user_tz": -540
    },
    "id": "48JhMYzZCpWA",
    "outputId": "b7d64618-45ad-4744-c3c3-54656c28584b"
   },
   "outputs": [
    {
     "name": "stdout",
     "output_type": "stream",
     "text": [
      "tensor(1.8937, grad_fn=<MeanBackward0>)\n"
     ]
    }
   ],
   "source": [
    "print(cost)"
   ]
  },
  {
   "cell_type": "code",
   "execution_count": 43,
   "metadata": {
    "colab": {
     "base_uri": "https://localhost:8080/"
    },
    "executionInfo": {
     "elapsed": 658,
     "status": "ok",
     "timestamp": 1619773859877,
     "user": {
      "displayName": "박재우",
      "photoUrl": "https://lh3.googleusercontent.com/a-/AOh14GjXI3etzUNsHKseHtKKPAfY_N2c7kAIWyXOMk2v=s64",
      "userId": "10125744057017928750"
     },
     "user_tz": -540
    },
    "id": "RpgiPlczCx33",
    "outputId": "aff5d1b5-b9ec-4af7-b87f-fb8699ddcc7e"
   },
   "outputs": [
    {
     "data": {
      "text/plain": [
       "tensor([[-1.5301, -1.3035, -2.1144, -1.3982, -1.9371],\n",
       "        [-1.9044, -1.8045, -1.2983, -1.6540, -1.5040],\n",
       "        [-1.3655, -1.7661, -1.4305, -1.6773, -1.9127]], grad_fn=<LogBackward>)"
      ]
     },
     "execution_count": 43,
     "metadata": {
      "tags": []
     },
     "output_type": "execute_result"
    }
   ],
   "source": [
    "torch.log(F.softmax(z, dim=1))"
   ]
  },
  {
   "cell_type": "code",
   "execution_count": 44,
   "metadata": {
    "colab": {
     "base_uri": "https://localhost:8080/"
    },
    "executionInfo": {
     "elapsed": 479,
     "status": "ok",
     "timestamp": 1619773872475,
     "user": {
      "displayName": "박재우",
      "photoUrl": "https://lh3.googleusercontent.com/a-/AOh14GjXI3etzUNsHKseHtKKPAfY_N2c7kAIWyXOMk2v=s64",
      "userId": "10125744057017928750"
     },
     "user_tz": -540
    },
    "id": "qWLEGon4C6Vb",
    "outputId": "656b68f3-a19d-4afc-fe45-9ce0a217cfaf"
   },
   "outputs": [
    {
     "data": {
      "text/plain": [
       "tensor([[-1.5301, -1.3035, -2.1144, -1.3982, -1.9371],\n",
       "        [-1.9044, -1.8045, -1.2983, -1.6540, -1.5040],\n",
       "        [-1.3655, -1.7661, -1.4305, -1.6773, -1.9127]],\n",
       "       grad_fn=<LogSoftmaxBackward>)"
      ]
     },
     "execution_count": 44,
     "metadata": {
      "tags": []
     },
     "output_type": "execute_result"
    }
   ],
   "source": [
    "F.log_softmax(z, dim=1)"
   ]
  },
  {
   "cell_type": "code",
   "execution_count": 45,
   "metadata": {
    "colab": {
     "base_uri": "https://localhost:8080/"
    },
    "executionInfo": {
     "elapsed": 651,
     "status": "ok",
     "timestamp": 1619773905336,
     "user": {
      "displayName": "박재우",
      "photoUrl": "https://lh3.googleusercontent.com/a-/AOh14GjXI3etzUNsHKseHtKKPAfY_N2c7kAIWyXOMk2v=s64",
      "userId": "10125744057017928750"
     },
     "user_tz": -540
    },
    "id": "PE8NHY2UC9bj",
    "outputId": "8ac39477-43b2-4b2c-b94f-b69a7eb61776"
   },
   "outputs": [
    {
     "data": {
      "text/plain": [
       "tensor(1.8937, grad_fn=<MeanBackward0>)"
      ]
     },
     "execution_count": 45,
     "metadata": {
      "tags": []
     },
     "output_type": "execute_result"
    }
   ],
   "source": [
    "(y_one_hot * - F.log_softmax(z, dim=1)).sum(dim=1).mean()"
   ]
  },
  {
   "cell_type": "code",
   "execution_count": 69,
   "metadata": {
    "colab": {
     "base_uri": "https://localhost:8080/"
    },
    "executionInfo": {
     "elapsed": 905,
     "status": "ok",
     "timestamp": 1619775759018,
     "user": {
      "displayName": "박재우",
      "photoUrl": "https://lh3.googleusercontent.com/a-/AOh14GjXI3etzUNsHKseHtKKPAfY_N2c7kAIWyXOMk2v=s64",
      "userId": "10125744057017928750"
     },
     "user_tz": -540
    },
    "id": "cs08PPSoDFbu",
    "outputId": "a9355483-a8e8-4b38-f951-23e0f6e379df"
   },
   "outputs": [
    {
     "data": {
      "text/plain": [
       "tensor(1.8937, grad_fn=<NllLossBackward>)"
      ]
     },
     "execution_count": 69,
     "metadata": {
      "tags": []
     },
     "output_type": "execute_result"
    }
   ],
   "source": [
    "F.nll_loss(F.log_softmax(z, dim=1),y)"
   ]
  },
  {
   "cell_type": "code",
   "execution_count": 48,
   "metadata": {
    "colab": {
     "base_uri": "https://localhost:8080/"
    },
    "executionInfo": {
     "elapsed": 706,
     "status": "ok",
     "timestamp": 1619774161368,
     "user": {
      "displayName": "박재우",
      "photoUrl": "https://lh3.googleusercontent.com/a-/AOh14GjXI3etzUNsHKseHtKKPAfY_N2c7kAIWyXOMk2v=s64",
      "userId": "10125744057017928750"
     },
     "user_tz": -540
    },
    "id": "7u50mbBiDLUQ",
    "outputId": "51ab1669-650e-4c59-dd30-977da97a39fc"
   },
   "outputs": [
    {
     "data": {
      "text/plain": [
       "tensor([[0.7559, 0.9825, 0.1716, 0.8878, 0.3489],\n",
       "        [0.3068, 0.4067, 0.9128, 0.5571, 0.7072],\n",
       "        [0.5980, 0.1974, 0.5329, 0.2862, 0.0507]], requires_grad=True)"
      ]
     },
     "execution_count": 48,
     "metadata": {
      "tags": []
     },
     "output_type": "execute_result"
    }
   ],
   "source": [
    "z"
   ]
  },
  {
   "cell_type": "code",
   "execution_count": 73,
   "metadata": {
    "colab": {
     "base_uri": "https://localhost:8080/"
    },
    "executionInfo": {
     "elapsed": 571,
     "status": "ok",
     "timestamp": 1619775795949,
     "user": {
      "displayName": "박재우",
      "photoUrl": "https://lh3.googleusercontent.com/a-/AOh14GjXI3etzUNsHKseHtKKPAfY_N2c7kAIWyXOMk2v=s64",
      "userId": "10125744057017928750"
     },
     "user_tz": -540
    },
    "id": "FQoE0whcKShw",
    "outputId": "0d518d0c-d4f5-4b70-a866-2f7c3ac1397e"
   },
   "outputs": [
    {
     "data": {
      "text/plain": [
       "tensor([[0.2165, 0.2716, 0.1207, 0.2471, 0.1441],\n",
       "        [0.1489, 0.1646, 0.2730, 0.1913, 0.2222],\n",
       "        [0.2553, 0.1710, 0.2392, 0.1869, 0.1477]], grad_fn=<SoftmaxBackward>)"
      ]
     },
     "execution_count": 73,
     "metadata": {
      "tags": []
     },
     "output_type": "execute_result"
    }
   ],
   "source": [
    "F.softmax(z, dim=1)"
   ]
  },
  {
   "cell_type": "code",
   "execution_count": 72,
   "metadata": {
    "colab": {
     "base_uri": "https://localhost:8080/"
    },
    "executionInfo": {
     "elapsed": 538,
     "status": "ok",
     "timestamp": 1619775789257,
     "user": {
      "displayName": "박재우",
      "photoUrl": "https://lh3.googleusercontent.com/a-/AOh14GjXI3etzUNsHKseHtKKPAfY_N2c7kAIWyXOMk2v=s64",
      "userId": "10125744057017928750"
     },
     "user_tz": -540
    },
    "id": "SgFQ93L5D9Cx",
    "outputId": "2f314aeb-1c94-415c-f773-eb3e8ef831b3"
   },
   "outputs": [
    {
     "data": {
      "text/plain": [
       "tensor([1.0000, 1.0000, 1.0000], grad_fn=<SumBackward1>)"
      ]
     },
     "execution_count": 72,
     "metadata": {
      "tags": []
     },
     "output_type": "execute_result"
    }
   ],
   "source": [
    "F.softmax(z, dim=1).sum(dim=1)"
   ]
  },
  {
   "cell_type": "code",
   "execution_count": 74,
   "metadata": {
    "colab": {
     "base_uri": "https://localhost:8080/"
    },
    "executionInfo": {
     "elapsed": 524,
     "status": "ok",
     "timestamp": 1619775807466,
     "user": {
      "displayName": "박재우",
      "photoUrl": "https://lh3.googleusercontent.com/a-/AOh14GjXI3etzUNsHKseHtKKPAfY_N2c7kAIWyXOMk2v=s64",
      "userId": "10125744057017928750"
     },
     "user_tz": -540
    },
    "id": "8lmYEdguJ7dQ",
    "outputId": "36595280-980b-4931-9f79-819ae0fdc8c6"
   },
   "outputs": [
    {
     "data": {
      "text/plain": [
       "tensor([[-1.5301, -1.3035, -2.1144, -1.3982, -1.9371],\n",
       "        [-1.9044, -1.8045, -1.2983, -1.6540, -1.5040],\n",
       "        [-1.3655, -1.7661, -1.4305, -1.6773, -1.9127]],\n",
       "       grad_fn=<LogSoftmaxBackward>)"
      ]
     },
     "execution_count": 74,
     "metadata": {
      "tags": []
     },
     "output_type": "execute_result"
    }
   ],
   "source": [
    "F.log_softmax(z, dim=1)"
   ]
  },
  {
   "cell_type": "code",
   "execution_count": 76,
   "metadata": {
    "colab": {
     "base_uri": "https://localhost:8080/"
    },
    "executionInfo": {
     "elapsed": 553,
     "status": "ok",
     "timestamp": 1619775866167,
     "user": {
      "displayName": "박재우",
      "photoUrl": "https://lh3.googleusercontent.com/a-/AOh14GjXI3etzUNsHKseHtKKPAfY_N2c7kAIWyXOMk2v=s64",
      "userId": "10125744057017928750"
     },
     "user_tz": -540
    },
    "id": "IwkRMyfSKV2e",
    "outputId": "6356c831-0833-46ef-8242-ab90e08beb22"
   },
   "outputs": [
    {
     "data": {
      "text/plain": [
       "tensor(1.8937, grad_fn=<MeanBackward0>)"
      ]
     },
     "execution_count": 76,
     "metadata": {
      "tags": []
     },
     "output_type": "execute_result"
    }
   ],
   "source": [
    "(y_one_hot * - F.log_softmax(z, dim=1)).sum(dim=1).mean()"
   ]
  },
  {
   "cell_type": "code",
   "execution_count": 77,
   "metadata": {
    "colab": {
     "base_uri": "https://localhost:8080/"
    },
    "executionInfo": {
     "elapsed": 785,
     "status": "ok",
     "timestamp": 1619775879005,
     "user": {
      "displayName": "박재우",
      "photoUrl": "https://lh3.googleusercontent.com/a-/AOh14GjXI3etzUNsHKseHtKKPAfY_N2c7kAIWyXOMk2v=s64",
      "userId": "10125744057017928750"
     },
     "user_tz": -540
    },
    "id": "A3C2uOj3Kcz6",
    "outputId": "ba55bdd0-29dc-45b8-a603-802326707f63"
   },
   "outputs": [
    {
     "data": {
      "text/plain": [
       "tensor(1.8937, grad_fn=<NllLossBackward>)"
      ]
     },
     "execution_count": 77,
     "metadata": {
      "tags": []
     },
     "output_type": "execute_result"
    }
   ],
   "source": [
    "F.nll_loss(F.log_softmax(z, dim=1), y)"
   ]
  },
  {
   "cell_type": "code",
   "execution_count": 78,
   "metadata": {
    "colab": {
     "base_uri": "https://localhost:8080/"
    },
    "executionInfo": {
     "elapsed": 726,
     "status": "ok",
     "timestamp": 1619775888222,
     "user": {
      "displayName": "박재우",
      "photoUrl": "https://lh3.googleusercontent.com/a-/AOh14GjXI3etzUNsHKseHtKKPAfY_N2c7kAIWyXOMk2v=s64",
      "userId": "10125744057017928750"
     },
     "user_tz": -540
    },
    "id": "AAwXeBMfKnO6",
    "outputId": "9dc579cc-e88c-446b-d2b7-c3054a668314"
   },
   "outputs": [
    {
     "data": {
      "text/plain": [
       "tensor(1.8937, grad_fn=<NllLossBackward>)"
      ]
     },
     "execution_count": 78,
     "metadata": {
      "tags": []
     },
     "output_type": "execute_result"
    }
   ],
   "source": [
    "F.cross_entropy(z, y)"
   ]
  },
  {
   "cell_type": "markdown",
   "metadata": {
    "id": "ZrJwX6lDKr2e"
   },
   "source": [
    "### 4) 소프트맥스 회귀 구현하기"
   ]
  },
  {
   "cell_type": "code",
   "execution_count": 79,
   "metadata": {
    "executionInfo": {
     "elapsed": 684,
     "status": "ok",
     "timestamp": 1619775935023,
     "user": {
      "displayName": "박재우",
      "photoUrl": "https://lh3.googleusercontent.com/a-/AOh14GjXI3etzUNsHKseHtKKPAfY_N2c7kAIWyXOMk2v=s64",
      "userId": "10125744057017928750"
     },
     "user_tz": -540
    },
    "id": "RMcrmWxkKphL"
   },
   "outputs": [],
   "source": [
    "import torch\n",
    "import torch.nn as nn\n",
    "import torch.nn.functional as F\n",
    "import torch.optim as optim"
   ]
  },
  {
   "cell_type": "code",
   "execution_count": 80,
   "metadata": {
    "colab": {
     "base_uri": "https://localhost:8080/"
    },
    "executionInfo": {
     "elapsed": 539,
     "status": "ok",
     "timestamp": 1619775939504,
     "user": {
      "displayName": "박재우",
      "photoUrl": "https://lh3.googleusercontent.com/a-/AOh14GjXI3etzUNsHKseHtKKPAfY_N2c7kAIWyXOMk2v=s64",
      "userId": "10125744057017928750"
     },
     "user_tz": -540
    },
    "id": "sYXm6shUK07W",
    "outputId": "bec1018c-57ff-4a0b-fa5b-9285b2c315f6"
   },
   "outputs": [
    {
     "data": {
      "text/plain": [
       "<torch._C.Generator at 0x7f5c6ee11950>"
      ]
     },
     "execution_count": 80,
     "metadata": {
      "tags": []
     },
     "output_type": "execute_result"
    }
   ],
   "source": [
    "torch.manual_seed(1)"
   ]
  },
  {
   "cell_type": "code",
   "execution_count": 81,
   "metadata": {
    "executionInfo": {
     "elapsed": 553,
     "status": "ok",
     "timestamp": 1619775945091,
     "user": {
      "displayName": "박재우",
      "photoUrl": "https://lh3.googleusercontent.com/a-/AOh14GjXI3etzUNsHKseHtKKPAfY_N2c7kAIWyXOMk2v=s64",
      "userId": "10125744057017928750"
     },
     "user_tz": -540
    },
    "id": "agrUDugRK2FT"
   },
   "outputs": [],
   "source": [
    "x_train = [[1, 2, 1, 1],\n",
    "           [2, 1, 3, 2],\n",
    "           [3, 1, 3, 4],\n",
    "           [4, 1, 5, 5],\n",
    "           [1, 7, 5, 5],\n",
    "           [1, 2, 5, 6],\n",
    "           [1, 6, 6, 6],\n",
    "           [1, 7, 7, 7]]\n",
    "y_train = [2, 2, 2, 1, 1, 1, 0, 0]\n",
    "x_train = torch.FloatTensor(x_train)\n",
    "y_train = torch.LongTensor(y_train)"
   ]
  },
  {
   "cell_type": "code",
   "execution_count": 82,
   "metadata": {
    "colab": {
     "base_uri": "https://localhost:8080/"
    },
    "executionInfo": {
     "elapsed": 566,
     "status": "ok",
     "timestamp": 1619776470230,
     "user": {
      "displayName": "박재우",
      "photoUrl": "https://lh3.googleusercontent.com/a-/AOh14GjXI3etzUNsHKseHtKKPAfY_N2c7kAIWyXOMk2v=s64",
      "userId": "10125744057017928750"
     },
     "user_tz": -540
    },
    "id": "xFGZJi2aK3cM",
    "outputId": "ca86d931-21bf-4183-8f56-14828de51ab7"
   },
   "outputs": [
    {
     "name": "stdout",
     "output_type": "stream",
     "text": [
      "tensor([[1., 2., 1., 1.],\n",
      "        [2., 1., 3., 2.],\n",
      "        [3., 1., 3., 4.],\n",
      "        [4., 1., 5., 5.],\n",
      "        [1., 7., 5., 5.],\n",
      "        [1., 2., 5., 6.],\n",
      "        [1., 6., 6., 6.],\n",
      "        [1., 7., 7., 7.]])\n",
      "tensor([2, 2, 2, 1, 1, 1, 0, 0])\n"
     ]
    }
   ],
   "source": [
    "print(x_train)\n",
    "print(y_train)"
   ]
  },
  {
   "cell_type": "code",
   "execution_count": 87,
   "metadata": {
    "colab": {
     "base_uri": "https://localhost:8080/"
    },
    "executionInfo": {
     "elapsed": 633,
     "status": "ok",
     "timestamp": 1619777507592,
     "user": {
      "displayName": "박재우",
      "photoUrl": "https://lh3.googleusercontent.com/a-/AOh14GjXI3etzUNsHKseHtKKPAfY_N2c7kAIWyXOMk2v=s64",
      "userId": "10125744057017928750"
     },
     "user_tz": -540
    },
    "id": "rJYkwTVgM3pb",
    "outputId": "da9bca44-561c-4d5a-d98f-c9f11c4e1991"
   },
   "outputs": [
    {
     "name": "stdout",
     "output_type": "stream",
     "text": [
      "torch.Size([8, 3])\n"
     ]
    }
   ],
   "source": [
    "y_one_hot = torch.zeros(8, 3)\n",
    "y_one_hot.scatter_(1, y_train.unsqueeze(1), 1)\n",
    "print(y_one_hot.shape)"
   ]
  },
  {
   "cell_type": "code",
   "execution_count": 89,
   "metadata": {
    "executionInfo": {
     "elapsed": 630,
     "status": "ok",
     "timestamp": 1619777512839,
     "user": {
      "displayName": "박재우",
      "photoUrl": "https://lh3.googleusercontent.com/a-/AOh14GjXI3etzUNsHKseHtKKPAfY_N2c7kAIWyXOMk2v=s64",
      "userId": "10125744057017928750"
     },
     "user_tz": -540
    },
    "id": "og5cYG0QQlLo"
   },
   "outputs": [],
   "source": [
    "W = torch.zeros((4, 3), requires_grad=True)\n",
    "b = torch.zeros(1, requires_grad=True)\n",
    "# optimizer 설정\n",
    "optimizer = optim.SGD([W, b], lr=0.1)"
   ]
  },
  {
   "cell_type": "code",
   "execution_count": 90,
   "metadata": {
    "colab": {
     "base_uri": "https://localhost:8080/"
    },
    "executionInfo": {
     "elapsed": 1047,
     "status": "ok",
     "timestamp": 1619777514132,
     "user": {
      "displayName": "박재우",
      "photoUrl": "https://lh3.googleusercontent.com/a-/AOh14GjXI3etzUNsHKseHtKKPAfY_N2c7kAIWyXOMk2v=s64",
      "userId": "10125744057017928750"
     },
     "user_tz": -540
    },
    "id": "of50x8NdQn3r",
    "outputId": "0b191356-95e7-4506-e2b4-69db54cb508f"
   },
   "outputs": [
    {
     "name": "stdout",
     "output_type": "stream",
     "text": [
      "Epoch    0/1000 Cost: 1.098612\n",
      "Epoch  100/1000 Cost: 0.761050\n",
      "Epoch  200/1000 Cost: 0.689991\n",
      "Epoch  300/1000 Cost: 0.643229\n",
      "Epoch  400/1000 Cost: 0.604117\n",
      "Epoch  500/1000 Cost: 0.568255\n",
      "Epoch  600/1000 Cost: 0.533922\n",
      "Epoch  700/1000 Cost: 0.500291\n",
      "Epoch  800/1000 Cost: 0.466908\n",
      "Epoch  900/1000 Cost: 0.433507\n",
      "Epoch 1000/1000 Cost: 0.399962\n"
     ]
    }
   ],
   "source": [
    "nb_epochs = 1000\n",
    "for epoch in range(nb_epochs + 1):\n",
    "\n",
    "    # 가설\n",
    "    hypothesis = F.softmax(x_train.matmul(W) + b, dim=1) \n",
    "\n",
    "    # 비용 함수\n",
    "    cost = (y_one_hot * -torch.log(hypothesis)).sum(dim=1).mean()\n",
    "\n",
    "    # cost로 H(x) 개선\n",
    "    optimizer.zero_grad()\n",
    "    cost.backward()\n",
    "    optimizer.step()\n",
    "\n",
    "    # 100번마다 로그 출력\n",
    "    if epoch % 100 == 0:\n",
    "        print('Epoch {:4d}/{} Cost: {:.6f}'.format(\n",
    "            epoch, nb_epochs, cost.item()\n",
    "        ))"
   ]
  },
  {
   "cell_type": "code",
   "execution_count": 92,
   "metadata": {
    "colab": {
     "base_uri": "https://localhost:8080/"
    },
    "executionInfo": {
     "elapsed": 527,
     "status": "ok",
     "timestamp": 1619777671066,
     "user": {
      "displayName": "박재우",
      "photoUrl": "https://lh3.googleusercontent.com/a-/AOh14GjXI3etzUNsHKseHtKKPAfY_N2c7kAIWyXOMk2v=s64",
      "userId": "10125744057017928750"
     },
     "user_tz": -540
    },
    "id": "Wdal0xnKQq-P",
    "outputId": "12cc13fe-16a4-496f-af87-e7d7532d1df6"
   },
   "outputs": [
    {
     "name": "stdout",
     "output_type": "stream",
     "text": [
      "Epoch    0/1000 Cost: 1.098612\n",
      "Epoch  100/1000 Cost: 0.761050\n",
      "Epoch  200/1000 Cost: 0.689991\n",
      "Epoch  300/1000 Cost: 0.643229\n",
      "Epoch  400/1000 Cost: 0.604117\n",
      "Epoch  500/1000 Cost: 0.568256\n",
      "Epoch  600/1000 Cost: 0.533922\n",
      "Epoch  700/1000 Cost: 0.500291\n",
      "Epoch  800/1000 Cost: 0.466908\n",
      "Epoch  900/1000 Cost: 0.433507\n",
      "Epoch 1000/1000 Cost: 0.399962\n"
     ]
    }
   ],
   "source": [
    "W = torch.zeros((4,3), requires_grad=True)\n",
    "b = torch.zeros(1, requires_grad=True)\n",
    "\n",
    "optimizer = optim.SGD([W,b], lr=0.1)\n",
    "num_epochs = 1000\n",
    "for epoch in range(num_epochs + 1):\n",
    "  z = x_train.matmul(W) + b\n",
    "  loss_func = F.cross_entropy(z, y_train)\n",
    "\n",
    "  optimizer.zero_grad()\n",
    "  loss_func.backward()\n",
    "  optimizer.step()\n",
    "\n",
    "  if epoch % 100 == 0:\n",
    "      print('Epoch {:4d}/{} Cost: {:.6f}'.format(\n",
    "          epoch, num_epochs, loss_func.item()\n",
    "      ))"
   ]
  },
  {
   "cell_type": "code",
   "execution_count": 93,
   "metadata": {
    "colab": {
     "base_uri": "https://localhost:8080/"
    },
    "executionInfo": {
     "elapsed": 637,
     "status": "ok",
     "timestamp": 1619777716472,
     "user": {
      "displayName": "박재우",
      "photoUrl": "https://lh3.googleusercontent.com/a-/AOh14GjXI3etzUNsHKseHtKKPAfY_N2c7kAIWyXOMk2v=s64",
      "userId": "10125744057017928750"
     },
     "user_tz": -540
    },
    "id": "Yks76lpDRaVc",
    "outputId": "6de0337e-7c74-4716-ba68-d065085c3aab"
   },
   "outputs": [
    {
     "name": "stdout",
     "output_type": "stream",
     "text": [
      "Epoch    0/1000 Cost: 1.616785\n",
      "Epoch  100/1000 Cost: 0.658891\n",
      "Epoch  200/1000 Cost: 0.573443\n",
      "Epoch  300/1000 Cost: 0.518151\n",
      "Epoch  400/1000 Cost: 0.473265\n",
      "Epoch  500/1000 Cost: 0.433516\n",
      "Epoch  600/1000 Cost: 0.396563\n",
      "Epoch  700/1000 Cost: 0.360914\n",
      "Epoch  800/1000 Cost: 0.325392\n",
      "Epoch  900/1000 Cost: 0.289178\n",
      "Epoch 1000/1000 Cost: 0.254148\n"
     ]
    }
   ],
   "source": [
    "model = nn.Linear(4, 3)\n",
    "optimizer = optim.SGD(model.parameters(), lr=0.1)\n",
    "\n",
    "nb_epochs = 1000\n",
    "for epoch in range(nb_epochs + 1):\n",
    "\n",
    "    # H(x) 계산\n",
    "    prediction = model(x_train)\n",
    "\n",
    "    # cost 계산\n",
    "    cost = F.cross_entropy(prediction, y_train)\n",
    "\n",
    "    # cost로 H(x) 개선\n",
    "    optimizer.zero_grad()\n",
    "    cost.backward()\n",
    "    optimizer.step()\n",
    "\n",
    "    # 20번마다 로그 출력\n",
    "    if epoch % 100 == 0:\n",
    "        print('Epoch {:4d}/{} Cost: {:.6f}'.format(\n",
    "            epoch, nb_epochs, cost.item()\n",
    "        ))"
   ]
  },
  {
   "cell_type": "code",
   "execution_count": 94,
   "metadata": {
    "executionInfo": {
     "elapsed": 538,
     "status": "ok",
     "timestamp": 1619777878539,
     "user": {
      "displayName": "박재우",
      "photoUrl": "https://lh3.googleusercontent.com/a-/AOh14GjXI3etzUNsHKseHtKKPAfY_N2c7kAIWyXOMk2v=s64",
      "userId": "10125744057017928750"
     },
     "user_tz": -540
    },
    "id": "RWaSce4SRn4i"
   },
   "outputs": [],
   "source": [
    "class SoftmaxClassifierModel(nn.Module):\n",
    "  def __init__(self):\n",
    "    super().__init__()\n",
    "    self.linear = nn.Linear(4,3)\n",
    "\n",
    "  def forward(self, x):\n",
    "    return self.linear(x)"
   ]
  },
  {
   "cell_type": "code",
   "execution_count": 96,
   "metadata": {
    "executionInfo": {
     "elapsed": 533,
     "status": "ok",
     "timestamp": 1619777887389,
     "user": {
      "displayName": "박재우",
      "photoUrl": "https://lh3.googleusercontent.com/a-/AOh14GjXI3etzUNsHKseHtKKPAfY_N2c7kAIWyXOMk2v=s64",
      "userId": "10125744057017928750"
     },
     "user_tz": -540
    },
    "id": "GMTEK4e2SPeh"
   },
   "outputs": [],
   "source": [
    "model = SoftmaxClassifierModel()"
   ]
  },
  {
   "cell_type": "code",
   "execution_count": 97,
   "metadata": {
    "colab": {
     "base_uri": "https://localhost:8080/"
    },
    "executionInfo": {
     "elapsed": 851,
     "status": "ok",
     "timestamp": 1619777898218,
     "user": {
      "displayName": "박재우",
      "photoUrl": "https://lh3.googleusercontent.com/a-/AOh14GjXI3etzUNsHKseHtKKPAfY_N2c7kAIWyXOMk2v=s64",
      "userId": "10125744057017928750"
     },
     "user_tz": -540
    },
    "id": "qG_ykYrhSRLR",
    "outputId": "130236ae-d0ef-4d47-f15b-2a25f8e5ed2f"
   },
   "outputs": [
    {
     "name": "stdout",
     "output_type": "stream",
     "text": [
      "Epoch    0/1000 Cost: 2.637636\n",
      "Epoch  100/1000 Cost: 0.647903\n",
      "Epoch  200/1000 Cost: 0.564643\n",
      "Epoch  300/1000 Cost: 0.511043\n",
      "Epoch  400/1000 Cost: 0.467249\n",
      "Epoch  500/1000 Cost: 0.428281\n",
      "Epoch  600/1000 Cost: 0.391924\n",
      "Epoch  700/1000 Cost: 0.356742\n",
      "Epoch  800/1000 Cost: 0.321577\n",
      "Epoch  900/1000 Cost: 0.285617\n",
      "Epoch 1000/1000 Cost: 0.250818\n"
     ]
    }
   ],
   "source": [
    "optimizer = optim.SGD(model.parameters(), lr=0.1)\n",
    "\n",
    "nb_epochs = 1000\n",
    "for epoch in range(nb_epochs + 1):\n",
    "\n",
    "    # H(x) 계산\n",
    "    prediction = model(x_train)\n",
    "\n",
    "    # cost 계산\n",
    "    cost = F.cross_entropy(prediction, y_train)\n",
    "\n",
    "    # cost로 H(x) 개선\n",
    "    optimizer.zero_grad()\n",
    "    cost.backward()\n",
    "    optimizer.step()\n",
    "\n",
    "    # 20번마다 로그 출력\n",
    "    if epoch % 100 == 0:\n",
    "        print('Epoch {:4d}/{} Cost: {:.6f}'.format(\n",
    "            epoch, nb_epochs, cost.item()\n",
    "        ))\n"
   ]
  },
  {
   "cell_type": "markdown",
   "metadata": {
    "id": "hetPLsbgSX56"
   },
   "source": [
    "### 5) 소프트맥스 회귀로 MNIST 데이터 분류하기"
   ]
  },
  {
   "cell_type": "code",
   "execution_count": 11,
   "metadata": {
    "executionInfo": {
     "elapsed": 920,
     "status": "ok",
     "timestamp": 1619778494611,
     "user": {
      "displayName": "박재우",
      "photoUrl": "https://lh3.googleusercontent.com/a-/AOh14GjXI3etzUNsHKseHtKKPAfY_N2c7kAIWyXOMk2v=s64",
      "userId": "10125744057017928750"
     },
     "user_tz": -540
    },
    "id": "bIlJKT0wSUM1"
   },
   "outputs": [],
   "source": [
    "import torch\n",
    "import torch.optim as optim\n",
    "import torchvision.datasets as dsets\n",
    "import torchvision.transforms as transforms\n",
    "from torch.utils.data import DataLoader\n",
    "import torch.nn as nn\n",
    "import matplotlib.pyplot as plt\n",
    "import random"
   ]
  },
  {
   "cell_type": "code",
   "execution_count": 2,
   "metadata": {
    "colab": {
     "base_uri": "https://localhost:8080/"
    },
    "executionInfo": {
     "elapsed": 1519,
     "status": "ok",
     "timestamp": 1619778150978,
     "user": {
      "displayName": "박재우",
      "photoUrl": "https://lh3.googleusercontent.com/a-/AOh14GjXI3etzUNsHKseHtKKPAfY_N2c7kAIWyXOMk2v=s64",
      "userId": "10125744057017928750"
     },
     "user_tz": -540
    },
    "id": "k1uoDztYS6hN",
    "outputId": "77eecf02-7de9-4059-84d4-e4610cb79fb8"
   },
   "outputs": [
    {
     "name": "stdout",
     "output_type": "stream",
     "text": [
      "True\n",
      "다음 기기로 학습합니다: cuda\n"
     ]
    }
   ],
   "source": [
    "USE_CUDA = torch.cuda.is_available()\n",
    "print(USE_CUDA)\n",
    "device = torch.device(\"cuda\" if USE_CUDA else \"cpu\")\n",
    "print(\"다음 기기로 학습합니다:\", device)"
   ]
  },
  {
   "cell_type": "code",
   "execution_count": 3,
   "metadata": {
    "executionInfo": {
     "elapsed": 1080,
     "status": "ok",
     "timestamp": 1619778162440,
     "user": {
      "displayName": "박재우",
      "photoUrl": "https://lh3.googleusercontent.com/a-/AOh14GjXI3etzUNsHKseHtKKPAfY_N2c7kAIWyXOMk2v=s64",
      "userId": "10125744057017928750"
     },
     "user_tz": -540
    },
    "id": "L3cHDVskTRnc"
   },
   "outputs": [],
   "source": [
    "random.seed(777)\n",
    "torch.manual_seed(777)\n",
    "if device == 'cuda':\n",
    "    torch.cuda.manual_seed_all(777)"
   ]
  },
  {
   "cell_type": "code",
   "execution_count": 4,
   "metadata": {
    "executionInfo": {
     "elapsed": 1118,
     "status": "ok",
     "timestamp": 1619778170314,
     "user": {
      "displayName": "박재우",
      "photoUrl": "https://lh3.googleusercontent.com/a-/AOh14GjXI3etzUNsHKseHtKKPAfY_N2c7kAIWyXOMk2v=s64",
      "userId": "10125744057017928750"
     },
     "user_tz": -540
    },
    "id": "MhXAWYDsTUqB"
   },
   "outputs": [],
   "source": [
    "training_epochs = 15\n",
    "batch_size = 100"
   ]
  },
  {
   "cell_type": "code",
   "execution_count": 7,
   "metadata": {
    "executionInfo": {
     "elapsed": 981,
     "status": "ok",
     "timestamp": 1619778333857,
     "user": {
      "displayName": "박재우",
      "photoUrl": "https://lh3.googleusercontent.com/a-/AOh14GjXI3etzUNsHKseHtKKPAfY_N2c7kAIWyXOMk2v=s64",
      "userId": "10125744057017928750"
     },
     "user_tz": -540
    },
    "id": "FKhfpQWXTWP7"
   },
   "outputs": [],
   "source": [
    "mnist_train = dsets.MNIST(\n",
    "    root='MNIST_data/', # 다운로드 받을 경로\n",
    "    train=True, # 학습 이미지를 다운\n",
    "    transform=transforms.ToTensor(), #transforms함수를 이용해 텐서화\n",
    "    download=True # 해당경로에 데이터 없으면 다운로드\n",
    ")\n",
    "mnist_test = dsets.MNIST(\n",
    "    root='MNIST_data/',\n",
    "    train=False,\n",
    "    transform=transforms.ToTensor(), #transforms함수를 이용해 텐서화\n",
    "    download=True # 해당경로에 데이터 없으면 다운로드\n",
    ")"
   ]
  },
  {
   "cell_type": "code",
   "execution_count": 8,
   "metadata": {
    "executionInfo": {
     "elapsed": 1082,
     "status": "ok",
     "timestamp": 1619778380402,
     "user": {
      "displayName": "박재우",
      "photoUrl": "https://lh3.googleusercontent.com/a-/AOh14GjXI3etzUNsHKseHtKKPAfY_N2c7kAIWyXOMk2v=s64",
      "userId": "10125744057017928750"
     },
     "user_tz": -540
    },
    "id": "2GmbgCqNT3bp"
   },
   "outputs": [],
   "source": [
    "data_loader = DataLoader(\n",
    "    dataset=mnist_train,\n",
    "    batch_size=batch_size,\n",
    "    shuffle=True,\n",
    "    drop_last=True\n",
    ")"
   ]
  },
  {
   "cell_type": "code",
   "execution_count": 9,
   "metadata": {
    "executionInfo": {
     "elapsed": 9664,
     "status": "ok",
     "timestamp": 1619778458528,
     "user": {
      "displayName": "박재우",
      "photoUrl": "https://lh3.googleusercontent.com/a-/AOh14GjXI3etzUNsHKseHtKKPAfY_N2c7kAIWyXOMk2v=s64",
      "userId": "10125744057017928750"
     },
     "user_tz": -540
    },
    "id": "o_wPO9C2UJrf"
   },
   "outputs": [],
   "source": [
    "linear = nn.Linear(28*28, 10, bias=True).to(device) #연산을 어디서 할지 정함"
   ]
  },
  {
   "cell_type": "code",
   "execution_count": 14,
   "metadata": {
    "executionInfo": {
     "elapsed": 683,
     "status": "ok",
     "timestamp": 1619778533538,
     "user": {
      "displayName": "박재우",
      "photoUrl": "https://lh3.googleusercontent.com/a-/AOh14GjXI3etzUNsHKseHtKKPAfY_N2c7kAIWyXOMk2v=s64",
      "userId": "10125744057017928750"
     },
     "user_tz": -540
    },
    "id": "jQz7VSyiUa19"
   },
   "outputs": [],
   "source": [
    "loss_func = nn.CrossEntropyLoss().to(device) #F.cross_entropy 도 상관없음\n",
    "optimizer = optim.SGD(linear.parameters(), lr=0.1)"
   ]
  },
  {
   "cell_type": "code",
   "execution_count": 17,
   "metadata": {
    "colab": {
     "base_uri": "https://localhost:8080/"
    },
    "executionInfo": {
     "elapsed": 100792,
     "status": "ok",
     "timestamp": 1619778987380,
     "user": {
      "displayName": "박재우",
      "photoUrl": "https://lh3.googleusercontent.com/a-/AOh14GjXI3etzUNsHKseHtKKPAfY_N2c7kAIWyXOMk2v=s64",
      "userId": "10125744057017928750"
     },
     "user_tz": -540
    },
    "id": "f16InRv2Uq4n",
    "outputId": "24ace818-ce42-45ff-bff4-7bc6e793042a"
   },
   "outputs": [
    {
     "name": "stdout",
     "output_type": "stream",
     "text": [
      "Epoch: 0001 cost = 0.377338260\n",
      "Epoch: 0002 cost = 0.338317811\n",
      "Epoch: 0003 cost = 0.320769936\n",
      "Epoch: 0004 cost = 0.309961677\n",
      "Epoch: 0005 cost = 0.302289933\n",
      "Epoch: 0006 cost = 0.296513408\n",
      "Epoch: 0007 cost = 0.292131275\n",
      "Epoch: 0008 cost = 0.288501859\n",
      "Epoch: 0009 cost = 0.285508275\n",
      "Epoch: 0010 cost = 0.282611251\n",
      "Epoch: 0011 cost = 0.280615926\n",
      "Epoch: 0012 cost = 0.278456122\n",
      "Epoch: 0013 cost = 0.276576072\n",
      "Epoch: 0014 cost = 0.274944305\n",
      "Epoch: 0015 cost = 0.273597777\n",
      "Learning finished\n"
     ]
    }
   ],
   "source": [
    "for epoch in range(training_epochs):\n",
    "  avg_loss = 0\n",
    "  total_batch = len(data_loader)\n",
    "\n",
    "  for x, y in data_loader:\n",
    "    X = x.view(-1, 28*28).to(device)\n",
    "    Y = y.to(device)\n",
    "\n",
    "    optimizer.zero_grad()\n",
    "    hypothesis = linear(X)\n",
    "    loss = loss_func(hypothesis, Y)\n",
    "\n",
    "    loss.backward()\n",
    "    optimizer.step()\n",
    "\n",
    "    avg_loss += loss / total_batch\n",
    "  print('Epoch:', '%04d' % (epoch + 1), 'cost =', '{:.9f}'.format(avg_loss))\n",
    "\n",
    "print('Learning finished')"
   ]
  },
  {
   "cell_type": "code",
   "execution_count": 24,
   "metadata": {
    "colab": {
     "base_uri": "https://localhost:8080/",
     "height": 404
    },
    "executionInfo": {
     "elapsed": 909,
     "status": "ok",
     "timestamp": 1619779199963,
     "user": {
      "displayName": "박재우",
      "photoUrl": "https://lh3.googleusercontent.com/a-/AOh14GjXI3etzUNsHKseHtKKPAfY_N2c7kAIWyXOMk2v=s64",
      "userId": "10125744057017928750"
     },
     "user_tz": -540
    },
    "id": "T0saVHBSWB-N",
    "outputId": "6330078c-6378-4e42-fa1c-7603d60ef591"
   },
   "outputs": [
    {
     "name": "stdout",
     "output_type": "stream",
     "text": [
      "Accuracy: 0.883899986743927\n",
      "Label:  3\n",
      "Prediction:  3\n"
     ]
    },
    {
     "name": "stderr",
     "output_type": "stream",
     "text": [
      "/usr/local/lib/python3.7/dist-packages/torchvision/datasets/mnist.py:69: UserWarning: test_data has been renamed data\n",
      "  warnings.warn(\"test_data has been renamed data\")\n",
      "/usr/local/lib/python3.7/dist-packages/torchvision/datasets/mnist.py:59: UserWarning: test_labels has been renamed targets\n",
      "  warnings.warn(\"test_labels has been renamed targets\")\n"
     ]
    },
    {
     "data": {
      "image/png": "[encoded data removed]",
      "text/plain": [
       "<Figure size 432x288 with 1 Axes>"
      ]
     },
     "metadata": {
      "needs_background": "light",
      "tags": []
     },
     "output_type": "display_data"
    }
   ],
   "source": [
    "with torch.no_grad():\n",
    "  x_test = mnist_test.test_data.view(-1, 28*28).float().to(device)\n",
    "  y_test = mnist_test.test_labels.to(device)\n",
    "\n",
    "  pred = linear(x_test)\n",
    "  correct_prediction = torch.argmax(pred, 1) == y_test\n",
    "  accuracy = correct_prediction.float().mean()\n",
    "  print('Accuracy:', accuracy.item())\n",
    "\n",
    "  r = random.randint(0, len(mnist_test) - 1)\n",
    "  X_single_data = mnist_test.test_data[r:r + 1].view(-1, 28 * 28).float().to(device)\n",
    "  Y_single_data = mnist_test.test_labels[r:r + 1].to(device)\n",
    "\n",
    "  print('Label: ', Y_single_data.item())\n",
    "  single_prediction = linear(X_single_data)\n",
    "  print('Prediction: ', torch.argmax(single_prediction, 1).item())\n",
    "\n",
    "  plt.imshow(mnist_test.test_data[r:r + 1].view(28, 28), cmap='Greys', interpolation='nearest')\n",
    "  plt.show()"
   ]
  },
  {
   "cell_type": "code",
   "execution_count": null,
   "metadata": {
    "id": "oqoErUBcXC1x"
   },
   "outputs": [],
   "source": []
  }
 ],
 "metadata": {
  "accelerator": "GPU",
  "colab": {
   "authorship_tag": "ABX9TyPM0YTdl8MRyEa9hhUAWQyg",
   "collapsed_sections": [],
   "name": "Ch05. 소프트맥스 회귀.ipynb",
   "provenance": []
  },
  "kernelspec": {
   "display_name": "Python 3 (ipykernel)",
   "language": "python",
   "name": "python3"
  },
  "language_info": {
   "codemirror_mode": {
    "name": "ipython",
    "version": 3
   },
   "file_extension": ".py",
   "mimetype": "text/x-python",
   "name": "python",
   "nbconvert_exporter": "python",
   "pygments_lexer": "ipython3",
   "version": "3.8.13"
  }
 },
 "nbformat": 4,
 "nbformat_minor": 4
}
