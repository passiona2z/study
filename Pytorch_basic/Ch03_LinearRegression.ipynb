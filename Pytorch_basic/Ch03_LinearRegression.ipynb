{
 "cells": [
  {
   "cell_type": "markdown",
   "metadata": {
    "id": "xLdOjSp4XrjN",
    "tags": []
   },
   "source": [
    "## 선형 회귀"
   ]
  },
  {
   "cell_type": "markdown",
   "metadata": {},
   "source": [
    "### 1. 데이터 이해"
   ]
  },
  {
   "cell_type": "markdown",
   "metadata": {},
   "source": [
    "- 훈련 데이터셋, 테스트 데이터셋\n",
    "    - 데이터 : 파이토치 텐서의 형태 필요(torch.tensor)"
   ]
  },
  {
   "cell_type": "markdown",
   "metadata": {},
   "source": [
    "![](https://wikidocs.net/images/page/53560/tensor1.PNG)"
   ]
  },
  {
   "cell_type": "code",
   "execution_count": 2,
   "metadata": {},
   "outputs": [],
   "source": [
    "import torch\n",
    "\n",
    "x_train = torch.FloatTensor([[1], [2], [3]])\n",
    "y_train = torch.FloatTensor([[2], [4], [6]])"
   ]
  },
  {
   "cell_type": "markdown",
   "metadata": {},
   "source": [
    "### 2. 가설수립\n",
    "- y = W * x + b\n",
    "    - W : 가중치 / b : 편향"
   ]
  },
  {
   "cell_type": "markdown",
   "metadata": {},
   "source": [
    "### 3. 비용함수\n",
    "- 비용 함수(cost function) = 손실 함수(loss function) = 오차 함수(error function) = 목적 함수(objective function)\n",
    "    - MSE : 평균 제곱 오차(Mean Squared Error)\n",
    "    - 비용함수를 최소가 되게 만드는 가중치와 편향을 구함"
   ]
  },
  {
   "cell_type": "markdown",
   "metadata": {},
   "source": [
    "### 4. 경사하강법(Gradient Descent)\n",
    "    - 옵티마이저(최적화) 알고리즘 \n",
    "    - W와 b를 찾아가는 과정 : 학습"
   ]
  },
  {
   "cell_type": "markdown",
   "metadata": {},
   "source": [
    "![](https://wikidocs.net/images/page/21670/%EA%B2%BD%EC%82%AC%ED%95%98%EA%B0%95%EB%B2%95.PNG)"
   ]
  },
  {
   "cell_type": "markdown",
   "metadata": {},
   "source": [
    "![](https://wikidocs.net/images/page/21670/%EC%A0%91%EC%84%A0%EC%9D%98%EA%B8%B0%EC%9A%B8%EA%B8%B01.PNG)"
   ]
  },
  {
   "cell_type": "markdown",
   "metadata": {},
   "source": [
    "## 파이토치로 선형회귀 구현"
   ]
  },
  {
   "cell_type": "code",
   "execution_count": 3,
   "metadata": {
    "executionInfo": {
     "elapsed": 1144,
     "status": "ok",
     "timestamp": 1619758434090,
     "user": {
      "displayName": "박재우",
      "photoUrl": "https://lh3.googleusercontent.com/a-/AOh14GjXI3etzUNsHKseHtKKPAfY_N2c7kAIWyXOMk2v=s64",
      "userId": "10125744057017928750"
     },
     "user_tz": -540
    },
    "id": "-wVnzlqAR53k"
   },
   "outputs": [],
   "source": [
    "import torch\n",
    "import torch.nn as nn            # 신경망\n",
    "import torch.nn.functional as F \n",
    "import torch.optim as optim      # 최적화"
   ]
  },
  {
   "cell_type": "code",
   "execution_count": 4,
   "metadata": {
    "colab": {
     "base_uri": "https://localhost:8080/"
    },
    "executionInfo": {
     "elapsed": 670,
     "status": "ok",
     "timestamp": 1619677397460,
     "user": {
      "displayName": "박재우",
      "photoUrl": "https://lh3.googleusercontent.com/a-/AOh14GjXI3etzUNsHKseHtKKPAfY_N2c7kAIWyXOMk2v=s64",
      "userId": "10125744057017928750"
     },
     "user_tz": -540
    },
    "id": "vzFAXJmjS5OC",
    "outputId": "97fd0fa7-e394-4365-e3c5-bce81ece59d4"
   },
   "outputs": [
    {
     "data": {
      "text/plain": [
       "<torch._C.Generator at 0x20337c7fbb0>"
      ]
     },
     "execution_count": 4,
     "metadata": {},
     "output_type": "execute_result"
    }
   ],
   "source": [
    "# 랜덤시드 \n",
    "torch.manual_seed(1)"
   ]
  },
  {
   "cell_type": "markdown",
   "metadata": {},
   "source": [
    "### 1. 데이터셋"
   ]
  },
  {
   "cell_type": "code",
   "execution_count": 5,
   "metadata": {
    "id": "NZ2ogggpS767"
   },
   "outputs": [],
   "source": [
    "# 데이터셋\n",
    "\n",
    "x_train = torch.FloatTensor([[1], [2], [3]])\n",
    "y_train = torch.FloatTensor([[2], [4], [6]])"
   ]
  },
  {
   "cell_type": "code",
   "execution_count": 6,
   "metadata": {
    "colab": {
     "base_uri": "https://localhost:8080/"
    },
    "executionInfo": {
     "elapsed": 638,
     "status": "ok",
     "timestamp": 1619677434680,
     "user": {
      "displayName": "박재우",
      "photoUrl": "https://lh3.googleusercontent.com/a-/AOh14GjXI3etzUNsHKseHtKKPAfY_N2c7kAIWyXOMk2v=s64",
      "userId": "10125744057017928750"
     },
     "user_tz": -540
    },
    "id": "734_w4f7TBuz",
    "outputId": "ed28381c-7359-47f9-84fd-ea38c7d02088"
   },
   "outputs": [
    {
     "name": "stdout",
     "output_type": "stream",
     "text": [
      "tensor([[1.],\n",
      "        [2.],\n",
      "        [3.]])\n",
      "torch.Size([3, 1])\n"
     ]
    }
   ],
   "source": [
    "print(x_train)\n",
    "print(x_train.shape)"
   ]
  },
  {
   "cell_type": "code",
   "execution_count": 7,
   "metadata": {
    "colab": {
     "base_uri": "https://localhost:8080/"
    },
    "executionInfo": {
     "elapsed": 586,
     "status": "ok",
     "timestamp": 1619677443438,
     "user": {
      "displayName": "박재우",
      "photoUrl": "https://lh3.googleusercontent.com/a-/AOh14GjXI3etzUNsHKseHtKKPAfY_N2c7kAIWyXOMk2v=s64",
      "userId": "10125744057017928750"
     },
     "user_tz": -540
    },
    "id": "HFGj3qpPTDq6",
    "outputId": "5162d5db-a04e-41fc-e541-d09e9b3d8f67"
   },
   "outputs": [
    {
     "name": "stdout",
     "output_type": "stream",
     "text": [
      "tensor([[2.],\n",
      "        [4.],\n",
      "        [6.]])\n",
      "torch.Size([3, 1])\n"
     ]
    }
   ],
   "source": [
    "print(y_train)\n",
    "print(y_train.shape)"
   ]
  },
  {
   "cell_type": "markdown",
   "metadata": {},
   "source": [
    "### 2. 가중치 및 편향 초기화\n",
    "- zeros > 0\n",
    "- requires_grad=True : 학습을 통해 값이 변경되는 변수 의미"
   ]
  },
  {
   "cell_type": "code",
   "execution_count": 8,
   "metadata": {
    "colab": {
     "base_uri": "https://localhost:8080/"
    },
    "executionInfo": {
     "elapsed": 857,
     "status": "ok",
     "timestamp": 1619677920143,
     "user": {
      "displayName": "박재우",
      "photoUrl": "https://lh3.googleusercontent.com/a-/AOh14GjXI3etzUNsHKseHtKKPAfY_N2c7kAIWyXOMk2v=s64",
      "userId": "10125744057017928750"
     },
     "user_tz": -540
    },
    "id": "FR1s0GeBTHLW",
    "outputId": "afa997e6-6ba6-46c2-bb23-70e8d1ab36c3"
   },
   "outputs": [
    {
     "name": "stdout",
     "output_type": "stream",
     "text": [
      "tensor([0.], requires_grad=True)\n"
     ]
    }
   ],
   "source": [
    "W = torch.zeros(1, requires_grad=True)  \n",
    "print(W)"
   ]
  },
  {
   "cell_type": "code",
   "execution_count": 9,
   "metadata": {
    "colab": {
     "base_uri": "https://localhost:8080/"
    },
    "executionInfo": {
     "elapsed": 645,
     "status": "ok",
     "timestamp": 1619677920144,
     "user": {
      "displayName": "박재우",
      "photoUrl": "https://lh3.googleusercontent.com/a-/AOh14GjXI3etzUNsHKseHtKKPAfY_N2c7kAIWyXOMk2v=s64",
      "userId": "10125744057017928750"
     },
     "user_tz": -540
    },
    "id": "CZKles9kTNj7",
    "outputId": "b8dc8536-e9d8-4073-d138-285eea59bf11"
   },
   "outputs": [
    {
     "name": "stdout",
     "output_type": "stream",
     "text": [
      "tensor([0.], requires_grad=True)\n"
     ]
    }
   ],
   "source": [
    "b = torch.zeros(1, requires_grad=True)\n",
    "print(b)"
   ]
  },
  {
   "cell_type": "markdown",
   "metadata": {},
   "source": [
    "### 3. 가설세우기"
   ]
  },
  {
   "cell_type": "code",
   "execution_count": 10,
   "metadata": {
    "colab": {
     "base_uri": "https://localhost:8080/"
    },
    "executionInfo": {
     "elapsed": 457,
     "status": "ok",
     "timestamp": 1619677920145,
     "user": {
      "displayName": "박재우",
      "photoUrl": "https://lh3.googleusercontent.com/a-/AOh14GjXI3etzUNsHKseHtKKPAfY_N2c7kAIWyXOMk2v=s64",
      "userId": "10125744057017928750"
     },
     "user_tz": -540
    },
    "id": "i6R_LtFiTSG1",
    "outputId": "1f7e9e6a-a802-470b-c997-061776191743"
   },
   "outputs": [
    {
     "name": "stdout",
     "output_type": "stream",
     "text": [
      "tensor([[0.],\n",
      "        [0.],\n",
      "        [0.]], grad_fn=<AddBackward0>)\n"
     ]
    }
   ],
   "source": [
    "hypothesis = x_train * W + b\n",
    "\n",
    "# test : 0 * x + 0\n",
    "print(hypothesis)"
   ]
  },
  {
   "cell_type": "markdown",
   "metadata": {},
   "source": [
    "### 4. 비용함수 선언"
   ]
  },
  {
   "cell_type": "code",
   "execution_count": 11,
   "metadata": {
    "colab": {
     "base_uri": "https://localhost:8080/"
    },
    "executionInfo": {
     "elapsed": 632,
     "status": "ok",
     "timestamp": 1619677920520,
     "user": {
      "displayName": "박재우",
      "photoUrl": "https://lh3.googleusercontent.com/a-/AOh14GjXI3etzUNsHKseHtKKPAfY_N2c7kAIWyXOMk2v=s64",
      "userId": "10125744057017928750"
     },
     "user_tz": -540
    },
    "id": "tF8Ht0hKTfti",
    "outputId": "d804cc30-c454-4686-884f-923e702b6513"
   },
   "outputs": [
    {
     "name": "stdout",
     "output_type": "stream",
     "text": [
      "tensor(18.6667, grad_fn=<MeanBackward0>)\n"
     ]
    }
   ],
   "source": [
    "cost = torch.mean((hypothesis - y_train)**2) # 오차 제곱의 평균\n",
    "\n",
    "print(cost)"
   ]
  },
  {
   "cell_type": "code",
   "execution_count": 12,
   "metadata": {
    "id": "VubKjn0YTrA_"
   },
   "outputs": [],
   "source": [
    "optimizer = optim.SGD([W, b], lr=0.01) # SGD\n",
    "# 학습 대상인 W와 b가 SGD의 입력이 됨."
   ]
  },
  {
   "cell_type": "code",
   "execution_count": 13,
   "metadata": {
    "id": "EGACrM9kUIwZ"
   },
   "outputs": [],
   "source": [
    "optimizer.zero_grad() # 기울기 초기화\n",
    "cost.backward()       # gradient 계산\n",
    "optimizer.step()      # 업데이트 (경사하강법 적용)"
   ]
  },
  {
   "cell_type": "code",
   "execution_count": 14,
   "metadata": {},
   "outputs": [
    {
     "data": {
      "text/plain": [
       "tensor([0.1867], requires_grad=True)"
      ]
     },
     "execution_count": 14,
     "metadata": {},
     "output_type": "execute_result"
    }
   ],
   "source": [
    "W"
   ]
  },
  {
   "cell_type": "markdown",
   "metadata": {},
   "source": [
    "### 전체코드"
   ]
  },
  {
   "cell_type": "markdown",
   "metadata": {},
   "source": [
    "- 에포크(Epoch) : 전체 훈련 데이터가 학습에 한 번 사용된 주기"
   ]
  },
  {
   "cell_type": "code",
   "execution_count": 15,
   "metadata": {
    "colab": {
     "base_uri": "https://localhost:8080/"
    },
    "executionInfo": {
     "elapsed": 1291,
     "status": "ok",
     "timestamp": 1619678471716,
     "user": {
      "displayName": "박재우",
      "photoUrl": "https://lh3.googleusercontent.com/a-/AOh14GjXI3etzUNsHKseHtKKPAfY_N2c7kAIWyXOMk2v=s64",
      "userId": "10125744057017928750"
     },
     "user_tz": -540
    },
    "id": "BRpm0sYqUR3b",
    "outputId": "8fcac510-332d-4855-8b90-f096ad2ced43"
   },
   "outputs": [
    {
     "name": "stdout",
     "output_type": "stream",
     "text": [
      "Epoch    0/2000 W: 0.187, b: 0.080 Cost: 18.666666\n",
      "Epoch  100/2000 W: 1.746, b: 0.578 Cost: 0.048171\n",
      "Epoch  200/2000 W: 1.800, b: 0.454 Cost: 0.029767\n",
      "Epoch  300/2000 W: 1.843, b: 0.357 Cost: 0.018394\n",
      "Epoch  400/2000 W: 1.876, b: 0.281 Cost: 0.011366\n",
      "Epoch  500/2000 W: 1.903, b: 0.221 Cost: 0.007024\n",
      "Epoch  600/2000 W: 1.924, b: 0.174 Cost: 0.004340\n",
      "Epoch  700/2000 W: 1.940, b: 0.136 Cost: 0.002682\n",
      "Epoch  800/2000 W: 1.953, b: 0.107 Cost: 0.001657\n",
      "Epoch  900/2000 W: 1.963, b: 0.084 Cost: 0.001024\n",
      "Epoch 1000/2000 W: 1.971, b: 0.066 Cost: 0.000633\n",
      "Epoch 1100/2000 W: 1.977, b: 0.052 Cost: 0.000391\n",
      "Epoch 1200/2000 W: 1.982, b: 0.041 Cost: 0.000242\n",
      "Epoch 1300/2000 W: 1.986, b: 0.032 Cost: 0.000149\n",
      "Epoch 1400/2000 W: 1.989, b: 0.025 Cost: 0.000092\n",
      "Epoch 1500/2000 W: 1.991, b: 0.020 Cost: 0.000057\n",
      "Epoch 1600/2000 W: 1.993, b: 0.016 Cost: 0.000035\n",
      "Epoch 1700/2000 W: 1.995, b: 0.012 Cost: 0.000022\n",
      "Epoch 1800/2000 W: 1.996, b: 0.010 Cost: 0.000013\n",
      "Epoch 1900/2000 W: 1.997, b: 0.008 Cost: 0.000008\n",
      "Epoch 2000/2000 W: 1.997, b: 0.006 Cost: 0.000005\n"
     ]
    }
   ],
   "source": [
    "# 데이터\n",
    "x_train = torch.FloatTensor([[1], [2], [3]])\n",
    "y_train = torch.FloatTensor([[2], [4], [6]])\n",
    "\n",
    "# W 및 b 초기화\n",
    "W = torch.zeros(1, requires_grad=True)\n",
    "b = torch.zeros(1, requires_grad=True)\n",
    "\n",
    "# optimizer 설정\n",
    "optimizer = optim.SGD([W, b], lr=0.01)  # SGD\n",
    "\n",
    "num_epochs = 2000  # 횟수\n",
    "for epoch in range(num_epochs+1):\n",
    "  # H(x) 계산\n",
    "  hypothesis = x_train * W + b\n",
    "\n",
    "  # cost 계산\n",
    "  cost = torch.mean((hypothesis - y_train) ** 2)\n",
    "\n",
    "  # cost로 H(x) 개선\n",
    "  optimizer.zero_grad() # 미분을 통해 얻은 기울기를 0으로 초기화합니다.\n",
    "  cost.backward()       # 비용 함수를 미분하여 gradient 계산\n",
    "  optimizer.step()      #위 backward를 통해 x - x*lr 로 경사하강법 실행\n",
    "    \n",
    "  # 100번마다 로그 출력\n",
    "  if epoch % 100 == 0:\n",
    "      print('Epoch {:4d}/{} W: {:.3f}, b: {:.3f} Cost: {:.6f}'.format(\n",
    "          epoch, num_epochs, W.item(), b.item(), cost.item()\n",
    "      ))\n",
    "      "
   ]
  },
  {
   "cell_type": "markdown",
   "metadata": {},
   "source": [
    "- 루프 - 프로세스를 생각해보자"
   ]
  },
  {
   "cell_type": "code",
   "execution_count": 25,
   "metadata": {},
   "outputs": [],
   "source": [
    "# 초기설정\n",
    "    # 데이터\n",
    "x_train = torch.FloatTensor([[1], [2], [3]])\n",
    "y_train = torch.FloatTensor([[2], [4], [6]])\n",
    "\n",
    "    # W 및 b 초기화\n",
    "W = torch.zeros(1, requires_grad=True)\n",
    "b = torch.zeros(1, requires_grad=True)\n",
    "\n",
    "    # optimizer 설정\n",
    "optimizer = optim.SGD([W, b], lr=0.01)  # SGD로 업데이트"
   ]
  },
  {
   "cell_type": "code",
   "execution_count": 26,
   "metadata": {},
   "outputs": [
    {
     "name": "stdout",
     "output_type": "stream",
     "text": [
      "tensor([0.], requires_grad=True) tensor([0.], requires_grad=True)\n"
     ]
    }
   ],
   "source": [
    "# 가중치 및 편향\n",
    "print(W, b)"
   ]
  },
  {
   "cell_type": "code",
   "execution_count": 27,
   "metadata": {},
   "outputs": [
    {
     "name": "stdout",
     "output_type": "stream",
     "text": [
      "tensor([[0.],\n",
      "        [0.],\n",
      "        [0.]], grad_fn=<AddBackward0>) tensor(18.6667, grad_fn=<MeanBackward0>)\n"
     ]
    }
   ],
   "source": [
    "# 순전파\n",
    "    # H(x) 계산\n",
    "hypothesis = x_train * W + b\n",
    "\n",
    "    # cost 계산\n",
    "cost = torch.mean((hypothesis - y_train) ** 2)\n",
    "\n",
    "print(hypothesis, cost)"
   ]
  },
  {
   "cell_type": "code",
   "execution_count": 28,
   "metadata": {},
   "outputs": [],
   "source": [
    "# 역전파\n",
    "optimizer.zero_grad() # 미분을 통해 얻은 기울기를 0으로 초기화합니다.\n",
    "cost.backward()       # 비용 함수를 미분하여 gradient 계산\n",
    "optimizer.step()      #위 backward를 통해 x - x*lr 로 경사하강법 실행"
   ]
  },
  {
   "cell_type": "code",
   "execution_count": 29,
   "metadata": {},
   "outputs": [
    {
     "name": "stdout",
     "output_type": "stream",
     "text": [
      "tensor([0.1867], requires_grad=True) tensor([0.0800], requires_grad=True)\n"
     ]
    }
   ],
   "source": [
    "# 가중치 및 편향\n",
    "print(W, b)"
   ]
  },
  {
   "cell_type": "code",
   "execution_count": 30,
   "metadata": {},
   "outputs": [
    {
     "name": "stdout",
     "output_type": "stream",
     "text": [
      "tensor([[0.2667],\n",
      "        [0.4533],\n",
      "        [0.6400]], grad_fn=<AddBackward0>) tensor(14.7710, grad_fn=<MeanBackward0>)\n"
     ]
    }
   ],
   "source": [
    "# 순전파\n",
    "    # H(x) 계산\n",
    "hypothesis = x_train * W + b\n",
    "\n",
    "    # cost 계산\n",
    "cost = torch.mean((hypothesis - y_train) ** 2)\n",
    "\n",
    "print(hypothesis, cost)"
   ]
  },
  {
   "cell_type": "code",
   "execution_count": 22,
   "metadata": {},
   "outputs": [],
   "source": [
    "# 역전파\n",
    "optimizer.zero_grad() # 미분을 통해 얻은 기울기를 0으로 초기화합니다.\n",
    "cost.backward()       # 비용 함수를 미분하여 gradient 계산\n",
    "optimizer.step()      #위 backward를 통해 x - x*lr 로 경사하강법 실행"
   ]
  },
  {
   "cell_type": "code",
   "execution_count": 23,
   "metadata": {},
   "outputs": [
    {
     "name": "stdout",
     "output_type": "stream",
     "text": [
      "tensor([0.3527], requires_grad=True) tensor([0.1509], requires_grad=True)\n"
     ]
    }
   ],
   "source": [
    "# 가중치 및 편향\n",
    "print(W, b)"
   ]
  },
  {
   "cell_type": "code",
   "execution_count": 31,
   "metadata": {},
   "outputs": [
    {
     "name": "stdout",
     "output_type": "stream",
     "text": [
      "tensor([0.5394], requires_grad=True) tensor([0.2309], requires_grad=True)\n"
     ]
    }
   ],
   "source": [
    "# 만약 : optimizer.zero_grad() 없다면 미분값이 누적됨\n",
    "\n",
    "# optimizer.zero_grad() # 미분을 통해 얻은 기울기를 0으로 초기화합니다.\n",
    "cost.backward()       # 비용 함수를 미분하여 gradient 계산\n",
    "optimizer.step()      #위 backward를 통해 x - x*lr 로 경사하강법 실행\n",
    "\n",
    "# 가중치 및 편향\n",
    "print(W, b)"
   ]
  },
  {
   "cell_type": "markdown",
   "metadata": {},
   "source": [
    "### optimizer.zero_grad() "
   ]
  },
  {
   "cell_type": "markdown",
   "metadata": {},
   "source": [
    "- 파이토치는 미분을 통해 얻은 기울기를 이전에 계산된 기울기 값에 누적"
   ]
  },
  {
   "cell_type": "code",
   "execution_count": 32,
   "metadata": {
    "colab": {
     "base_uri": "https://localhost:8080/"
    },
    "executionInfo": {
     "elapsed": 920,
     "status": "ok",
     "timestamp": 1619678594384,
     "user": {
      "displayName": "박재우",
      "photoUrl": "https://lh3.googleusercontent.com/a-/AOh14GjXI3etzUNsHKseHtKKPAfY_N2c7kAIWyXOMk2v=s64",
      "userId": "10125744057017928750"
     },
     "user_tz": -540
    },
    "id": "lQvqxS4FW-uI",
    "outputId": "59630a85-3906-47d6-bc9c-f5801b034a79"
   },
   "outputs": [
    {
     "name": "stdout",
     "output_type": "stream",
     "text": [
      "수식을 w로 미분한 값 : 2.0\n",
      "수식을 w로 미분한 값 : 4.0\n",
      "수식을 w로 미분한 값 : 6.0\n",
      "수식을 w로 미분한 값 : 8.0\n",
      "수식을 w로 미분한 값 : 10.0\n",
      "수식을 w로 미분한 값 : 12.0\n",
      "수식을 w로 미분한 값 : 14.0\n",
      "수식을 w로 미분한 값 : 16.0\n",
      "수식을 w로 미분한 값 : 18.0\n",
      "수식을 w로 미분한 값 : 20.0\n",
      "수식을 w로 미분한 값 : 22.0\n",
      "수식을 w로 미분한 값 : 24.0\n",
      "수식을 w로 미분한 값 : 26.0\n",
      "수식을 w로 미분한 값 : 28.0\n",
      "수식을 w로 미분한 값 : 30.0\n",
      "수식을 w로 미분한 값 : 32.0\n",
      "수식을 w로 미분한 값 : 34.0\n",
      "수식을 w로 미분한 값 : 36.0\n",
      "수식을 w로 미분한 값 : 38.0\n",
      "수식을 w로 미분한 값 : 40.0\n",
      "수식을 w로 미분한 값 : 42.0\n"
     ]
    }
   ],
   "source": [
    "import torch\n",
    "w = torch.tensor(2.0, requires_grad=True)\n",
    "\n",
    "nb_epochs = 20\n",
    "for epoch in range(nb_epochs + 1):\n",
    "\n",
    "  z = 2*w  \n",
    "\n",
    "  z.backward()  # z를 w에 대해 미분하여 gradient 계산 : 미분값 2\n",
    "  \n",
    "  print('수식을 w로 미분한 값 : {}'.format(w.grad))"
   ]
  },
  {
   "cell_type": "markdown",
   "metadata": {},
   "source": [
    "### torch.manual_seed()"
   ]
  },
  {
   "cell_type": "code",
   "execution_count": 33,
   "metadata": {},
   "outputs": [
    {
     "data": {
      "text/plain": [
       "tensor([0.8303])"
      ]
     },
     "execution_count": 33,
     "metadata": {},
     "output_type": "execute_result"
    }
   ],
   "source": [
    "torch.manual_seed(5)\n",
    "torch.rand(1)"
   ]
  },
  {
   "cell_type": "markdown",
   "metadata": {
    "id": "twMh4scwXp1m"
   },
   "source": [
    "## 자동 미분(Autograd)\n",
    "- requires_grad=True, backward()\n",
    "- 자동 미분 > 미분 계산을 자동화하여 경사 하강법을 손쉽게 사용"
   ]
  },
  {
   "cell_type": "code",
   "execution_count": 34,
   "metadata": {
    "id": "sZb09PMfXgF5"
   },
   "outputs": [],
   "source": [
    "import torch"
   ]
  },
  {
   "cell_type": "markdown",
   "metadata": {},
   "source": [
    "- required_grad를 True로 설정\n",
    "    - 텐서에 대한 기울기를 저장하겠다는 의미\n",
    "    - w.grad에 w에 대한 미분값이 저장"
   ]
  },
  {
   "cell_type": "code",
   "execution_count": 35,
   "metadata": {
    "id": "BXTRo7dWYCia"
   },
   "outputs": [],
   "source": [
    "w = torch.tensor(2.0, requires_grad=True)"
   ]
  },
  {
   "cell_type": "code",
   "execution_count": 36,
   "metadata": {
    "id": "ERrN9RqgYI-Y"
   },
   "outputs": [],
   "source": [
    "# 수식\n",
    "y = w**2\n",
    "z = 2*y + 5  # > w에 대해 미분"
   ]
  },
  {
   "cell_type": "code",
   "execution_count": 37,
   "metadata": {
    "id": "wsNUqMavYNyW"
   },
   "outputs": [],
   "source": [
    "z.backward()  # z의 w에 대한 미분(기울기) 계산"
   ]
  },
  {
   "cell_type": "code",
   "execution_count": 38,
   "metadata": {
    "colab": {
     "base_uri": "https://localhost:8080/"
    },
    "executionInfo": {
     "elapsed": 965,
     "status": "ok",
     "timestamp": 1619678815208,
     "user": {
      "displayName": "박재우",
      "photoUrl": "https://lh3.googleusercontent.com/a-/AOh14GjXI3etzUNsHKseHtKKPAfY_N2c7kAIWyXOMk2v=s64",
      "userId": "10125744057017928750"
     },
     "user_tz": -540
    },
    "id": "tNniI2ZmYUfO",
    "outputId": "64cc8dd8-4aaf-4ff9-b914-515876f576be"
   },
   "outputs": [
    {
     "name": "stdout",
     "output_type": "stream",
     "text": [
      "수식을 w로 미분한 값 : 8.0\n"
     ]
    }
   ],
   "source": [
    "print('수식을 w로 미분한 값 : {}'.format(w.grad))  \n",
    "# 4 * 2.0"
   ]
  },
  {
   "cell_type": "markdown",
   "metadata": {
    "id": "cI5vrB6oYgre"
   },
   "source": [
    "## 다중 선형 회귀\n",
    "\n",
    "- H(x) = w1x1 + w2x2 + w3x3 + b"
   ]
  },
  {
   "cell_type": "code",
   "execution_count": 39,
   "metadata": {
    "id": "1UuapjWSYV_p"
   },
   "outputs": [],
   "source": [
    "import torch\n",
    "import torch.nn as nn\n",
    "import torch.nn.functional as F\n",
    "import torch.optim as optim"
   ]
  },
  {
   "cell_type": "code",
   "execution_count": 40,
   "metadata": {
    "colab": {
     "base_uri": "https://localhost:8080/"
    },
    "executionInfo": {
     "elapsed": 570,
     "status": "ok",
     "timestamp": 1619683004874,
     "user": {
      "displayName": "박재우",
      "photoUrl": "https://lh3.googleusercontent.com/a-/AOh14GjXI3etzUNsHKseHtKKPAfY_N2c7kAIWyXOMk2v=s64",
      "userId": "10125744057017928750"
     },
     "user_tz": -540
    },
    "id": "QWn04iIPoSIC",
    "outputId": "b36f5383-2b69-4b9e-9ea8-1879c7666547"
   },
   "outputs": [
    {
     "data": {
      "text/plain": [
       "<torch._C.Generator at 0x20337c7fbb0>"
      ]
     },
     "execution_count": 40,
     "metadata": {},
     "output_type": "execute_result"
    }
   ],
   "source": [
    "torch.manual_seed(1)"
   ]
  },
  {
   "cell_type": "markdown",
   "metadata": {},
   "source": [
    "### 데이터"
   ]
  },
  {
   "cell_type": "code",
   "execution_count": 41,
   "metadata": {
    "id": "gxt161AeoU9H"
   },
   "outputs": [],
   "source": [
    "x1_train = torch.FloatTensor([[73], [93], [89], [96], [73]])\n",
    "x2_train = torch.FloatTensor([[80], [88], [91], [98], [66]])\n",
    "x3_train = torch.FloatTensor([[75], [93], [90], [100], [70]])\n",
    "y_train = torch.FloatTensor([[152], [185], [180], [196], [142]])"
   ]
  },
  {
   "cell_type": "code",
   "execution_count": 42,
   "metadata": {
    "id": "grdK_tkpoWxH"
   },
   "outputs": [],
   "source": [
    "# 가중치도 3개, 편항 1개\n",
    "w1 = torch.zeros(1, requires_grad=True)\n",
    "w2 = torch.zeros(1, requires_grad=True)\n",
    "w3 = torch.zeros(1, requires_grad=True)\n",
    "b = torch.zeros(1, requires_grad=True)"
   ]
  },
  {
   "cell_type": "code",
   "execution_count": 45,
   "metadata": {},
   "outputs": [
    {
     "data": {
      "text/plain": [
       "0.0"
      ]
     },
     "execution_count": 45,
     "metadata": {},
     "output_type": "execute_result"
    }
   ],
   "source": [
    "w1.item()"
   ]
  },
  {
   "cell_type": "markdown",
   "metadata": {},
   "source": [
    "### 코드"
   ]
  },
  {
   "cell_type": "code",
   "execution_count": 46,
   "metadata": {
    "colab": {
     "base_uri": "https://localhost:8080/"
    },
    "executionInfo": {
     "elapsed": 954,
     "status": "ok",
     "timestamp": 1619683269488,
     "user": {
      "displayName": "박재우",
      "photoUrl": "https://lh3.googleusercontent.com/a-/AOh14GjXI3etzUNsHKseHtKKPAfY_N2c7kAIWyXOMk2v=s64",
      "userId": "10125744057017928750"
     },
     "user_tz": -540
    },
    "id": "RRPN0LvgoeJ_",
    "outputId": "6299b361-1698-4efe-8454-bce456ee0738"
   },
   "outputs": [
    {
     "name": "stdout",
     "output_type": "stream",
     "text": [
      "Epoch    0/1000 w1: 0.294 w2: 0.294 w3: 0.297 b: 0.003 Cost: 29661.800781\n",
      "Epoch  100/1000 w1: 0.674 w2: 0.661 w3: 0.676 b: 0.008 Cost: 1.563634\n",
      "Epoch  200/1000 w1: 0.679 w2: 0.655 w3: 0.677 b: 0.008 Cost: 1.497607\n",
      "Epoch  300/1000 w1: 0.684 w2: 0.649 w3: 0.677 b: 0.008 Cost: 1.435026\n",
      "Epoch  400/1000 w1: 0.689 w2: 0.643 w3: 0.678 b: 0.008 Cost: 1.375730\n",
      "Epoch  500/1000 w1: 0.694 w2: 0.638 w3: 0.678 b: 0.009 Cost: 1.319511\n",
      "Epoch  600/1000 w1: 0.699 w2: 0.633 w3: 0.679 b: 0.009 Cost: 1.266222\n",
      "Epoch  700/1000 w1: 0.704 w2: 0.627 w3: 0.679 b: 0.009 Cost: 1.215696\n",
      "Epoch  800/1000 w1: 0.709 w2: 0.622 w3: 0.679 b: 0.009 Cost: 1.167818\n",
      "Epoch  900/1000 w1: 0.713 w2: 0.617 w3: 0.680 b: 0.009 Cost: 1.122429\n",
      "Epoch 1000/1000 w1: 0.718 w2: 0.613 w3: 0.680 b: 0.009 Cost: 1.079378\n"
     ]
    }
   ],
   "source": [
    "# 경사하강법 적용\n",
    "\n",
    "optimizer = optim.SGD([w1, w2, w3, b], lr=1e-5) # 0.00001 # 옵티마이저\n",
    "num_epochs = 1000 # 반복 횟수\n",
    "\n",
    "for epoch in range(num_epochs + 1):\n",
    "    \n",
    "    # 가설\n",
    "    hypothesis = x1_train * w1 + x2_train * w2 + x3_train * w3 + b \n",
    "    # 비용함수(MES)\n",
    "    cost = torch.mean((hypothesis - y_train)**2)\n",
    "\n",
    "    # 역전파\n",
    "    optimizer.zero_grad()  # 초기화\n",
    "    cost.backward()  # 미분계산 [w1, w2, w3, b]\n",
    "    optimizer.step()  # 업데이트\n",
    "\n",
    "    if epoch % 100 == 0:\n",
    "        print('Epoch {:4d}/{} w1: {:.3f} w2: {:.3f} w3: {:.3f} b: {:.3f} Cost: {:.6f}'.format(\n",
    "          epoch, num_epochs, w1.item(), w2.item(), w3.item(), b.item(), cost.item()\n",
    "      ))"
   ]
  },
  {
   "cell_type": "markdown",
   "metadata": {},
   "source": [
    "- 참고\n",
    "![](image/matmul.png)"
   ]
  },
  {
   "cell_type": "markdown",
   "metadata": {},
   "source": [
    "### 코드개선"
   ]
  },
  {
   "cell_type": "code",
   "execution_count": null,
   "metadata": {
    "id": "MLPH4YKCpPuM"
   },
   "outputs": [],
   "source": [
    "x_train  =  torch.FloatTensor([[73,  80,  75], \n",
    "                               [93,  88,  93], \n",
    "                               [89,  91,  80], \n",
    "                               [96,  98,  100],   \n",
    "                               [73,  66,  70]])  \n",
    "y_train  =  torch.FloatTensor([[152],  [185],  [180],  [196],  [142]])"
   ]
  },
  {
   "cell_type": "code",
   "execution_count": null,
   "metadata": {
    "colab": {
     "base_uri": "https://localhost:8080/"
    },
    "executionInfo": {
     "elapsed": 815,
     "status": "ok",
     "timestamp": 1619683640746,
     "user": {
      "displayName": "박재우",
      "photoUrl": "https://lh3.googleusercontent.com/a-/AOh14GjXI3etzUNsHKseHtKKPAfY_N2c7kAIWyXOMk2v=s64",
      "userId": "10125744057017928750"
     },
     "user_tz": -540
    },
    "id": "j7ZL8uZOqqva",
    "outputId": "71a84c38-808a-4c41-c1df-7a0f61926cd9"
   },
   "outputs": [
    {
     "name": "stdout",
     "output_type": "stream",
     "text": [
      "torch.Size([5, 3])\n",
      "torch.Size([5, 1])\n",
      "tensor([[ 73.,  80.,  75.],\n",
      "        [ 93.,  88.,  93.],\n",
      "        [ 89.,  91.,  80.],\n",
      "        [ 96.,  98., 100.],\n",
      "        [ 73.,  66.,  70.]])\n",
      "tensor([[152.],\n",
      "        [185.],\n",
      "        [180.],\n",
      "        [196.],\n",
      "        [142.]])\n"
     ]
    }
   ],
   "source": [
    "print(x_train.shape)\n",
    "print(y_train.shape)\n",
    "print(x_train)\n",
    "print(y_train)"
   ]
  },
  {
   "cell_type": "code",
   "execution_count": null,
   "metadata": {
    "id": "gtzvuPBPqwIr"
   },
   "outputs": [],
   "source": [
    "w = torch.zeros((3,1), requires_grad=True)\n",
    "b = torch.zeros(1, requires_grad=True)"
   ]
  },
  {
   "cell_type": "code",
   "execution_count": null,
   "metadata": {
    "id": "LGIDU6i-q715"
   },
   "outputs": [],
   "source": [
    "hypothesis = x_train.matmul(w) + b"
   ]
  },
  {
   "cell_type": "code",
   "execution_count": null,
   "metadata": {
    "id": "6Rr4ZJQzrvWn"
   },
   "outputs": [],
   "source": [
    "optimizer = optim.SGD([w, b], lr=1e-5)"
   ]
  },
  {
   "cell_type": "code",
   "execution_count": null,
   "metadata": {
    "colab": {
     "base_uri": "https://localhost:8080/"
    },
    "executionInfo": {
     "elapsed": 837,
     "status": "ok",
     "timestamp": 1619683903964,
     "user": {
      "displayName": "박재우",
      "photoUrl": "https://lh3.googleusercontent.com/a-/AOh14GjXI3etzUNsHKseHtKKPAfY_N2c7kAIWyXOMk2v=s64",
      "userId": "10125744057017928750"
     },
     "user_tz": -540
    },
    "id": "Ag0L3ZnjrieI",
    "outputId": "1d77d052-085c-4880-f720-8890167a3191"
   },
   "outputs": [
    {
     "name": "stdout",
     "output_type": "stream",
     "text": [
      "Epoch    0/20 hypothesis: tensor([0., 0., 0., 0., 0.]) Cost: 29661.800781\n",
      "Epoch    1/20 hypothesis: tensor([66.7178, 80.1701, 76.1025, 86.0194, 61.1565]) Cost: 9537.694336\n",
      "Epoch    2/20 hypothesis: tensor([104.5421, 125.6208, 119.2478, 134.7862,  95.8280]) Cost: 3069.590088\n",
      "Epoch    3/20 hypothesis: tensor([125.9858, 151.3882, 143.7087, 162.4333, 115.4844]) Cost: 990.670288\n",
      "Epoch    4/20 hypothesis: tensor([138.1429, 165.9963, 157.5768, 178.1071, 126.6283]) Cost: 322.481873\n",
      "Epoch    5/20 hypothesis: tensor([145.0350, 174.2780, 165.4395, 186.9928, 132.9461]) Cost: 107.717064\n",
      "Epoch    6/20 hypothesis: tensor([148.9423, 178.9730, 169.8976, 192.0301, 136.5279]) Cost: 38.687496\n",
      "Epoch    7/20 hypothesis: tensor([151.1574, 181.6346, 172.4254, 194.8856, 138.5585]) Cost: 16.499043\n",
      "Epoch    8/20 hypothesis: tensor([152.4131, 183.1435, 173.8590, 196.5043, 139.7097]) Cost: 9.365656\n",
      "Epoch    9/20 hypothesis: tensor([153.1250, 183.9988, 174.6723, 197.4217, 140.3625]) Cost: 7.071114\n",
      "Epoch   10/20 hypothesis: tensor([153.5285, 184.4835, 175.1338, 197.9415, 140.7325]) Cost: 6.331847\n",
      "Epoch   11/20 hypothesis: tensor([153.7572, 184.7582, 175.3958, 198.2360, 140.9424]) Cost: 6.092532\n",
      "Epoch   12/20 hypothesis: tensor([153.8868, 184.9138, 175.5449, 198.4026, 141.0613]) Cost: 6.013817\n",
      "Epoch   13/20 hypothesis: tensor([153.9602, 185.0019, 175.6299, 198.4969, 141.1288]) Cost: 5.986785\n",
      "Epoch   14/20 hypothesis: tensor([154.0017, 185.0517, 175.6785, 198.5500, 141.1671]) Cost: 5.976325\n",
      "Epoch   15/20 hypothesis: tensor([154.0252, 185.0798, 175.7065, 198.5800, 141.1888]) Cost: 5.971208\n",
      "Epoch   16/20 hypothesis: tensor([154.0385, 185.0956, 175.7229, 198.5966, 141.2012]) Cost: 5.967835\n",
      "Epoch   17/20 hypothesis: tensor([154.0459, 185.1045, 175.7326, 198.6059, 141.2082]) Cost: 5.964969\n",
      "Epoch   18/20 hypothesis: tensor([154.0501, 185.1094, 175.7386, 198.6108, 141.2122]) Cost: 5.962291\n",
      "Epoch   19/20 hypothesis: tensor([154.0524, 185.1120, 175.7424, 198.6134, 141.2145]) Cost: 5.959664\n",
      "Epoch   20/20 hypothesis: tensor([154.0536, 185.1134, 175.7451, 198.6145, 141.2158]) Cost: 5.957089\n"
     ]
    }
   ],
   "source": [
    "nb_epochs = 20\n",
    "for epoch in range(nb_epochs + 1):\n",
    "\n",
    "    # H(x) 계산\n",
    "    # 편향 b는 브로드 캐스팅되어 각 샘플에 더해집니다.\n",
    "    hypothesis = x_train.matmul(w) + b\n",
    "\n",
    "    # cost 계산\n",
    "    cost = torch.mean((hypothesis - y_train) ** 2)\n",
    "\n",
    "    # cost로 H(x) 개선\n",
    "    optimizer.zero_grad()\n",
    "    cost.backward()\n",
    "    optimizer.step()\n",
    "\n",
    "    print('Epoch {:4d}/{} hypothesis: {} Cost: {:.6f}'.format(\n",
    "        epoch, nb_epochs, hypothesis.squeeze().detach(), cost.item()\n",
    "    ))\n"
   ]
  },
  {
   "cell_type": "markdown",
   "metadata": {
    "id": "NQMUaNyar_z4"
   },
   "source": [
    "## nn.Module로 구현하는 선형 회귀\n",
    "* 이전 까진 가설함수 / 비용함수를 직접 정의해서 구현했찌만, 파이토치 모델을 이용해서 쉽게 구현이 가능함"
   ]
  },
  {
   "cell_type": "code",
   "execution_count": null,
   "metadata": {
    "id": "-WJaBzmVrngd"
   },
   "outputs": [],
   "source": [
    "import torch\n",
    "import torch.nn as nn\n",
    "import torch.nn.functional as F"
   ]
  },
  {
   "cell_type": "code",
   "execution_count": null,
   "metadata": {
    "colab": {
     "base_uri": "https://localhost:8080/"
    },
    "executionInfo": {
     "elapsed": 617,
     "status": "ok",
     "timestamp": 1619684106090,
     "user": {
      "displayName": "박재우",
      "photoUrl": "https://lh3.googleusercontent.com/a-/AOh14GjXI3etzUNsHKseHtKKPAfY_N2c7kAIWyXOMk2v=s64",
      "userId": "10125744057017928750"
     },
     "user_tz": -540
    },
    "id": "JXxgqDs3sRFb",
    "outputId": "5b58faaa-7ecd-4c18-bc62-bf1600a5e1b6"
   },
   "outputs": [
    {
     "data": {
      "text/plain": [
       "<torch._C.Generator at 0x7f712870c950>"
      ]
     },
     "execution_count": 61,
     "metadata": {
      "tags": []
     },
     "output_type": "execute_result"
    }
   ],
   "source": [
    "torch.manual_seed(1)"
   ]
  },
  {
   "cell_type": "code",
   "execution_count": null,
   "metadata": {
    "id": "tx9erkWEsWHv"
   },
   "outputs": [],
   "source": [
    "x_train = torch.FloatTensor([[1],[2],[3]])\n",
    "y_train = torch.FloatTensor([[2],[4],[6]])"
   ]
  },
  {
   "cell_type": "code",
   "execution_count": null,
   "metadata": {
    "id": "Wn6r4u-ysvbN"
   },
   "outputs": [],
   "source": [
    "model = nn.Linear(1,1)"
   ]
  },
  {
   "cell_type": "code",
   "execution_count": null,
   "metadata": {
    "colab": {
     "base_uri": "https://localhost:8080/"
    },
    "executionInfo": {
     "elapsed": 576,
     "status": "ok",
     "timestamp": 1619684211219,
     "user": {
      "displayName": "박재우",
      "photoUrl": "https://lh3.googleusercontent.com/a-/AOh14GjXI3etzUNsHKseHtKKPAfY_N2c7kAIWyXOMk2v=s64",
      "userId": "10125744057017928750"
     },
     "user_tz": -540
    },
    "id": "0WbmVgXms1CY",
    "outputId": "c8cb5bca-685d-443c-ddde-e20b070a965d"
   },
   "outputs": [
    {
     "name": "stdout",
     "output_type": "stream",
     "text": [
      "[Parameter containing:\n",
      "tensor([[0.5153]], requires_grad=True), Parameter containing:\n",
      "tensor([-0.4414], requires_grad=True)]\n"
     ]
    }
   ],
   "source": [
    "print(list(model.parameters()))\n",
    "# 첫번째 값이 W / 두번째 값이 b => 두 값모두 랜덤으로 초기화 되어있음."
   ]
  },
  {
   "cell_type": "code",
   "execution_count": null,
   "metadata": {
    "id": "yBqrRWMys5_9"
   },
   "outputs": [],
   "source": [
    "optimizer = torch.optim.SGD(model.parameters(), lr=0.01)"
   ]
  },
  {
   "cell_type": "code",
   "execution_count": null,
   "metadata": {
    "colab": {
     "base_uri": "https://localhost:8080/"
    },
    "executionInfo": {
     "elapsed": 1276,
     "status": "ok",
     "timestamp": 1619684449803,
     "user": {
      "displayName": "박재우",
      "photoUrl": "https://lh3.googleusercontent.com/a-/AOh14GjXI3etzUNsHKseHtKKPAfY_N2c7kAIWyXOMk2v=s64",
      "userId": "10125744057017928750"
     },
     "user_tz": -540
    },
    "id": "09xZyslBtZ9M",
    "outputId": "2093240b-ac49-485c-a5c8-89b3ac32e3eb"
   },
   "outputs": [
    {
     "name": "stdout",
     "output_type": "stream",
     "text": [
      "Epoch    0/2000 Cost: 13.103541\n",
      "Epoch  100/2000 Cost: 0.002791\n",
      "Epoch  200/2000 Cost: 0.001724\n",
      "Epoch  300/2000 Cost: 0.001066\n",
      "Epoch  400/2000 Cost: 0.000658\n",
      "Epoch  500/2000 Cost: 0.000407\n",
      "Epoch  600/2000 Cost: 0.000251\n",
      "Epoch  700/2000 Cost: 0.000155\n",
      "Epoch  800/2000 Cost: 0.000096\n",
      "Epoch  900/2000 Cost: 0.000059\n",
      "Epoch 1000/2000 Cost: 0.000037\n",
      "Epoch 1100/2000 Cost: 0.000023\n",
      "Epoch 1200/2000 Cost: 0.000014\n",
      "Epoch 1300/2000 Cost: 0.000009\n",
      "Epoch 1400/2000 Cost: 0.000005\n",
      "Epoch 1500/2000 Cost: 0.000003\n",
      "Epoch 1600/2000 Cost: 0.000002\n",
      "Epoch 1700/2000 Cost: 0.000001\n",
      "Epoch 1800/2000 Cost: 0.000001\n",
      "Epoch 1900/2000 Cost: 0.000000\n",
      "Epoch 2000/2000 Cost: 0.000000\n"
     ]
    }
   ],
   "source": [
    "num_epochs = 2000\n",
    "for epoch in range(num_epochs+1):\n",
    "  pred = model(x_train)\n",
    "  cost =F.mse_loss(pred, y_train)\n",
    "\n",
    "  optimizer.zero_grad()\n",
    "  cost.backward()\n",
    "  optimizer.step()\n",
    "\n",
    "  if epoch % 100 == 0:\n",
    "    print('Epoch {:4d}/{} Cost: {:.6f}'.format(\n",
    "        epoch, num_epochs, cost.item()\n",
    "      ))"
   ]
  },
  {
   "cell_type": "code",
   "execution_count": null,
   "metadata": {
    "colab": {
     "base_uri": "https://localhost:8080/"
    },
    "executionInfo": {
     "elapsed": 1197,
     "status": "ok",
     "timestamp": 1619684529460,
     "user": {
      "displayName": "박재우",
      "photoUrl": "https://lh3.googleusercontent.com/a-/AOh14GjXI3etzUNsHKseHtKKPAfY_N2c7kAIWyXOMk2v=s64",
      "userId": "10125744057017928750"
     },
     "user_tz": -540
    },
    "id": "FFx4LhAAt1iw",
    "outputId": "15d0ca60-6f9f-44eb-da5b-2a9c40ceae76"
   },
   "outputs": [
    {
     "name": "stdout",
     "output_type": "stream",
     "text": [
      "훈련 후 입력이 4일 때의 예측값 :  tensor([7.9989], grad_fn=<AddBackward0>)\n"
     ]
    }
   ],
   "source": [
    "new_var = torch.FloatTensor([4])\n",
    "pred_y = model(new_var)\n",
    "print(\"훈련 후 입력이 4일 때의 예측값 : \", pred_y)"
   ]
  },
  {
   "cell_type": "code",
   "execution_count": null,
   "metadata": {
    "colab": {
     "base_uri": "https://localhost:8080/"
    },
    "executionInfo": {
     "elapsed": 546,
     "status": "ok",
     "timestamp": 1619684540430,
     "user": {
      "displayName": "박재우",
      "photoUrl": "https://lh3.googleusercontent.com/a-/AOh14GjXI3etzUNsHKseHtKKPAfY_N2c7kAIWyXOMk2v=s64",
      "userId": "10125744057017928750"
     },
     "user_tz": -540
    },
    "id": "h6FJrlpet99A",
    "outputId": "7ac48295-9d83-4532-9c99-39bf27034889"
   },
   "outputs": [
    {
     "name": "stdout",
     "output_type": "stream",
     "text": [
      "[Parameter containing:\n",
      "tensor([[1.9994]], requires_grad=True), Parameter containing:\n",
      "tensor([0.0014], requires_grad=True)]\n"
     ]
    }
   ],
   "source": [
    "print(list(model.parameters()))"
   ]
  },
  {
   "cell_type": "code",
   "execution_count": null,
   "metadata": {
    "id": "SNVHEvD7uL2S"
   },
   "outputs": [],
   "source": [
    "x_train = torch.FloatTensor([[73, 80, 75],\n",
    "                             [93, 88, 93],\n",
    "                             [89, 91, 90],\n",
    "                             [96, 98, 100],\n",
    "                             [73, 66, 70]])\n",
    "y_train = torch.FloatTensor([[152], [185], [180], [196], [142]])"
   ]
  },
  {
   "cell_type": "code",
   "execution_count": null,
   "metadata": {
    "id": "A33mDTzpuYHJ"
   },
   "outputs": [],
   "source": [
    "model = nn.Linear(3,1)"
   ]
  },
  {
   "cell_type": "code",
   "execution_count": null,
   "metadata": {
    "colab": {
     "base_uri": "https://localhost:8080/"
    },
    "executionInfo": {
     "elapsed": 598,
     "status": "ok",
     "timestamp": 1619684621464,
     "user": {
      "displayName": "박재우",
      "photoUrl": "https://lh3.googleusercontent.com/a-/AOh14GjXI3etzUNsHKseHtKKPAfY_N2c7kAIWyXOMk2v=s64",
      "userId": "10125744057017928750"
     },
     "user_tz": -540
    },
    "id": "pu2wD7reucDP",
    "outputId": "dfc4b2f1-68c9-44f5-9050-e0e48b395911"
   },
   "outputs": [
    {
     "name": "stdout",
     "output_type": "stream",
     "text": [
      "[Parameter containing:\n",
      "tensor([[-0.1119,  0.2710, -0.5435]], requires_grad=True), Parameter containing:\n",
      "tensor([0.3462], requires_grad=True)]\n"
     ]
    }
   ],
   "source": [
    "print(list(model.parameters()))"
   ]
  },
  {
   "cell_type": "code",
   "execution_count": null,
   "metadata": {
    "id": "8a5qoYedufnr"
   },
   "outputs": [],
   "source": [
    "optimizer = torch.optim.SGD(model.parameters(), lr=1e-5)"
   ]
  },
  {
   "cell_type": "code",
   "execution_count": null,
   "metadata": {
    "colab": {
     "base_uri": "https://localhost:8080/"
    },
    "executionInfo": {
     "elapsed": 1005,
     "status": "ok",
     "timestamp": 1619684695021,
     "user": {
      "displayName": "박재우",
      "photoUrl": "https://lh3.googleusercontent.com/a-/AOh14GjXI3etzUNsHKseHtKKPAfY_N2c7kAIWyXOMk2v=s64",
      "userId": "10125744057017928750"
     },
     "user_tz": -540
    },
    "id": "Xcs-dnQRuw9p",
    "outputId": "b73e4bbf-a648-4545-ff12-81906f4e90fc"
   },
   "outputs": [
    {
     "name": "stdout",
     "output_type": "stream",
     "text": [
      "Epoch    0/2000 Cost: 42134.707031\n",
      "Epoch  100/2000 Cost: 5.960053\n",
      "Epoch  200/2000 Cost: 5.654707\n",
      "Epoch  300/2000 Cost: 5.365413\n",
      "Epoch  400/2000 Cost: 5.091429\n",
      "Epoch  500/2000 Cost: 4.831834\n",
      "Epoch  600/2000 Cost: 4.585997\n",
      "Epoch  700/2000 Cost: 4.353045\n",
      "Epoch  800/2000 Cost: 4.132426\n",
      "Epoch  900/2000 Cost: 3.923438\n",
      "Epoch 1000/2000 Cost: 3.725488\n",
      "Epoch 1100/2000 Cost: 3.537972\n",
      "Epoch 1200/2000 Cost: 3.360339\n",
      "Epoch 1300/2000 Cost: 3.192076\n",
      "Epoch 1400/2000 Cost: 3.032686\n",
      "Epoch 1500/2000 Cost: 2.881703\n",
      "Epoch 1600/2000 Cost: 2.738666\n",
      "Epoch 1700/2000 Cost: 2.603199\n",
      "Epoch 1800/2000 Cost: 2.474860\n",
      "Epoch 1900/2000 Cost: 2.353289\n",
      "Epoch 2000/2000 Cost: 2.238115\n"
     ]
    }
   ],
   "source": [
    "nb_epochs = 2000\n",
    "for epoch in range(nb_epochs+1):\n",
    "\n",
    "    # H(x) 계산\n",
    "    prediction = model(x_train)\n",
    "    # model(x_train)은 model.forward(x_train)와 동일함.\n",
    "\n",
    "    # cost 계산\n",
    "    cost = F.mse_loss(prediction, y_train) # <== 파이토치에서 제공하는 평균 제곱 오차 함수\n",
    "\n",
    "    # cost로 H(x) 개선하는 부분\n",
    "    # gradient를 0으로 초기화\n",
    "    optimizer.zero_grad()\n",
    "    # 비용 함수를 미분하여 gradient 계산\n",
    "    cost.backward()\n",
    "    # W와 b를 업데이트\n",
    "    optimizer.step()\n",
    "\n",
    "    if epoch % 100 == 0:\n",
    "    # 100번마다 로그 출력\n",
    "      print('Epoch {:4d}/{} Cost: {:.6f}'.format(\n",
    "          epoch, nb_epochs, cost.item()\n",
    "      ))"
   ]
  },
  {
   "cell_type": "code",
   "execution_count": null,
   "metadata": {
    "colab": {
     "base_uri": "https://localhost:8080/"
    },
    "executionInfo": {
     "elapsed": 973,
     "status": "ok",
     "timestamp": 1619684723838,
     "user": {
      "displayName": "박재우",
      "photoUrl": "https://lh3.googleusercontent.com/a-/AOh14GjXI3etzUNsHKseHtKKPAfY_N2c7kAIWyXOMk2v=s64",
      "userId": "10125744057017928750"
     },
     "user_tz": -540
    },
    "id": "8s7VeuIMuxei",
    "outputId": "a146061a-2948-46ab-c7e6-6741c2576df4"
   },
   "outputs": [
    {
     "name": "stdout",
     "output_type": "stream",
     "text": [
      "훈련 후 입력이 73, 80, 75일 때의 예측값 : tensor([[153.7184]], grad_fn=<AddmmBackward>)\n"
     ]
    }
   ],
   "source": [
    "new_var =  torch.FloatTensor([[73, 80, 75]]) \n",
    "# 입력한 값 [73, 80, 75]에 대해서 예측값 y를 리턴받아서 pred_y에 저장\n",
    "pred_y = model(new_var) \n",
    "print(\"훈련 후 입력이 73, 80, 75일 때의 예측값 :\", pred_y) "
   ]
  },
  {
   "cell_type": "code",
   "execution_count": null,
   "metadata": {
    "colab": {
     "base_uri": "https://localhost:8080/"
    },
    "executionInfo": {
     "elapsed": 547,
     "status": "ok",
     "timestamp": 1619684734952,
     "user": {
      "displayName": "박재우",
      "photoUrl": "https://lh3.googleusercontent.com/a-/AOh14GjXI3etzUNsHKseHtKKPAfY_N2c7kAIWyXOMk2v=s64",
      "userId": "10125744057017928750"
     },
     "user_tz": -540
    },
    "id": "98ZfY-xHu4hX",
    "outputId": "74219fcc-41a8-46e0-eb3d-b143b068730c"
   },
   "outputs": [
    {
     "name": "stdout",
     "output_type": "stream",
     "text": [
      "[Parameter containing:\n",
      "tensor([[0.8541, 0.8475, 0.3096]], requires_grad=True), Parameter containing:\n",
      "tensor([0.3568], requires_grad=True)]\n"
     ]
    }
   ],
   "source": [
    "print(list(model.parameters()))"
   ]
  },
  {
   "cell_type": "markdown",
   "metadata": {
    "id": "SyrvLYs2K24x"
   },
   "source": [
    "## 클래스로 파이토치 모델 구현하기"
   ]
  },
  {
   "cell_type": "code",
   "execution_count": 14,
   "metadata": {},
   "outputs": [],
   "source": [
    "import torch\n",
    "import torch.nn as nn\n",
    "import torch.nn.functional as F\n",
    "\n",
    "import torch.optim as optim "
   ]
  },
  {
   "cell_type": "code",
   "execution_count": 3,
   "metadata": {
    "id": "JPBBPRhTu7Vt"
   },
   "outputs": [],
   "source": [
    "model = nn.Linear(1,1)"
   ]
  },
  {
   "cell_type": "code",
   "execution_count": 4,
   "metadata": {
    "id": "zL9mDGiyK-N_"
   },
   "outputs": [],
   "source": [
    "# 모델 구현 형식 숙지\n",
    "\n",
    "class LinearRegressionModel(nn.Module):  # 상속\n",
    "  def __init__(self):  # 초기화\n",
    "    super().__init__() # nn.Module의 속성 상속\n",
    "    self.linear = nn.Linear(1, 1)  # 모델 정의\n",
    "\n",
    "  def forward(self, x): # forward\n",
    "    return self.linear(x)"
   ]
  },
  {
   "cell_type": "code",
   "execution_count": 5,
   "metadata": {
    "id": "uIFlxRbOLUUx"
   },
   "outputs": [],
   "source": [
    "model = LinearRegressionModel()"
   ]
  },
  {
   "cell_type": "code",
   "execution_count": 6,
   "metadata": {
    "id": "N0lzz3FMLYRu"
   },
   "outputs": [],
   "source": [
    "model = nn.Linear(3, 1)"
   ]
  },
  {
   "cell_type": "code",
   "execution_count": 7,
   "metadata": {
    "id": "t-hoyacGL180"
   },
   "outputs": [],
   "source": [
    "class MultivariateLinearRegressionModel(nn.Module):\n",
    "    def __init__(self):\n",
    "        super().__init__()\n",
    "        self.linear = nn.Linear(3, 1) # 다중 선형 회귀이므로 input_dim=3, output_dim=1.\n",
    "\n",
    "    def forward(self, x):\n",
    "        return self.linear(x)"
   ]
  },
  {
   "cell_type": "code",
   "execution_count": 8,
   "metadata": {
    "id": "jjh4oUAGMLSs"
   },
   "outputs": [],
   "source": [
    "model = MultivariateLinearRegressionModel()"
   ]
  },
  {
   "cell_type": "code",
   "execution_count": 43,
   "metadata": {
    "colab": {
     "base_uri": "https://localhost:8080/"
    },
    "executionInfo": {
     "elapsed": 767,
     "status": "ok",
     "timestamp": 1619709477587,
     "user": {
      "displayName": "박재우",
      "photoUrl": "https://lh3.googleusercontent.com/a-/AOh14GjXI3etzUNsHKseHtKKPAfY_N2c7kAIWyXOMk2v=s64",
      "userId": "10125744057017928750"
     },
     "user_tz": -540
    },
    "id": "sbl7rlNwMMpl",
    "outputId": "c33d12ac-9f50-4401-d6ca-4cfb458de2bf"
   },
   "outputs": [
    {
     "data": {
      "text/plain": [
       "<torch._C.Generator at 0x13af588eb50>"
      ]
     },
     "execution_count": 43,
     "metadata": {},
     "output_type": "execute_result"
    }
   ],
   "source": [
    "torch.manual_seed(1)"
   ]
  },
  {
   "cell_type": "markdown",
   "metadata": {},
   "source": [
    "- 달라진 점은 클래스로 구현했다는 점"
   ]
  },
  {
   "cell_type": "code",
   "execution_count": 10,
   "metadata": {
    "id": "BqkKYLAbNT99"
   },
   "outputs": [],
   "source": [
    "x_train = torch.FloatTensor([[1], [2], [3]])\n",
    "y_train = torch.FloatTensor([[2], [4], [6]])"
   ]
  },
  {
   "cell_type": "code",
   "execution_count": 11,
   "metadata": {
    "id": "fDdsPl1tNWMZ"
   },
   "outputs": [],
   "source": [
    "class LinearRegressionModel(nn.Module):\n",
    "  def __init__(self):\n",
    "    super().__init__()\n",
    "    self.linear = nn.Linear(1, 1)\n",
    "\n",
    "  def forward(self, x):\n",
    "    return self.linear(x)"
   ]
  },
  {
   "cell_type": "code",
   "execution_count": 12,
   "metadata": {
    "id": "7fQwuV-TNlAe"
   },
   "outputs": [],
   "source": [
    "model = LinearRegressionModel()"
   ]
  },
  {
   "cell_type": "code",
   "execution_count": 15,
   "metadata": {
    "id": "rpgeDSfcNoPL"
   },
   "outputs": [],
   "source": [
    "# 옵티마이저 설정\n",
    "optimizer = optim.SGD(model.parameters(), lr=0.01)"
   ]
  },
  {
   "cell_type": "code",
   "execution_count": 16,
   "metadata": {
    "colab": {
     "base_uri": "https://localhost:8080/"
    },
    "executionInfo": {
     "elapsed": 1733,
     "status": "ok",
     "timestamp": 1619709801517,
     "user": {
      "displayName": "박재우",
      "photoUrl": "https://lh3.googleusercontent.com/a-/AOh14GjXI3etzUNsHKseHtKKPAfY_N2c7kAIWyXOMk2v=s64",
      "userId": "10125744057017928750"
     },
     "user_tz": -540
    },
    "id": "6G_f5RT5NwX1",
    "outputId": "240e2bb6-ce35-4b35-df26-d0afd025b633"
   },
   "outputs": [
    {
     "name": "stdout",
     "output_type": "stream",
     "text": [
      "Epoch    0/2000 Cost:13.103541\n",
      "Epoch  100/2000 Cost:0.002791\n",
      "Epoch  200/2000 Cost:0.001724\n",
      "Epoch  300/2000 Cost:0.001066\n",
      "Epoch  400/2000 Cost:0.000658\n",
      "Epoch  500/2000 Cost:0.000407\n",
      "Epoch  600/2000 Cost:0.000251\n",
      "Epoch  700/2000 Cost:0.000155\n",
      "Epoch  800/2000 Cost:0.000096\n",
      "Epoch  900/2000 Cost:0.000059\n",
      "Epoch 1000/2000 Cost:0.000037\n",
      "Epoch 1100/2000 Cost:0.000023\n",
      "Epoch 1200/2000 Cost:0.000014\n",
      "Epoch 1300/2000 Cost:0.000009\n",
      "Epoch 1400/2000 Cost:0.000005\n",
      "Epoch 1500/2000 Cost:0.000003\n",
      "Epoch 1600/2000 Cost:0.000002\n",
      "Epoch 1700/2000 Cost:0.000001\n",
      "Epoch 1800/2000 Cost:0.000001\n",
      "Epoch 1900/2000 Cost:0.000000\n",
      "Epoch 2000/2000 Cost:0.000000\n"
     ]
    }
   ],
   "source": [
    "# 에포크 2000번\n",
    "num_epochs = 2000\n",
    "for epoch in range(num_epochs + 1):\n",
    "    \n",
    "    # 순전파\n",
    "    pred = model(x_train)\n",
    "    cost = F.mse_loss(pred, y_train)\n",
    "\n",
    "    # 역전파\n",
    "    optimizer.zero_grad()\n",
    "    cost.backward()\n",
    "    optimizer.step()\n",
    "\n",
    "    if epoch % 100 == 0:\n",
    "        print(\"Epoch {:4d}/{} Cost:{:6f}\".format(epoch, num_epochs, cost.item()))"
   ]
  },
  {
   "cell_type": "code",
   "execution_count": 17,
   "metadata": {
    "id": "LHAP0W-eOcc7"
   },
   "outputs": [],
   "source": [
    "x_train = torch.FloatTensor([[73, 80, 75],\n",
    "                             [93, 88, 93],\n",
    "                             [89, 91, 90],\n",
    "                             [96, 98, 100],\n",
    "                             [73, 66, 70]])\n",
    "y_train = torch.FloatTensor([[152], [185], [180], [196], [142]])"
   ]
  },
  {
   "cell_type": "code",
   "execution_count": 18,
   "metadata": {
    "id": "OuXFTKwWOmgk"
   },
   "outputs": [],
   "source": [
    "# 클래스 정의\n",
    "class MultivariateLinearRegressionModel(nn.Module):\n",
    "    def __init__(self):\n",
    "        super().__init__()\n",
    "        self.linear = nn.Linear(3, 1) # 다중 선형 회귀이므로 input_dim=3, output_dim=1.\n",
    "\n",
    "    def forward(self, x):\n",
    "        return self.linear(x)"
   ]
  },
  {
   "cell_type": "code",
   "execution_count": 19,
   "metadata": {
    "id": "KsNZ3svKOoBd"
   },
   "outputs": [],
   "source": [
    "model = MultivariateLinearRegressionModel()\n",
    "optimizer = optim.SGD(model.parameters(), lr=1e-5)"
   ]
  },
  {
   "cell_type": "code",
   "execution_count": 20,
   "metadata": {
    "colab": {
     "base_uri": "https://localhost:8080/"
    },
    "executionInfo": {
     "elapsed": 1559,
     "status": "ok",
     "timestamp": 1619709993759,
     "user": {
      "displayName": "박재우",
      "photoUrl": "https://lh3.googleusercontent.com/a-/AOh14GjXI3etzUNsHKseHtKKPAfY_N2c7kAIWyXOMk2v=s64",
      "userId": "10125744057017928750"
     },
     "user_tz": -540
    },
    "id": "kVFIilSWOxmz",
    "outputId": "6188dc0f-e0f4-45f4-9497-98dc09ec89d1"
   },
   "outputs": [
    {
     "name": "stdout",
     "output_type": "stream",
     "text": [
      "Epoch    0/2000 Cost:42134.707031\n",
      "Epoch  100/2000 Cost:5.960053\n",
      "Epoch  200/2000 Cost:5.654707\n",
      "Epoch  300/2000 Cost:5.365413\n",
      "Epoch  400/2000 Cost:5.091429\n",
      "Epoch  500/2000 Cost:4.831834\n",
      "Epoch  600/2000 Cost:4.585997\n",
      "Epoch  700/2000 Cost:4.353075\n",
      "Epoch  800/2000 Cost:4.132411\n",
      "Epoch  900/2000 Cost:3.923455\n",
      "Epoch 1000/2000 Cost:3.725502\n",
      "Epoch 1100/2000 Cost:3.537972\n",
      "Epoch 1200/2000 Cost:3.360326\n",
      "Epoch 1300/2000 Cost:3.192056\n",
      "Epoch 1400/2000 Cost:3.032674\n",
      "Epoch 1500/2000 Cost:2.881700\n",
      "Epoch 1600/2000 Cost:2.738672\n",
      "Epoch 1700/2000 Cost:2.603201\n",
      "Epoch 1800/2000 Cost:2.474846\n",
      "Epoch 1900/2000 Cost:2.353286\n",
      "Epoch 2000/2000 Cost:2.238110\n"
     ]
    }
   ],
   "source": [
    "num_epochs = 2000\n",
    "for epoch in range(num_epochs + 1):\n",
    "\n",
    "    # 순전파\n",
    "    pred = model(x_train)\n",
    "    cost = F.mse_loss(pred, y_train)\n",
    "\n",
    "    # 역전파\n",
    "    optimizer.zero_grad()\n",
    "    cost.backward()\n",
    "    optimizer.step()\n",
    "\n",
    "    if epoch % 100 == 0:\n",
    "        print(\"Epoch {:4d}/{} Cost:{:6f}\".format(epoch, num_epochs, cost.item()))"
   ]
  },
  {
   "cell_type": "markdown",
   "metadata": {
    "id": "BbI9mkT3PV-0"
   },
   "source": [
    "## 미니 배치와 데이터 로드\n",
    "- 데이터가 수십만개 이상이라면,\n",
    "    - 전체 데이터에 대해서 경사 하강법을 수행하는 것은 매우 느림(메모리 소요)\n",
    "- 데이터를 작은 단위로 나눠 해당 단위로 학습 : 미니배치 경사하강법\n",
    "    - 미니 배치만큼 비용(cost)를 계산하고 경사하강법\n",
    "        - 전체가 다 끝나면 1 에포크(동일개념)\n",
    "    - 미니 배치의 크기 : batch size(보통 2의 제곱수 활용)\n",
    "    - 전체 데이터의 일부만을 보고 수행\n",
    "    - 최적값으로 수렴하는 과정에서 값이 조금 헤맴, 훈련 속도는 빠름\n",
    "    \n",
    "![](https://wikidocs.net/images/page/55580/%EB%AF%B8%EB%8B%88%EB%B0%B0%EC%B9%98.PNG)"
   ]
  },
  {
   "cell_type": "markdown",
   "metadata": {},
   "source": [
    "- 이터레이션\n",
    "    - 파라미터 업데이트 횟수 \n",
    "        - total data / batch size\n",
    "        \n",
    "![](https://wikidocs.net/images/page/36033/batchandepochiteration.PNG)"
   ]
  },
  {
   "cell_type": "markdown",
   "metadata": {},
   "source": [
    "### 데이터로드\n",
    "- 데이터셋(Dataset)과 데이터로더(DataLoader)를 제공"
   ]
  },
  {
   "cell_type": "code",
   "execution_count": 61,
   "metadata": {},
   "outputs": [],
   "source": [
    "import torch\n",
    "import torch.nn as nn\n",
    "import torch.nn.functional as F"
   ]
  },
  {
   "cell_type": "code",
   "execution_count": 62,
   "metadata": {},
   "outputs": [],
   "source": [
    "from torch.utils.data import TensorDataset # 텐서데이터셋\n",
    "from torch.utils.data import DataLoader # 데이터로더"
   ]
  },
  {
   "cell_type": "code",
   "execution_count": 63,
   "metadata": {},
   "outputs": [
    {
     "data": {
      "text/plain": [
       "<torch._C.Generator at 0x13af588eb50>"
      ]
     },
     "execution_count": 63,
     "metadata": {},
     "output_type": "execute_result"
    }
   ],
   "source": [
    "torch.manual_seed(1)"
   ]
  },
  {
   "cell_type": "code",
   "execution_count": 64,
   "metadata": {
    "executionInfo": {
     "elapsed": 714,
     "status": "ok",
     "timestamp": 1619758923986,
     "user": {
      "displayName": "박재우",
      "photoUrl": "https://lh3.googleusercontent.com/a-/AOh14GjXI3etzUNsHKseHtKKPAfY_N2c7kAIWyXOMk2v=s64",
      "userId": "10125744057017928750"
     },
     "user_tz": -540
    },
    "id": "FMUJTLZXJ1aT"
   },
   "outputs": [],
   "source": [
    "x_train = torch.FloatTensor([[73, 80, 75],\n",
    "                             [93, 88, 93],\n",
    "                             [89, 91, 90],\n",
    "                             [96, 98, 100],\n",
    "                             [73, 66, 70]])\n",
    "y_train = torch.FloatTensor([[152], [185], [180], [196], [142]])"
   ]
  },
  {
   "cell_type": "code",
   "execution_count": 65,
   "metadata": {
    "executionInfo": {
     "elapsed": 762,
     "status": "ok",
     "timestamp": 1619759005937,
     "user": {
      "displayName": "박재우",
      "photoUrl": "https://lh3.googleusercontent.com/a-/AOh14GjXI3etzUNsHKseHtKKPAfY_N2c7kAIWyXOMk2v=s64",
      "userId": "10125744057017928750"
     },
     "user_tz": -540
    },
    "id": "HgoMPVwoJ7wz"
   },
   "outputs": [],
   "source": [
    "# TensorDataset\n",
    "dataset = TensorDataset(x_train, y_train) # TensorDataset : 턴서를 입력으로"
   ]
  },
  {
   "cell_type": "code",
   "execution_count": 71,
   "metadata": {},
   "outputs": [
    {
     "data": {
      "text/plain": [
       "<torch.utils.data.dataset.TensorDataset at 0x13af17289a0>"
      ]
     },
     "execution_count": 71,
     "metadata": {},
     "output_type": "execute_result"
    }
   ],
   "source": [
    "dataset"
   ]
  },
  {
   "cell_type": "code",
   "execution_count": 66,
   "metadata": {
    "executionInfo": {
     "elapsed": 621,
     "status": "ok",
     "timestamp": 1619759156297,
     "user": {
      "displayName": "박재우",
      "photoUrl": "https://lh3.googleusercontent.com/a-/AOh14GjXI3etzUNsHKseHtKKPAfY_N2c7kAIWyXOMk2v=s64",
      "userId": "10125744057017928750"
     },
     "user_tz": -540
    },
    "id": "Qn86mtxDKP1D"
   },
   "outputs": [],
   "source": [
    "# batch_size, shuffle :에포크마다 데이터 섞음 (True 권장)\n",
    "dataloader = DataLoader(dataset, batch_size=2, shuffle=True)"
   ]
  },
  {
   "cell_type": "code",
   "execution_count": 59,
   "metadata": {
    "executionInfo": {
     "elapsed": 661,
     "status": "ok",
     "timestamp": 1619759078252,
     "user": {
      "displayName": "박재우",
      "photoUrl": "https://lh3.googleusercontent.com/a-/AOh14GjXI3etzUNsHKseHtKKPAfY_N2c7kAIWyXOMk2v=s64",
      "userId": "10125744057017928750"
     },
     "user_tz": -540
    },
    "id": "j6BS89LgKVd-"
   },
   "outputs": [],
   "source": [
    "# 모델정의\n",
    "model = nn.Linear(3, 1)\n",
    "optimizer = optim.SGD(model.parameters(), lr=1e-5)"
   ]
  },
  {
   "cell_type": "code",
   "execution_count": 67,
   "metadata": {},
   "outputs": [],
   "source": [
    "# 클래스 정의\n",
    "class MultivariateLinearRegressionModel(nn.Module):\n",
    "    def __init__(self):\n",
    "        super().__init__()\n",
    "        self.linear = nn.Linear(3, 1) # 다중 선형 회귀이므로 input_dim=3, output_dim=1.\n",
    "\n",
    "    def forward(self, x):\n",
    "        return self.linear(x)"
   ]
  },
  {
   "cell_type": "code",
   "execution_count": 68,
   "metadata": {},
   "outputs": [],
   "source": [
    "model = MultivariateLinearRegressionModel()\n",
    "optimizer = optim.SGD(model.parameters(), lr=1e-5)"
   ]
  },
  {
   "cell_type": "code",
   "execution_count": 69,
   "metadata": {
    "colab": {
     "base_uri": "https://localhost:8080/"
    },
    "executionInfo": {
     "elapsed": 535,
     "status": "ok",
     "timestamp": 1619759320493,
     "user": {
      "displayName": "박재우",
      "photoUrl": "https://lh3.googleusercontent.com/a-/AOh14GjXI3etzUNsHKseHtKKPAfY_N2c7kAIWyXOMk2v=s64",
      "userId": "10125744057017928750"
     },
     "user_tz": -540
    },
    "id": "ltPn-CFvKf8e",
    "outputId": "81efc2b6-7b4e-4293-8b46-78a2ac2fce20"
   },
   "outputs": [
    {
     "name": "stdout",
     "output_type": "stream",
     "text": [
      "Epoch    0/20 Batch 1/3 Cost: 23071.781250\n",
      "Epoch    0/20 Batch 2/3 Cost: 17581.359375\n",
      "Epoch    0/20 Batch 3/3 Cost: 3703.553467\n",
      "Epoch    1/20 Batch 1/3 Cost: 857.132324\n",
      "Epoch    1/20 Batch 2/3 Cost: 194.912857\n",
      "Epoch    1/20 Batch 3/3 Cost: 103.150658\n",
      "Epoch    2/20 Batch 1/3 Cost: 16.461069\n",
      "Epoch    2/20 Batch 2/3 Cost: 10.970690\n",
      "Epoch    2/20 Batch 3/3 Cost: 2.953053\n",
      "Epoch    3/20 Batch 1/3 Cost: 1.246350\n",
      "Epoch    3/20 Batch 2/3 Cost: 0.095024\n",
      "Epoch    3/20 Batch 3/3 Cost: 0.104377\n",
      "Epoch    4/20 Batch 1/3 Cost: 0.678422\n",
      "Epoch    4/20 Batch 2/3 Cost: 0.123370\n",
      "Epoch    4/20 Batch 3/3 Cost: 0.118070\n",
      "Epoch    5/20 Batch 1/3 Cost: 0.094797\n",
      "Epoch    5/20 Batch 2/3 Cost: 0.531496\n",
      "Epoch    5/20 Batch 3/3 Cost: 0.011198\n",
      "Epoch    6/20 Batch 1/3 Cost: 0.219984\n",
      "Epoch    6/20 Batch 2/3 Cost: 0.042412\n",
      "Epoch    6/20 Batch 3/3 Cost: 0.917457\n",
      "Epoch    7/20 Batch 1/3 Cost: 0.213805\n",
      "Epoch    7/20 Batch 2/3 Cost: 0.640249\n",
      "Epoch    7/20 Batch 3/3 Cost: 0.005267\n",
      "Epoch    8/20 Batch 1/3 Cost: 0.454904\n",
      "Epoch    8/20 Batch 2/3 Cost: 0.011374\n",
      "Epoch    8/20 Batch 3/3 Cost: 0.298689\n",
      "Epoch    9/20 Batch 1/3 Cost: 0.560365\n",
      "Epoch    9/20 Batch 2/3 Cost: 0.011228\n",
      "Epoch    9/20 Batch 3/3 Cost: 0.244160\n",
      "Epoch   10/20 Batch 1/3 Cost: 0.613739\n",
      "Epoch   10/20 Batch 2/3 Cost: 0.024911\n",
      "Epoch   10/20 Batch 3/3 Cost: 0.066365\n",
      "Epoch   11/20 Batch 1/3 Cost: 0.116626\n",
      "Epoch   11/20 Batch 2/3 Cost: 0.045004\n",
      "Epoch   11/20 Batch 3/3 Cost: 0.958777\n",
      "Epoch   12/20 Batch 1/3 Cost: 0.234996\n",
      "Epoch   12/20 Batch 2/3 Cost: 0.154496\n",
      "Epoch   12/20 Batch 3/3 Cost: 0.861088\n",
      "Epoch   13/20 Batch 1/3 Cost: 0.398488\n",
      "Epoch   13/20 Batch 2/3 Cost: 0.304441\n",
      "Epoch   13/20 Batch 3/3 Cost: 0.015352\n",
      "Epoch   14/20 Batch 1/3 Cost: 0.050674\n",
      "Epoch   14/20 Batch 2/3 Cost: 0.482778\n",
      "Epoch   14/20 Batch 3/3 Cost: 0.414241\n",
      "Epoch   15/20 Batch 1/3 Cost: 0.513222\n",
      "Epoch   15/20 Batch 2/3 Cost: 0.068332\n",
      "Epoch   15/20 Batch 3/3 Cost: 0.215187\n",
      "Epoch   16/20 Batch 1/3 Cost: 0.069614\n",
      "Epoch   16/20 Batch 2/3 Cost: 0.052825\n",
      "Epoch   16/20 Batch 3/3 Cost: 1.164131\n",
      "Epoch   17/20 Batch 1/3 Cost: 0.034010\n",
      "Epoch   17/20 Batch 2/3 Cost: 0.486735\n",
      "Epoch   17/20 Batch 3/3 Cost: 0.209226\n",
      "Epoch   18/20 Batch 1/3 Cost: 0.024246\n",
      "Epoch   18/20 Batch 2/3 Cost: 0.129105\n",
      "Epoch   18/20 Batch 3/3 Cost: 1.134490\n",
      "Epoch   19/20 Batch 1/3 Cost: 0.490361\n",
      "Epoch   19/20 Batch 2/3 Cost: 0.154791\n",
      "Epoch   19/20 Batch 3/3 Cost: 0.011797\n",
      "Epoch   20/20 Batch 1/3 Cost: 0.408733\n",
      "Epoch   20/20 Batch 2/3 Cost: 0.194442\n",
      "Epoch   20/20 Batch 3/3 Cost: 0.004536\n"
     ]
    }
   ],
   "source": [
    "num_epochs = 20\n",
    "for epoch in range(num_epochs + 1):\n",
    "    for batch_idx, samples in enumerate(dataloader):\n",
    "    \n",
    "        # print(batch_idx)\n",
    "        # print(samples)    \n",
    "\n",
    "        # 미니배치\n",
    "        x_train, y_train = samples \n",
    "        # 순전파  \n",
    "        pred = model(x_train)\n",
    "        cost = F.mse_loss(pred, y_train)\n",
    "\n",
    "        # 역전파\n",
    "        optimizer.zero_grad()\n",
    "        cost.backward()\n",
    "        optimizer.step()\n",
    "\n",
    "        print('Epoch {:4d}/{} Batch {}/{} Cost: {:.6f}'.format(\n",
    "            epoch, num_epochs, batch_idx+1, len(dataloader),\n",
    "            cost.item()))"
   ]
  },
  {
   "cell_type": "code",
   "execution_count": 70,
   "metadata": {
    "colab": {
     "base_uri": "https://localhost:8080/"
    },
    "executionInfo": {
     "elapsed": 640,
     "status": "ok",
     "timestamp": 1619759465881,
     "user": {
      "displayName": "박재우",
      "photoUrl": "https://lh3.googleusercontent.com/a-/AOh14GjXI3etzUNsHKseHtKKPAfY_N2c7kAIWyXOMk2v=s64",
      "userId": "10125744057017928750"
     },
     "user_tz": -540
    },
    "id": "y6YD9QsmLq3k",
    "outputId": "a6629231-bd02-4659-a1ba-5f918d194ef6"
   },
   "outputs": [
    {
     "name": "stdout",
     "output_type": "stream",
     "text": [
      "훈련 후 입력이 73, 80, 75일 때의 예측값 : tensor([[151.0829]], grad_fn=<AddmmBackward0>)\n"
     ]
    }
   ],
   "source": [
    "new_var = torch.FloatTensor([[73, 80, 75]])\n",
    "pred = model.forward(new_var)\n",
    "print(\"훈련 후 입력이 73, 80, 75일 때의 예측값 :\", pred)"
   ]
  },
  {
   "cell_type": "markdown",
   "metadata": {
    "id": "BveBDdSrME_z"
   },
   "source": [
    "## 커스텀 데이터셋\n",
    "-기본적인 파이토치 구조 : Dataset > DataLoader"
   ]
  },
  {
   "cell_type": "code",
   "execution_count": 79,
   "metadata": {},
   "outputs": [],
   "source": [
    "import torch\n",
    "import torch.nn.functional as F"
   ]
  },
  {
   "cell_type": "code",
   "execution_count": 80,
   "metadata": {},
   "outputs": [],
   "source": [
    "from torch.utils.data import Dataset\n",
    "from torch.utils.data import DataLoader"
   ]
  },
  {
   "cell_type": "code",
   "execution_count": 81,
   "metadata": {},
   "outputs": [
    {
     "data": {
      "text/plain": [
       "<torch._C.Generator at 0x13af588eb50>"
      ]
     },
     "execution_count": 81,
     "metadata": {},
     "output_type": "execute_result"
    }
   ],
   "source": [
    "torch.manual_seed(1)"
   ]
  },
  {
   "cell_type": "code",
   "execution_count": 82,
   "metadata": {
    "executionInfo": {
     "elapsed": 517,
     "status": "ok",
     "timestamp": 1619760916258,
     "user": {
      "displayName": "박재우",
      "photoUrl": "https://lh3.googleusercontent.com/a-/AOh14GjXI3etzUNsHKseHtKKPAfY_N2c7kAIWyXOMk2v=s64",
      "userId": "10125744057017928750"
     },
     "user_tz": -540
    },
    "id": "TAX5RggbMH6x"
   },
   "outputs": [],
   "source": [
    "# 기본적 뼈대\n",
    "class CustomDataset(torch.utils.data.Dataset):  # 상속\n",
    "  def __init__(self):  # 초기화\n",
    "    self.x_data = [[73, 80, 75],\n",
    "                   [93, 88, 93],\n",
    "                   [89, 91, 90],\n",
    "                   [96, 98, 100],\n",
    "                   [73, 66, 70]]\n",
    "    self.y_data = [[152], [185], [180], [196], [142]]\n",
    "\n",
    "  # 총 데이터의 개수를 리턴\n",
    "  def __len__(self): \n",
    "    return len(self.x_data)\n",
    "\n",
    "  # 인덱스를 입력받아 그에 맵핑되는 입출력 데이터를 파이토치의 Tensor 형태로 리턴\n",
    "  def __getitem__(self, idx): \n",
    "    x = torch.FloatTensor(self.x_data[idx]) # 인덱싱\n",
    "    y = torch.FloatTensor(self.y_data[idx])\n",
    "    return x, y"
   ]
  },
  {
   "cell_type": "code",
   "execution_count": 83,
   "metadata": {
    "executionInfo": {
     "elapsed": 653,
     "status": "ok",
     "timestamp": 1619760920680,
     "user": {
      "displayName": "박재우",
      "photoUrl": "https://lh3.googleusercontent.com/a-/AOh14GjXI3etzUNsHKseHtKKPAfY_N2c7kAIWyXOMk2v=s64",
      "userId": "10125744057017928750"
     },
     "user_tz": -540
    },
    "id": "Tn9i5LfMMsm1"
   },
   "outputs": [],
   "source": [
    "dataset = CustomDataset()\n",
    "dataloader = DataLoader(dataset, batch_size=2, shuffle=True)"
   ]
  },
  {
   "cell_type": "code",
   "execution_count": 84,
   "metadata": {
    "executionInfo": {
     "elapsed": 397,
     "status": "ok",
     "timestamp": 1619760922101,
     "user": {
      "displayName": "박재우",
      "photoUrl": "https://lh3.googleusercontent.com/a-/AOh14GjXI3etzUNsHKseHtKKPAfY_N2c7kAIWyXOMk2v=s64",
      "userId": "10125744057017928750"
     },
     "user_tz": -540
    },
    "id": "tAYIuCnjPmBa"
   },
   "outputs": [],
   "source": [
    "# model = torch.nn.Linear(3, 1)\n",
    "# optimizer = optim.SGD(model.parameters(), lr=1e-5)\n",
    "\n",
    "model = MultivariateLinearRegressionModel()\n",
    "optimizer = optim.SGD(model.parameters(), lr=1e-5)"
   ]
  },
  {
   "cell_type": "code",
   "execution_count": 85,
   "metadata": {
    "colab": {
     "base_uri": "https://localhost:8080/"
    },
    "executionInfo": {
     "elapsed": 642,
     "status": "ok",
     "timestamp": 1619760923328,
     "user": {
      "displayName": "박재우",
      "photoUrl": "https://lh3.googleusercontent.com/a-/AOh14GjXI3etzUNsHKseHtKKPAfY_N2c7kAIWyXOMk2v=s64",
      "userId": "10125744057017928750"
     },
     "user_tz": -540
    },
    "id": "nIpeD8FhPzmJ",
    "outputId": "1bed3361-09cc-4a65-a656-0e9534dc723b"
   },
   "outputs": [
    {
     "name": "stdout",
     "output_type": "stream",
     "text": [
      "Epoch    0/20 Batch 1/3 Cost: 23071.781250\n",
      "Epoch    0/20 Batch 2/3 Cost: 17581.359375\n",
      "Epoch    0/20 Batch 3/3 Cost: 3703.553467\n",
      "Epoch    1/20 Batch 1/3 Cost: 857.132324\n",
      "Epoch    1/20 Batch 2/3 Cost: 194.912857\n",
      "Epoch    1/20 Batch 3/3 Cost: 103.150658\n",
      "Epoch    2/20 Batch 1/3 Cost: 16.461069\n",
      "Epoch    2/20 Batch 2/3 Cost: 10.970690\n",
      "Epoch    2/20 Batch 3/3 Cost: 2.953053\n",
      "Epoch    3/20 Batch 1/3 Cost: 1.246350\n",
      "Epoch    3/20 Batch 2/3 Cost: 0.095024\n",
      "Epoch    3/20 Batch 3/3 Cost: 0.104377\n",
      "Epoch    4/20 Batch 1/3 Cost: 0.678422\n",
      "Epoch    4/20 Batch 2/3 Cost: 0.123370\n",
      "Epoch    4/20 Batch 3/3 Cost: 0.118070\n",
      "Epoch    5/20 Batch 1/3 Cost: 0.094797\n",
      "Epoch    5/20 Batch 2/3 Cost: 0.531496\n",
      "Epoch    5/20 Batch 3/3 Cost: 0.011198\n",
      "Epoch    6/20 Batch 1/3 Cost: 0.219984\n",
      "Epoch    6/20 Batch 2/3 Cost: 0.042412\n",
      "Epoch    6/20 Batch 3/3 Cost: 0.917457\n",
      "Epoch    7/20 Batch 1/3 Cost: 0.213805\n",
      "Epoch    7/20 Batch 2/3 Cost: 0.640249\n",
      "Epoch    7/20 Batch 3/3 Cost: 0.005267\n",
      "Epoch    8/20 Batch 1/3 Cost: 0.454904\n",
      "Epoch    8/20 Batch 2/3 Cost: 0.011374\n",
      "Epoch    8/20 Batch 3/3 Cost: 0.298689\n",
      "Epoch    9/20 Batch 1/3 Cost: 0.560365\n",
      "Epoch    9/20 Batch 2/3 Cost: 0.011228\n",
      "Epoch    9/20 Batch 3/3 Cost: 0.244160\n",
      "Epoch   10/20 Batch 1/3 Cost: 0.613739\n",
      "Epoch   10/20 Batch 2/3 Cost: 0.024911\n",
      "Epoch   10/20 Batch 3/3 Cost: 0.066365\n",
      "Epoch   11/20 Batch 1/3 Cost: 0.116626\n",
      "Epoch   11/20 Batch 2/3 Cost: 0.045004\n",
      "Epoch   11/20 Batch 3/3 Cost: 0.958777\n",
      "Epoch   12/20 Batch 1/3 Cost: 0.234996\n",
      "Epoch   12/20 Batch 2/3 Cost: 0.154496\n",
      "Epoch   12/20 Batch 3/3 Cost: 0.861088\n",
      "Epoch   13/20 Batch 1/3 Cost: 0.398488\n",
      "Epoch   13/20 Batch 2/3 Cost: 0.304441\n",
      "Epoch   13/20 Batch 3/3 Cost: 0.015352\n",
      "Epoch   14/20 Batch 1/3 Cost: 0.050674\n",
      "Epoch   14/20 Batch 2/3 Cost: 0.482778\n",
      "Epoch   14/20 Batch 3/3 Cost: 0.414241\n",
      "Epoch   15/20 Batch 1/3 Cost: 0.513222\n",
      "Epoch   15/20 Batch 2/3 Cost: 0.068332\n",
      "Epoch   15/20 Batch 3/3 Cost: 0.215187\n",
      "Epoch   16/20 Batch 1/3 Cost: 0.069614\n",
      "Epoch   16/20 Batch 2/3 Cost: 0.052825\n",
      "Epoch   16/20 Batch 3/3 Cost: 1.164131\n",
      "Epoch   17/20 Batch 1/3 Cost: 0.034010\n",
      "Epoch   17/20 Batch 2/3 Cost: 0.486735\n",
      "Epoch   17/20 Batch 3/3 Cost: 0.209226\n",
      "Epoch   18/20 Batch 1/3 Cost: 0.024246\n",
      "Epoch   18/20 Batch 2/3 Cost: 0.129105\n",
      "Epoch   18/20 Batch 3/3 Cost: 1.134490\n",
      "Epoch   19/20 Batch 1/3 Cost: 0.490361\n",
      "Epoch   19/20 Batch 2/3 Cost: 0.154791\n",
      "Epoch   19/20 Batch 3/3 Cost: 0.011797\n",
      "Epoch   20/20 Batch 1/3 Cost: 0.408733\n",
      "Epoch   20/20 Batch 2/3 Cost: 0.194442\n",
      "Epoch   20/20 Batch 3/3 Cost: 0.004536\n"
     ]
    }
   ],
   "source": [
    "nb_epochs = 20\n",
    "for epoch in range(nb_epochs + 1):\n",
    "    for batch_idx, samples in enumerate(dataloader):\n",
    "    # print(batch_idx)\n",
    "    # print(samples)\n",
    "        x_train, y_train = samples\n",
    "\n",
    "        # H(x) 계산\n",
    "        prediction = model(x_train)\n",
    "        # cost 계산\n",
    "        cost = F.mse_loss(prediction, y_train)\n",
    "\n",
    "        # cost로 H(x) 계산\n",
    "        optimizer.zero_grad()\n",
    "        cost.backward()\n",
    "        optimizer.step()\n",
    "\n",
    "        print('Epoch {:4d}/{} Batch {}/{} Cost: {:.6f}'.format(\n",
    "            epoch, nb_epochs, batch_idx+1, len(dataloader),\n",
    "            cost.item()\n",
    "            ))"
   ]
  },
  {
   "cell_type": "code",
   "execution_count": 86,
   "metadata": {
    "colab": {
     "base_uri": "https://localhost:8080/"
    },
    "executionInfo": {
     "elapsed": 503,
     "status": "ok",
     "timestamp": 1619760947788,
     "user": {
      "displayName": "박재우",
      "photoUrl": "https://lh3.googleusercontent.com/a-/AOh14GjXI3etzUNsHKseHtKKPAfY_N2c7kAIWyXOMk2v=s64",
      "userId": "10125744057017928750"
     },
     "user_tz": -540
    },
    "id": "Y11JwJjYQX1Y",
    "outputId": "933ce323-438e-4185-98a7-3bcf874d920a"
   },
   "outputs": [
    {
     "name": "stdout",
     "output_type": "stream",
     "text": [
      "훈련 후 입력이 73, 80, 75일 때의 예측값 : tensor([[151.0829]], grad_fn=<AddmmBackward0>)\n"
     ]
    }
   ],
   "source": [
    "new_var =  torch.FloatTensor([[73, 80, 75]]) \n",
    "# 입력한 값 [73, 80, 75]에 대해서 예측값 y를 리턴받아서 pred_y에 저장\n",
    "pred_y = model(new_var) \n",
    "print(\"훈련 후 입력이 73, 80, 75일 때의 예측값 :\", pred_y) "
   ]
  }
 ],
 "metadata": {
  "colab": {
   "authorship_tag": "ABX9TyMNbiAwViRDy+YhMvt8vz66",
   "collapsed_sections": [],
   "name": "Ch03. 선형 회귀.ipynb",
   "provenance": []
  },
  "kernelspec": {
   "display_name": "Python 3 (ipykernel)",
   "language": "python",
   "name": "python3"
  },
  "language_info": {
   "codemirror_mode": {
    "name": "ipython",
    "version": 3
   },
   "file_extension": ".py",
   "mimetype": "text/x-python",
   "name": "python",
   "nbconvert_exporter": "python",
   "pygments_lexer": "ipython3",
   "version": "3.8.13"
  }
 },
 "nbformat": 4,
 "nbformat_minor": 4
}
